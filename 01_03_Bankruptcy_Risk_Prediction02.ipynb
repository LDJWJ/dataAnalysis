{
 "cells": [
  {
   "cell_type": "markdown",
   "metadata": {},
   "source": [
    "## [은행파산 위기 데이터 분석] \n",
    " * 개인의 파산을 예측하는 대회\n",
    " * 데이터 출처 : https://www.kaggle.com/competitions/bankruptcy-risk-prediction\n",
    " \n",
    " * 데이터 분석 코드\n",
    "   * [github 코드](https://github.com/LDJWJ/dataAnalysis/blob/main/01_03_Bankruptcy_Risk_Prediction02.ipynb)\n",
    "   * [HTML코드](https://ldjwj.github.io/dataAnalysis/01_03_Bankruptcy_Risk_Prediction02.html)"
   ]
  },
  {
   "cell_type": "markdown",
   "metadata": {},
   "source": [
    "### 대회 개요\n",
    " * 대회 측정 지표 : ROC~AUC\n",
    " * 예측 : proba - true label 예측 확률\n",
    " * 데이터 셋 \n",
    "   * test.csv\n",
    "   * train.csv\n",
    "   * submission_example.csv"
   ]
  },
  {
   "cell_type": "markdown",
   "metadata": {},
   "source": [
    "### 라이브러리 불러오기"
   ]
  },
  {
   "cell_type": "code",
   "execution_count": 1,
   "metadata": {},
   "outputs": [],
   "source": [
    "import pandas as pd\n",
    "import seaborn as sns\n",
    "import numpy as np\n",
    "import matplotlib.pyplot as plt\n",
    "\n",
    "from sklearn.model_selection import train_test_split"
   ]
  },
  {
   "cell_type": "markdown",
   "metadata": {},
   "source": [
    "### 데이터 불러오기"
   ]
  },
  {
   "cell_type": "code",
   "execution_count": 2,
   "metadata": {},
   "outputs": [
    {
     "data": {
      "text/plain": [
       "((800, 22), (200, 21), (200, 2))"
      ]
     },
     "execution_count": 2,
     "metadata": {},
     "output_type": "execute_result"
    }
   ],
   "source": [
    "sub = pd.read_csv(\"./data/Bankruptcy/submission_example.csv\")\n",
    "train = pd.read_csv(\"./data/Bankruptcy/train.csv\")\n",
    "test = pd.read_csv(\"./data/Bankruptcy/test.csv\")\n",
    "\n",
    "train.shape, test.shape, sub.shape"
   ]
  },
  {
   "cell_type": "code",
   "execution_count": 3,
   "metadata": {},
   "outputs": [
    {
     "data": {
      "text/plain": [
       "Index(['id', 'sum', 'term', 'payment', 'guarantees', 'reason', 'credits',\n",
       "       'other_credits', 'credit_report', 'marital_status', 'age', 'employment',\n",
       "       'qualification', 'immigrant', 'residence_since', 'accommodation',\n",
       "       'estate', 'savings', 'dependents', 'phone', 'status', 'bankruptcy'],\n",
       "      dtype='object')"
      ]
     },
     "execution_count": 3,
     "metadata": {},
     "output_type": "execute_result"
    }
   ],
   "source": [
    "train.columns"
   ]
  },
  {
   "cell_type": "code",
   "execution_count": 4,
   "metadata": {},
   "outputs": [
    {
     "data": {
      "text/plain": [
       "Index(['id', 'sum', 'term', 'payment', 'guarantees', 'reason', 'credits',\n",
       "       'other_credits', 'credit_report', 'marital_status', 'age', 'employment',\n",
       "       'qualification', 'immigrant', 'residence_since', 'accommodation',\n",
       "       'estate', 'savings', 'dependents', 'phone', 'status'],\n",
       "      dtype='object')"
      ]
     },
     "execution_count": 4,
     "metadata": {},
     "output_type": "execute_result"
    }
   ],
   "source": [
    "test.columns"
   ]
  },
  {
   "cell_type": "markdown",
   "metadata": {},
   "source": [
    "* bankruptcy의 컬럼의 값을 예측하는 과제"
   ]
  },
  {
   "cell_type": "code",
   "execution_count": 5,
   "metadata": {},
   "outputs": [
    {
     "data": {
      "text/plain": [
       "array([0, 1], dtype=int64)"
      ]
     },
     "execution_count": 5,
     "metadata": {},
     "output_type": "execute_result"
    }
   ],
   "source": [
    "train['bankruptcy'].unique()"
   ]
  },
  {
   "cell_type": "code",
   "execution_count": 6,
   "metadata": {},
   "outputs": [
    {
     "data": {
      "text/plain": [
       "0    561\n",
       "1    239\n",
       "Name: bankruptcy, dtype: int64"
      ]
     },
     "execution_count": 6,
     "metadata": {},
     "output_type": "execute_result"
    }
   ],
   "source": [
    "train['bankruptcy'].value_counts()"
   ]
  },
  {
   "cell_type": "code",
   "execution_count": 7,
   "metadata": {},
   "outputs": [
    {
     "name": "stdout",
     "output_type": "stream",
     "text": [
      "<class 'pandas.core.frame.DataFrame'>\n",
      "RangeIndex: 800 entries, 0 to 799\n",
      "Data columns (total 22 columns):\n",
      " #   Column           Non-Null Count  Dtype \n",
      "---  ------           --------------  ----- \n",
      " 0   id               800 non-null    int64 \n",
      " 1   sum              800 non-null    int64 \n",
      " 2   term             800 non-null    int64 \n",
      " 3   payment          800 non-null    int64 \n",
      " 4   guarantees       800 non-null    object\n",
      " 5   reason           800 non-null    object\n",
      " 6   credits          800 non-null    int64 \n",
      " 7   other_credits    800 non-null    object\n",
      " 8   credit_report    800 non-null    object\n",
      " 9   marital_status   800 non-null    object\n",
      " 10  age              800 non-null    int64 \n",
      " 11  employment       800 non-null    object\n",
      " 12  qualification    800 non-null    object\n",
      " 13  immigrant        800 non-null    object\n",
      " 14  residence_since  800 non-null    int64 \n",
      " 15  accommodation    800 non-null    object\n",
      " 16  estate           800 non-null    object\n",
      " 17  savings          800 non-null    object\n",
      " 18  dependents       800 non-null    int64 \n",
      " 19  phone            800 non-null    object\n",
      " 20  status           800 non-null    object\n",
      " 21  bankruptcy       800 non-null    int64 \n",
      "dtypes: int64(9), object(13)\n",
      "memory usage: 137.6+ KB\n"
     ]
    }
   ],
   "source": [
    "train.info()"
   ]
  },
  {
   "cell_type": "code",
   "execution_count": 8,
   "metadata": {},
   "outputs": [
    {
     "name": "stdout",
     "output_type": "stream",
     "text": [
      "<class 'pandas.core.frame.DataFrame'>\n",
      "RangeIndex: 200 entries, 0 to 199\n",
      "Data columns (total 21 columns):\n",
      " #   Column           Non-Null Count  Dtype \n",
      "---  ------           --------------  ----- \n",
      " 0   id               200 non-null    int64 \n",
      " 1   sum              200 non-null    int64 \n",
      " 2   term             200 non-null    int64 \n",
      " 3   payment          200 non-null    int64 \n",
      " 4   guarantees       200 non-null    object\n",
      " 5   reason           200 non-null    object\n",
      " 6   credits          200 non-null    int64 \n",
      " 7   other_credits    200 non-null    object\n",
      " 8   credit_report    200 non-null    object\n",
      " 9   marital_status   200 non-null    object\n",
      " 10  age              200 non-null    int64 \n",
      " 11  employment       200 non-null    object\n",
      " 12  qualification    200 non-null    object\n",
      " 13  immigrant        200 non-null    object\n",
      " 14  residence_since  200 non-null    int64 \n",
      " 15  accommodation    200 non-null    object\n",
      " 16  estate           200 non-null    object\n",
      " 17  savings          200 non-null    object\n",
      " 18  dependents       200 non-null    int64 \n",
      " 19  phone            200 non-null    object\n",
      " 20  status           200 non-null    object\n",
      "dtypes: int64(8), object(13)\n",
      "memory usage: 32.9+ KB\n"
     ]
    }
   ],
   "source": [
    "test.info()"
   ]
  },
  {
   "cell_type": "markdown",
   "metadata": {},
   "source": [
    "* 결측치 없음."
   ]
  },
  {
   "cell_type": "markdown",
   "metadata": {},
   "source": [
    "### 데이터 나누기"
   ]
  },
  {
   "cell_type": "code",
   "execution_count": 9,
   "metadata": {},
   "outputs": [
    {
     "data": {
      "text/html": [
       "<div>\n",
       "<style scoped>\n",
       "    .dataframe tbody tr th:only-of-type {\n",
       "        vertical-align: middle;\n",
       "    }\n",
       "\n",
       "    .dataframe tbody tr th {\n",
       "        vertical-align: top;\n",
       "    }\n",
       "\n",
       "    .dataframe thead th {\n",
       "        text-align: right;\n",
       "    }\n",
       "</style>\n",
       "<table border=\"1\" class=\"dataframe\">\n",
       "  <thead>\n",
       "    <tr style=\"text-align: right;\">\n",
       "      <th></th>\n",
       "      <th>id</th>\n",
       "      <th>sum</th>\n",
       "      <th>term</th>\n",
       "      <th>payment</th>\n",
       "      <th>guarantees</th>\n",
       "      <th>reason</th>\n",
       "      <th>credits</th>\n",
       "      <th>other_credits</th>\n",
       "      <th>credit_report</th>\n",
       "      <th>marital_status</th>\n",
       "      <th>...</th>\n",
       "      <th>qualification</th>\n",
       "      <th>immigrant</th>\n",
       "      <th>residence_since</th>\n",
       "      <th>accommodation</th>\n",
       "      <th>estate</th>\n",
       "      <th>savings</th>\n",
       "      <th>dependents</th>\n",
       "      <th>phone</th>\n",
       "      <th>status</th>\n",
       "      <th>bankruptcy</th>\n",
       "    </tr>\n",
       "  </thead>\n",
       "  <tbody>\n",
       "    <tr>\n",
       "      <th>0</th>\n",
       "      <td>0</td>\n",
       "      <td>1169</td>\n",
       "      <td>6</td>\n",
       "      <td>4</td>\n",
       "      <td>none</td>\n",
       "      <td>television or radio</td>\n",
       "      <td>2</td>\n",
       "      <td>none</td>\n",
       "      <td>critical account or other credits existing(not...</td>\n",
       "      <td>male single</td>\n",
       "      <td>...</td>\n",
       "      <td>skilled employee</td>\n",
       "      <td>yes</td>\n",
       "      <td>4</td>\n",
       "      <td>own</td>\n",
       "      <td>real estate</td>\n",
       "      <td>unknown or no savings account</td>\n",
       "      <td>1</td>\n",
       "      <td>yes</td>\n",
       "      <td>less-than 0 cu</td>\n",
       "      <td>0</td>\n",
       "    </tr>\n",
       "    <tr>\n",
       "      <th>1</th>\n",
       "      <td>1</td>\n",
       "      <td>5951</td>\n",
       "      <td>48</td>\n",
       "      <td>2</td>\n",
       "      <td>none</td>\n",
       "      <td>television or radio</td>\n",
       "      <td>1</td>\n",
       "      <td>none</td>\n",
       "      <td>existing credits paid back duly till now</td>\n",
       "      <td>female divorced or separated or married</td>\n",
       "      <td>...</td>\n",
       "      <td>skilled employee</td>\n",
       "      <td>yes</td>\n",
       "      <td>2</td>\n",
       "      <td>own</td>\n",
       "      <td>real estate</td>\n",
       "      <td>less-than 100 cu</td>\n",
       "      <td>1</td>\n",
       "      <td>none</td>\n",
       "      <td>0 to 200 cu</td>\n",
       "      <td>1</td>\n",
       "    </tr>\n",
       "    <tr>\n",
       "      <th>2</th>\n",
       "      <td>2</td>\n",
       "      <td>2096</td>\n",
       "      <td>12</td>\n",
       "      <td>2</td>\n",
       "      <td>none</td>\n",
       "      <td>education</td>\n",
       "      <td>1</td>\n",
       "      <td>none</td>\n",
       "      <td>critical account or other credits existing(not...</td>\n",
       "      <td>male single</td>\n",
       "      <td>...</td>\n",
       "      <td>unskilled resident</td>\n",
       "      <td>yes</td>\n",
       "      <td>3</td>\n",
       "      <td>own</td>\n",
       "      <td>real estate</td>\n",
       "      <td>less-than 100 cu</td>\n",
       "      <td>2</td>\n",
       "      <td>none</td>\n",
       "      <td>no checking account</td>\n",
       "      <td>0</td>\n",
       "    </tr>\n",
       "    <tr>\n",
       "      <th>3</th>\n",
       "      <td>3</td>\n",
       "      <td>7882</td>\n",
       "      <td>42</td>\n",
       "      <td>2</td>\n",
       "      <td>guarantor</td>\n",
       "      <td>furniture or equipment</td>\n",
       "      <td>1</td>\n",
       "      <td>none</td>\n",
       "      <td>existing credits paid back duly till now</td>\n",
       "      <td>male single</td>\n",
       "      <td>...</td>\n",
       "      <td>skilled employee</td>\n",
       "      <td>yes</td>\n",
       "      <td>4</td>\n",
       "      <td>for free</td>\n",
       "      <td>building society savings agreement or life ins...</td>\n",
       "      <td>less-than 100 cu</td>\n",
       "      <td>2</td>\n",
       "      <td>none</td>\n",
       "      <td>less-than 0 cu</td>\n",
       "      <td>0</td>\n",
       "    </tr>\n",
       "    <tr>\n",
       "      <th>4</th>\n",
       "      <td>4</td>\n",
       "      <td>4870</td>\n",
       "      <td>24</td>\n",
       "      <td>3</td>\n",
       "      <td>none</td>\n",
       "      <td>new car</td>\n",
       "      <td>2</td>\n",
       "      <td>none</td>\n",
       "      <td>delay in paying off in the past</td>\n",
       "      <td>male single</td>\n",
       "      <td>...</td>\n",
       "      <td>skilled employee</td>\n",
       "      <td>yes</td>\n",
       "      <td>4</td>\n",
       "      <td>for free</td>\n",
       "      <td>unknown or no property</td>\n",
       "      <td>less-than 100 cu</td>\n",
       "      <td>2</td>\n",
       "      <td>none</td>\n",
       "      <td>less-than 0 cu</td>\n",
       "      <td>1</td>\n",
       "    </tr>\n",
       "  </tbody>\n",
       "</table>\n",
       "<p>5 rows × 22 columns</p>\n",
       "</div>"
      ],
      "text/plain": [
       "   id   sum  term  payment guarantees                  reason  credits  \\\n",
       "0   0  1169     6        4       none     television or radio        2   \n",
       "1   1  5951    48        2       none     television or radio        1   \n",
       "2   2  2096    12        2       none               education        1   \n",
       "3   3  7882    42        2  guarantor  furniture or equipment        1   \n",
       "4   4  4870    24        3       none                 new car        2   \n",
       "\n",
       "  other_credits                                      credit_report  \\\n",
       "0          none  critical account or other credits existing(not...   \n",
       "1          none           existing credits paid back duly till now   \n",
       "2          none  critical account or other credits existing(not...   \n",
       "3          none           existing credits paid back duly till now   \n",
       "4          none                    delay in paying off in the past   \n",
       "\n",
       "                            marital_status  ...       qualification immigrant  \\\n",
       "0                              male single  ...    skilled employee       yes   \n",
       "1  female divorced or separated or married  ...    skilled employee       yes   \n",
       "2                              male single  ...  unskilled resident       yes   \n",
       "3                              male single  ...    skilled employee       yes   \n",
       "4                              male single  ...    skilled employee       yes   \n",
       "\n",
       "  residence_since accommodation  \\\n",
       "0               4           own   \n",
       "1               2           own   \n",
       "2               3           own   \n",
       "3               4      for free   \n",
       "4               4      for free   \n",
       "\n",
       "                                              estate  \\\n",
       "0                                        real estate   \n",
       "1                                        real estate   \n",
       "2                                        real estate   \n",
       "3  building society savings agreement or life ins...   \n",
       "4                             unknown or no property   \n",
       "\n",
       "                         savings dependents phone               status  \\\n",
       "0  unknown or no savings account          1   yes       less-than 0 cu   \n",
       "1               less-than 100 cu          1  none          0 to 200 cu   \n",
       "2               less-than 100 cu          2  none  no checking account   \n",
       "3               less-than 100 cu          2  none       less-than 0 cu   \n",
       "4               less-than 100 cu          2  none       less-than 0 cu   \n",
       "\n",
       "  bankruptcy  \n",
       "0          0  \n",
       "1          1  \n",
       "2          0  \n",
       "3          0  \n",
       "4          1  \n",
       "\n",
       "[5 rows x 22 columns]"
      ]
     },
     "execution_count": 9,
     "metadata": {},
     "output_type": "execute_result"
    }
   ],
   "source": [
    "train.head()"
   ]
  },
  {
   "cell_type": "code",
   "execution_count": 10,
   "metadata": {},
   "outputs": [],
   "source": [
    "# 중간에 생략되는 행과 열을 보이도록 하는 설정\n",
    "pd.set_option('display.max_rows', None)\n",
    "pd.set_option('display.max_columns', None)"
   ]
  },
  {
   "cell_type": "code",
   "execution_count": 11,
   "metadata": {},
   "outputs": [
    {
     "data": {
      "text/html": [
       "<div>\n",
       "<style scoped>\n",
       "    .dataframe tbody tr th:only-of-type {\n",
       "        vertical-align: middle;\n",
       "    }\n",
       "\n",
       "    .dataframe tbody tr th {\n",
       "        vertical-align: top;\n",
       "    }\n",
       "\n",
       "    .dataframe thead th {\n",
       "        text-align: right;\n",
       "    }\n",
       "</style>\n",
       "<table border=\"1\" class=\"dataframe\">\n",
       "  <thead>\n",
       "    <tr style=\"text-align: right;\">\n",
       "      <th></th>\n",
       "      <th>id</th>\n",
       "      <th>sum</th>\n",
       "      <th>term</th>\n",
       "      <th>payment</th>\n",
       "      <th>guarantees</th>\n",
       "      <th>reason</th>\n",
       "      <th>credits</th>\n",
       "      <th>other_credits</th>\n",
       "      <th>credit_report</th>\n",
       "      <th>marital_status</th>\n",
       "      <th>age</th>\n",
       "      <th>employment</th>\n",
       "      <th>qualification</th>\n",
       "      <th>immigrant</th>\n",
       "      <th>residence_since</th>\n",
       "      <th>accommodation</th>\n",
       "      <th>estate</th>\n",
       "      <th>savings</th>\n",
       "      <th>dependents</th>\n",
       "      <th>phone</th>\n",
       "      <th>status</th>\n",
       "      <th>bankruptcy</th>\n",
       "    </tr>\n",
       "  </thead>\n",
       "  <tbody>\n",
       "    <tr>\n",
       "      <th>0</th>\n",
       "      <td>0</td>\n",
       "      <td>1169</td>\n",
       "      <td>6</td>\n",
       "      <td>4</td>\n",
       "      <td>none</td>\n",
       "      <td>television or radio</td>\n",
       "      <td>2</td>\n",
       "      <td>none</td>\n",
       "      <td>critical account or other credits existing(not...</td>\n",
       "      <td>male single</td>\n",
       "      <td>67</td>\n",
       "      <td>7+ y.</td>\n",
       "      <td>skilled employee</td>\n",
       "      <td>yes</td>\n",
       "      <td>4</td>\n",
       "      <td>own</td>\n",
       "      <td>real estate</td>\n",
       "      <td>unknown or no savings account</td>\n",
       "      <td>1</td>\n",
       "      <td>yes</td>\n",
       "      <td>less-than 0 cu</td>\n",
       "      <td>0</td>\n",
       "    </tr>\n",
       "    <tr>\n",
       "      <th>1</th>\n",
       "      <td>1</td>\n",
       "      <td>5951</td>\n",
       "      <td>48</td>\n",
       "      <td>2</td>\n",
       "      <td>none</td>\n",
       "      <td>television or radio</td>\n",
       "      <td>1</td>\n",
       "      <td>none</td>\n",
       "      <td>existing credits paid back duly till now</td>\n",
       "      <td>female divorced or separated or married</td>\n",
       "      <td>22</td>\n",
       "      <td>1 to 4 y.</td>\n",
       "      <td>skilled employee</td>\n",
       "      <td>yes</td>\n",
       "      <td>2</td>\n",
       "      <td>own</td>\n",
       "      <td>real estate</td>\n",
       "      <td>less-than 100 cu</td>\n",
       "      <td>1</td>\n",
       "      <td>none</td>\n",
       "      <td>0 to 200 cu</td>\n",
       "      <td>1</td>\n",
       "    </tr>\n",
       "    <tr>\n",
       "      <th>2</th>\n",
       "      <td>2</td>\n",
       "      <td>2096</td>\n",
       "      <td>12</td>\n",
       "      <td>2</td>\n",
       "      <td>none</td>\n",
       "      <td>education</td>\n",
       "      <td>1</td>\n",
       "      <td>none</td>\n",
       "      <td>critical account or other credits existing(not...</td>\n",
       "      <td>male single</td>\n",
       "      <td>49</td>\n",
       "      <td>4 to 7 y.</td>\n",
       "      <td>unskilled resident</td>\n",
       "      <td>yes</td>\n",
       "      <td>3</td>\n",
       "      <td>own</td>\n",
       "      <td>real estate</td>\n",
       "      <td>less-than 100 cu</td>\n",
       "      <td>2</td>\n",
       "      <td>none</td>\n",
       "      <td>no checking account</td>\n",
       "      <td>0</td>\n",
       "    </tr>\n",
       "    <tr>\n",
       "      <th>3</th>\n",
       "      <td>3</td>\n",
       "      <td>7882</td>\n",
       "      <td>42</td>\n",
       "      <td>2</td>\n",
       "      <td>guarantor</td>\n",
       "      <td>furniture or equipment</td>\n",
       "      <td>1</td>\n",
       "      <td>none</td>\n",
       "      <td>existing credits paid back duly till now</td>\n",
       "      <td>male single</td>\n",
       "      <td>45</td>\n",
       "      <td>4 to 7 y.</td>\n",
       "      <td>skilled employee</td>\n",
       "      <td>yes</td>\n",
       "      <td>4</td>\n",
       "      <td>for free</td>\n",
       "      <td>building society savings agreement or life ins...</td>\n",
       "      <td>less-than 100 cu</td>\n",
       "      <td>2</td>\n",
       "      <td>none</td>\n",
       "      <td>less-than 0 cu</td>\n",
       "      <td>0</td>\n",
       "    </tr>\n",
       "    <tr>\n",
       "      <th>4</th>\n",
       "      <td>4</td>\n",
       "      <td>4870</td>\n",
       "      <td>24</td>\n",
       "      <td>3</td>\n",
       "      <td>none</td>\n",
       "      <td>new car</td>\n",
       "      <td>2</td>\n",
       "      <td>none</td>\n",
       "      <td>delay in paying off in the past</td>\n",
       "      <td>male single</td>\n",
       "      <td>53</td>\n",
       "      <td>1 to 4 y.</td>\n",
       "      <td>skilled employee</td>\n",
       "      <td>yes</td>\n",
       "      <td>4</td>\n",
       "      <td>for free</td>\n",
       "      <td>unknown or no property</td>\n",
       "      <td>less-than 100 cu</td>\n",
       "      <td>2</td>\n",
       "      <td>none</td>\n",
       "      <td>less-than 0 cu</td>\n",
       "      <td>1</td>\n",
       "    </tr>\n",
       "  </tbody>\n",
       "</table>\n",
       "</div>"
      ],
      "text/plain": [
       "   id   sum  term  payment guarantees                  reason  credits  \\\n",
       "0   0  1169     6        4       none     television or radio        2   \n",
       "1   1  5951    48        2       none     television or radio        1   \n",
       "2   2  2096    12        2       none               education        1   \n",
       "3   3  7882    42        2  guarantor  furniture or equipment        1   \n",
       "4   4  4870    24        3       none                 new car        2   \n",
       "\n",
       "  other_credits                                      credit_report  \\\n",
       "0          none  critical account or other credits existing(not...   \n",
       "1          none           existing credits paid back duly till now   \n",
       "2          none  critical account or other credits existing(not...   \n",
       "3          none           existing credits paid back duly till now   \n",
       "4          none                    delay in paying off in the past   \n",
       "\n",
       "                            marital_status  age employment  \\\n",
       "0                              male single   67      7+ y.   \n",
       "1  female divorced or separated or married   22  1 to 4 y.   \n",
       "2                              male single   49  4 to 7 y.   \n",
       "3                              male single   45  4 to 7 y.   \n",
       "4                              male single   53  1 to 4 y.   \n",
       "\n",
       "        qualification immigrant  residence_since accommodation  \\\n",
       "0    skilled employee       yes                4           own   \n",
       "1    skilled employee       yes                2           own   \n",
       "2  unskilled resident       yes                3           own   \n",
       "3    skilled employee       yes                4      for free   \n",
       "4    skilled employee       yes                4      for free   \n",
       "\n",
       "                                              estate  \\\n",
       "0                                        real estate   \n",
       "1                                        real estate   \n",
       "2                                        real estate   \n",
       "3  building society savings agreement or life ins...   \n",
       "4                             unknown or no property   \n",
       "\n",
       "                         savings  dependents phone               status  \\\n",
       "0  unknown or no savings account           1   yes       less-than 0 cu   \n",
       "1               less-than 100 cu           1  none          0 to 200 cu   \n",
       "2               less-than 100 cu           2  none  no checking account   \n",
       "3               less-than 100 cu           2  none       less-than 0 cu   \n",
       "4               less-than 100 cu           2  none       less-than 0 cu   \n",
       "\n",
       "   bankruptcy  \n",
       "0           0  \n",
       "1           1  \n",
       "2           0  \n",
       "3           0  \n",
       "4           1  "
      ]
     },
     "execution_count": 11,
     "metadata": {},
     "output_type": "execute_result"
    }
   ],
   "source": [
    "train.head()"
   ]
  },
  {
   "cell_type": "code",
   "execution_count": 12,
   "metadata": {},
   "outputs": [
    {
     "data": {
      "text/plain": [
       "<AxesSubplot:xlabel='payment', ylabel='count'>"
      ]
     },
     "execution_count": 12,
     "metadata": {},
     "output_type": "execute_result"
    },
    {
     "data": {
      "image/png": "[encoded data removed]",
      "text/plain": [
       "<Figure size 936x360 with 2 Axes>"
      ]
     },
     "metadata": {
      "needs_background": "light"
     },
     "output_type": "display_data"
    }
   ],
   "source": [
    "plt.figure(figsize=(13,5) )\n",
    "plt.subplot(1,2,1)\n",
    "sns.countplot(x=\"payment\", hue='bankruptcy',  data=train)\n",
    "\n",
    "plt.subplot(1,2,2)\n",
    "sns.countplot(x=\"payment\", hue='bankruptcy',  data=train)"
   ]
  },
  {
   "cell_type": "code",
   "execution_count": 13,
   "metadata": {},
   "outputs": [
    {
     "data": {
      "text/plain": [
       "(array([0, 1, 2, 3, 4, 5, 6, 7, 8, 9]),\n",
       " [Text(0, 0, 'television or radio'),\n",
       "  Text(1, 0, 'education'),\n",
       "  Text(2, 0, 'furniture or equipment'),\n",
       "  Text(3, 0, 'new car'),\n",
       "  Text(4, 0, 'used car'),\n",
       "  Text(5, 0, 'business'),\n",
       "  Text(6, 0, 'household appliances'),\n",
       "  Text(7, 0, 'repairs'),\n",
       "  Text(8, 0, 'other'),\n",
       "  Text(9, 0, 'requalification')])"
      ]
     },
     "execution_count": 13,
     "metadata": {},
     "output_type": "execute_result"
    },
    {
     "data": {
      "image/png": "[encoded data removed]",
      "text/plain": [
       "<Figure size 936x360 with 2 Axes>"
      ]
     },
     "metadata": {
      "needs_background": "light"
     },
     "output_type": "display_data"
    }
   ],
   "source": [
    "plt.figure(figsize=(13,5) )\n",
    "plt.subplot(1,2,1)\n",
    "sns.countplot(x=\"reason\", hue=\"bankruptcy\",  data=train)\n",
    "plt.xticks(rotation=90)\n",
    "\n",
    "plt.subplot(1,2,2)\n",
    "sns.countplot(x=\"reason\", hue=\"bankruptcy\", data=train)\n",
    "plt.xticks(rotation=90)"
   ]
  },
  {
   "cell_type": "code",
   "execution_count": 14,
   "metadata": {},
   "outputs": [
    {
     "data": {
      "text/plain": [
       "television or radio       223\n",
       "new car                   184\n",
       "furniture or equipment    144\n",
       "used car                   81\n",
       "business                   77\n",
       "education                  45\n",
       "repairs                    19\n",
       "other                      10\n",
       "household appliances        9\n",
       "requalification             8\n",
       "Name: reason, dtype: int64"
      ]
     },
     "execution_count": 14,
     "metadata": {},
     "output_type": "execute_result"
    }
   ],
   "source": [
    "train.reason.value_counts()"
   ]
  },
  {
   "cell_type": "code",
   "execution_count": 15,
   "metadata": {},
   "outputs": [
    {
     "data": {
      "text/plain": [
       "<AxesSubplot:xlabel='other_credits', ylabel='count'>"
      ]
     },
     "execution_count": 15,
     "metadata": {},
     "output_type": "execute_result"
    },
    {
     "data": {
      "image/png": "[encoded data removed]",
      "text/plain": [
       "<Figure size 936x360 with 2 Axes>"
      ]
     },
     "metadata": {
      "needs_background": "light"
     },
     "output_type": "display_data"
    }
   ],
   "source": [
    "plt.figure(figsize=(13,5) )\n",
    "plt.subplot(1,2,1)\n",
    "sns.countplot(x=\"other_credits\", hue=\"bankruptcy\",  data=train)\n",
    "\n",
    "\n",
    "plt.subplot(1,2,2)\n",
    "sns.countplot(x=\"other_credits\", hue=\"bankruptcy\", data=train)\n"
   ]
  },
  {
   "cell_type": "code",
   "execution_count": 16,
   "metadata": {},
   "outputs": [
    {
     "data": {
      "text/plain": [
       "<AxesSubplot:xlabel='immigrant', ylabel='count'>"
      ]
     },
     "execution_count": 16,
     "metadata": {},
     "output_type": "execute_result"
    },
    {
     "data": {
      "image/png": "[encoded data removed]",
      "text/plain": [
       "<Figure size 936x360 with 2 Axes>"
      ]
     },
     "metadata": {
      "needs_background": "light"
     },
     "output_type": "display_data"
    }
   ],
   "source": [
    "plt.figure(figsize=(13,5) )\n",
    "plt.subplot(1,2,1)\n",
    "sns.countplot(x=\"immigrant\", hue=\"bankruptcy\",  data=train)\n",
    "\n",
    "\n",
    "plt.subplot(1,2,2)\n",
    "sns.countplot(x=\"immigrant\", hue=\"bankruptcy\", data=train)"
   ]
  },
  {
   "cell_type": "code",
   "execution_count": 17,
   "metadata": {},
   "outputs": [
    {
     "data": {
      "text/plain": [
       "<AxesSubplot:xlabel='accommodation', ylabel='count'>"
      ]
     },
     "execution_count": 17,
     "metadata": {},
     "output_type": "execute_result"
    },
    {
     "data": {
      "image/png": "[encoded data removed]",
      "text/plain": [
       "<Figure size 936x360 with 2 Axes>"
      ]
     },
     "metadata": {
      "needs_background": "light"
     },
     "output_type": "display_data"
    }
   ],
   "source": [
    "plt.figure(figsize=(13,5) )\n",
    "plt.subplot(1,2,1)\n",
    "sns.countplot(x=\"accommodation\", hue=\"bankruptcy\",  data=train)\n",
    "\n",
    "\n",
    "plt.subplot(1,2,2)\n",
    "sns.countplot(x=\"accommodation\", hue=\"bankruptcy\", data=train)"
   ]
  },
  {
   "cell_type": "code",
   "execution_count": 18,
   "metadata": {},
   "outputs": [
    {
     "data": {
      "text/plain": [
       "<AxesSubplot:xlabel='phone', ylabel='count'>"
      ]
     },
     "execution_count": 18,
     "metadata": {},
     "output_type": "execute_result"
    },
    {
     "data": {
      "image/png": "[encoded data removed]",
      "text/plain": [
       "<Figure size 936x360 with 2 Axes>"
      ]
     },
     "metadata": {
      "needs_background": "light"
     },
     "output_type": "display_data"
    }
   ],
   "source": [
    "plt.figure(figsize=(13,5) )\n",
    "plt.subplot(1,2,1)\n",
    "sns.countplot(x=\"phone\", hue=\"bankruptcy\",  data=train)\n",
    "\n",
    "\n",
    "plt.subplot(1,2,2)\n",
    "sns.countplot(x=\"phone\", hue=\"bankruptcy\", data=train)"
   ]
  },
  {
   "cell_type": "code",
   "execution_count": 19,
   "metadata": {},
   "outputs": [
    {
     "data": {
      "text/plain": [
       "Index(['id', 'sum', 'term', 'payment', 'guarantees', 'reason', 'credits',\n",
       "       'other_credits', 'credit_report', 'marital_status', 'age', 'employment',\n",
       "       'qualification', 'immigrant', 'residence_since', 'accommodation',\n",
       "       'estate', 'savings', 'dependents', 'phone', 'status', 'bankruptcy'],\n",
       "      dtype='object')"
      ]
     },
     "execution_count": 19,
     "metadata": {},
     "output_type": "execute_result"
    }
   ],
   "source": [
    "train.columns"
   ]
  },
  {
   "cell_type": "code",
   "execution_count": 20,
   "metadata": {},
   "outputs": [
    {
     "data": {
      "text/html": [
       "<div>\n",
       "<style scoped>\n",
       "    .dataframe tbody tr th:only-of-type {\n",
       "        vertical-align: middle;\n",
       "    }\n",
       "\n",
       "    .dataframe tbody tr th {\n",
       "        vertical-align: top;\n",
       "    }\n",
       "\n",
       "    .dataframe thead th {\n",
       "        text-align: right;\n",
       "    }\n",
       "</style>\n",
       "<table border=\"1\" class=\"dataframe\">\n",
       "  <thead>\n",
       "    <tr style=\"text-align: right;\">\n",
       "      <th></th>\n",
       "      <th>id</th>\n",
       "      <th>sum</th>\n",
       "      <th>term</th>\n",
       "      <th>payment</th>\n",
       "      <th>guarantees</th>\n",
       "      <th>reason</th>\n",
       "      <th>credits</th>\n",
       "      <th>other_credits</th>\n",
       "      <th>credit_report</th>\n",
       "      <th>marital_status</th>\n",
       "      <th>age</th>\n",
       "      <th>employment</th>\n",
       "      <th>qualification</th>\n",
       "      <th>immigrant</th>\n",
       "      <th>residence_since</th>\n",
       "      <th>accommodation</th>\n",
       "      <th>estate</th>\n",
       "      <th>savings</th>\n",
       "      <th>dependents</th>\n",
       "      <th>phone</th>\n",
       "      <th>status</th>\n",
       "      <th>bankruptcy</th>\n",
       "    </tr>\n",
       "  </thead>\n",
       "  <tbody>\n",
       "    <tr>\n",
       "      <th>0</th>\n",
       "      <td>0</td>\n",
       "      <td>1169</td>\n",
       "      <td>6</td>\n",
       "      <td>4</td>\n",
       "      <td>none</td>\n",
       "      <td>television or radio</td>\n",
       "      <td>2</td>\n",
       "      <td>none</td>\n",
       "      <td>critical account or other credits existing(not...</td>\n",
       "      <td>male single</td>\n",
       "      <td>67</td>\n",
       "      <td>7+ y.</td>\n",
       "      <td>skilled employee</td>\n",
       "      <td>yes</td>\n",
       "      <td>4</td>\n",
       "      <td>own</td>\n",
       "      <td>real estate</td>\n",
       "      <td>unknown or no savings account</td>\n",
       "      <td>1</td>\n",
       "      <td>yes</td>\n",
       "      <td>less-than 0 cu</td>\n",
       "      <td>0</td>\n",
       "    </tr>\n",
       "    <tr>\n",
       "      <th>1</th>\n",
       "      <td>1</td>\n",
       "      <td>5951</td>\n",
       "      <td>48</td>\n",
       "      <td>2</td>\n",
       "      <td>none</td>\n",
       "      <td>television or radio</td>\n",
       "      <td>1</td>\n",
       "      <td>none</td>\n",
       "      <td>existing credits paid back duly till now</td>\n",
       "      <td>female divorced or separated or married</td>\n",
       "      <td>22</td>\n",
       "      <td>1 to 4 y.</td>\n",
       "      <td>skilled employee</td>\n",
       "      <td>yes</td>\n",
       "      <td>2</td>\n",
       "      <td>own</td>\n",
       "      <td>real estate</td>\n",
       "      <td>less-than 100 cu</td>\n",
       "      <td>1</td>\n",
       "      <td>none</td>\n",
       "      <td>0 to 200 cu</td>\n",
       "      <td>1</td>\n",
       "    </tr>\n",
       "    <tr>\n",
       "      <th>2</th>\n",
       "      <td>2</td>\n",
       "      <td>2096</td>\n",
       "      <td>12</td>\n",
       "      <td>2</td>\n",
       "      <td>none</td>\n",
       "      <td>education</td>\n",
       "      <td>1</td>\n",
       "      <td>none</td>\n",
       "      <td>critical account or other credits existing(not...</td>\n",
       "      <td>male single</td>\n",
       "      <td>49</td>\n",
       "      <td>4 to 7 y.</td>\n",
       "      <td>unskilled resident</td>\n",
       "      <td>yes</td>\n",
       "      <td>3</td>\n",
       "      <td>own</td>\n",
       "      <td>real estate</td>\n",
       "      <td>less-than 100 cu</td>\n",
       "      <td>2</td>\n",
       "      <td>none</td>\n",
       "      <td>no checking account</td>\n",
       "      <td>0</td>\n",
       "    </tr>\n",
       "    <tr>\n",
       "      <th>3</th>\n",
       "      <td>3</td>\n",
       "      <td>7882</td>\n",
       "      <td>42</td>\n",
       "      <td>2</td>\n",
       "      <td>guarantor</td>\n",
       "      <td>furniture or equipment</td>\n",
       "      <td>1</td>\n",
       "      <td>none</td>\n",
       "      <td>existing credits paid back duly till now</td>\n",
       "      <td>male single</td>\n",
       "      <td>45</td>\n",
       "      <td>4 to 7 y.</td>\n",
       "      <td>skilled employee</td>\n",
       "      <td>yes</td>\n",
       "      <td>4</td>\n",
       "      <td>for free</td>\n",
       "      <td>building society savings agreement or life ins...</td>\n",
       "      <td>less-than 100 cu</td>\n",
       "      <td>2</td>\n",
       "      <td>none</td>\n",
       "      <td>less-than 0 cu</td>\n",
       "      <td>0</td>\n",
       "    </tr>\n",
       "    <tr>\n",
       "      <th>4</th>\n",
       "      <td>4</td>\n",
       "      <td>4870</td>\n",
       "      <td>24</td>\n",
       "      <td>3</td>\n",
       "      <td>none</td>\n",
       "      <td>new car</td>\n",
       "      <td>2</td>\n",
       "      <td>none</td>\n",
       "      <td>delay in paying off in the past</td>\n",
       "      <td>male single</td>\n",
       "      <td>53</td>\n",
       "      <td>1 to 4 y.</td>\n",
       "      <td>skilled employee</td>\n",
       "      <td>yes</td>\n",
       "      <td>4</td>\n",
       "      <td>for free</td>\n",
       "      <td>unknown or no property</td>\n",
       "      <td>less-than 100 cu</td>\n",
       "      <td>2</td>\n",
       "      <td>none</td>\n",
       "      <td>less-than 0 cu</td>\n",
       "      <td>1</td>\n",
       "    </tr>\n",
       "  </tbody>\n",
       "</table>\n",
       "</div>"
      ],
      "text/plain": [
       "   id   sum  term  payment guarantees                  reason  credits  \\\n",
       "0   0  1169     6        4       none     television or radio        2   \n",
       "1   1  5951    48        2       none     television or radio        1   \n",
       "2   2  2096    12        2       none               education        1   \n",
       "3   3  7882    42        2  guarantor  furniture or equipment        1   \n",
       "4   4  4870    24        3       none                 new car        2   \n",
       "\n",
       "  other_credits                                      credit_report  \\\n",
       "0          none  critical account or other credits existing(not...   \n",
       "1          none           existing credits paid back duly till now   \n",
       "2          none  critical account or other credits existing(not...   \n",
       "3          none           existing credits paid back duly till now   \n",
       "4          none                    delay in paying off in the past   \n",
       "\n",
       "                            marital_status  age employment  \\\n",
       "0                              male single   67      7+ y.   \n",
       "1  female divorced or separated or married   22  1 to 4 y.   \n",
       "2                              male single   49  4 to 7 y.   \n",
       "3                              male single   45  4 to 7 y.   \n",
       "4                              male single   53  1 to 4 y.   \n",
       "\n",
       "        qualification immigrant  residence_since accommodation  \\\n",
       "0    skilled employee       yes                4           own   \n",
       "1    skilled employee       yes                2           own   \n",
       "2  unskilled resident       yes                3           own   \n",
       "3    skilled employee       yes                4      for free   \n",
       "4    skilled employee       yes                4      for free   \n",
       "\n",
       "                                              estate  \\\n",
       "0                                        real estate   \n",
       "1                                        real estate   \n",
       "2                                        real estate   \n",
       "3  building society savings agreement or life ins...   \n",
       "4                             unknown or no property   \n",
       "\n",
       "                         savings  dependents phone               status  \\\n",
       "0  unknown or no savings account           1   yes       less-than 0 cu   \n",
       "1               less-than 100 cu           1  none          0 to 200 cu   \n",
       "2               less-than 100 cu           2  none  no checking account   \n",
       "3               less-than 100 cu           2  none       less-than 0 cu   \n",
       "4               less-than 100 cu           2  none       less-than 0 cu   \n",
       "\n",
       "   bankruptcy  \n",
       "0           0  \n",
       "1           1  \n",
       "2           0  \n",
       "3           0  \n",
       "4           1  "
      ]
     },
     "execution_count": 20,
     "metadata": {},
     "output_type": "execute_result"
    }
   ],
   "source": [
    "train.head()"
   ]
  },
  {
   "cell_type": "markdown",
   "metadata": {},
   "source": [
    "### 데이터 전처리"
   ]
  },
  {
   "cell_type": "code",
   "execution_count": 21,
   "metadata": {},
   "outputs": [
    {
     "name": "stdout",
     "output_type": "stream",
     "text": [
      "['none' 'guarantor' 'co-applicant']\n",
      "['television or radio' 'education' 'furniture or equipment' 'new car'\n",
      " 'used car' 'business' 'household appliances' 'repairs' 'other'\n",
      " 'requalification']\n",
      "['none' 'bank' 'stores']\n",
      "['male single' 'female divorced or separated or married'\n",
      " 'male divorced or separated' 'male married or widowed']\n",
      "['skilled employee' 'unskilled resident'\n",
      " 'management or self-employed or highly qualified employee'\n",
      " 'unemployed or unskilled non-resident']\n",
      "['yes' 'no']\n",
      "['own' 'for free' 'rent']\n",
      "['real estate' 'building society savings agreement or life insurance'\n",
      " 'unknown or no property' 'car or other']\n",
      "['yes' 'none']\n"
     ]
    }
   ],
   "source": [
    "print( train.guarantees.unique() )\n",
    "print( train.reason.unique()  )\n",
    "print( train.other_credits.unique()  )\n",
    "print( train.marital_status.unique()  )\n",
    "print( train.qualification.unique()  )\n",
    "print( train.immigrant.unique()  )\n",
    "print( train.accommodation.unique()  )\n",
    "print( train.estate.unique()  )\n",
    "print( train.phone.unique()  )"
   ]
  },
  {
   "cell_type": "code",
   "execution_count": 22,
   "metadata": {},
   "outputs": [
    {
     "data": {
      "text/plain": [
       "((800, 22), (200, 21), (200, 2))"
      ]
     },
     "execution_count": 22,
     "metadata": {},
     "output_type": "execute_result"
    }
   ],
   "source": [
    "### 데이터 전처리\n",
    "sub = pd.read_csv(\"./data/Bankruptcy/submission_example.csv\")\n",
    "train = pd.read_csv(\"./data/Bankruptcy/train.csv\")\n",
    "test = pd.read_csv(\"./data/Bankruptcy/test.csv\")\n",
    "\n",
    "train.shape, test.shape, sub.shape"
   ]
  },
  {
   "cell_type": "code",
   "execution_count": 23,
   "metadata": {},
   "outputs": [
    {
     "name": "stdout",
     "output_type": "stream",
     "text": [
      "colname :  term\n",
      "[ 6 48 12 42 24 36 30 15  9 10  7 60 18 45 11 27  8 54 20 14 33 21 16  4\n",
      " 47 13 22 39 28  5 26 72 40]\n",
      "colname :  payment\n",
      "[4 2 3 1]\n",
      "colname :  guarantees\n",
      "['none' 'guarantor' 'co-applicant']\n",
      "colname :  reason\n",
      "['television or radio' 'education' 'furniture or equipment' 'new car'\n",
      " 'used car' 'business' 'household appliances' 'repairs' 'other'\n",
      " 'requalification']\n",
      "colname :  credits\n",
      "[2 1 3 4]\n",
      "colname :  other_credits\n",
      "['none' 'bank' 'stores']\n",
      "colname :  credit_report\n",
      "['critical account or other credits existing(not at this bank)'\n",
      " 'existing credits paid back duly till now'\n",
      " 'delay in paying off in the past' 'no credits or all paid'\n",
      " 'all credits at this bank paid back duly']\n",
      "colname :  marital_status\n",
      "['male single' 'female divorced or separated or married'\n",
      " 'male divorced or separated' 'male married or widowed']\n",
      "colname :  employment\n",
      "['7+ y.' '1 to 4 y.' '4 to 7 y.' 'unemployed' 'less-than 1 y.']\n",
      "colname :  qualification\n",
      "['skilled employee' 'unskilled resident'\n",
      " 'management or self-employed or highly qualified employee'\n",
      " 'unemployed or unskilled non-resident']\n",
      "colname :  immigrant\n",
      "['yes' 'no']\n",
      "colname :  residence_since\n",
      "[4 2 3 1]\n",
      "colname :  accommodation\n",
      "['own' 'for free' 'rent']\n",
      "colname :  estate\n",
      "['real estate' 'building society savings agreement or life insurance'\n",
      " 'unknown or no property' 'car or other']\n",
      "colname :  savings\n",
      "['unknown or no savings account' 'less-than 100 cu' '500 to 1000 cu'\n",
      " 'greater-than 1000 cu' '100 to 500 cu']\n",
      "colname :  dependents\n",
      "[1 2]\n",
      "colname :  phone\n",
      "['yes' 'none']\n",
      "colname :  status\n",
      "['less-than 0 cu' '0 to 200 cu' 'no checking account'\n",
      " 'greater-than 200 cu or salary assignments for at least 1 year']\n",
      "colname :  bankruptcy\n",
      "[0 1]\n"
     ]
    }
   ],
   "source": [
    "### 전체 컬럼 unique() 확인하기\n",
    "### 범주형 - 범주가 50개 이하만 출력하기\n",
    "def columns_print(dataset):\n",
    "    for one in dataset.columns:\n",
    "        # print(one)\n",
    "        col_length = len( dataset[one].unique() )\n",
    "        if col_length <= 50:\n",
    "            print(\"colname : \", one)\n",
    "            print(dataset[one].unique())\n",
    "        \n",
    "columns_print(train)"
   ]
  },
  {
   "cell_type": "code",
   "execution_count": 24,
   "metadata": {},
   "outputs": [
    {
     "name": "stdout",
     "output_type": "stream",
     "text": [
      "['television or radio' 'education' 'furniture or equipment' 'new car'\n",
      " 'used car' 'business' 'household appliances' 'repairs' 'other'\n",
      " 'requalification']\n"
     ]
    },
    {
     "data": {
      "text/plain": [
       "{'television or radio': 0,\n",
       " 'education': 1,\n",
       " 'furniture or equipment': 2,\n",
       " 'new car': 3,\n",
       " 'used car': 4,\n",
       " 'business': 5,\n",
       " 'household appliances': 6,\n",
       " 'repairs': 7,\n",
       " 'other': 8,\n",
       " 'requalification': 9}"
      ]
     },
     "execution_count": 24,
     "metadata": {},
     "output_type": "execute_result"
    }
   ],
   "source": [
    "### 인코딩 map 내용 만들기\n",
    "\n",
    "def map_con(dataset, col_names):\n",
    "    dict_map = {}\n",
    "    cnt = 0\n",
    "    unique_value = dataset[col_names].unique()\n",
    "    print( unique_value )\n",
    "    \n",
    "    for one in unique_value:\n",
    "        # print(one)\n",
    "        dict_map[one] = cnt\n",
    "        cnt += 1\n",
    "    # print(dict_map)\n",
    "    return dict_map\n",
    "    \n",
    "map_con(train, \"reason\")"
   ]
  },
  {
   "cell_type": "code",
   "execution_count": 25,
   "metadata": {},
   "outputs": [
    {
     "name": "stdout",
     "output_type": "stream",
     "text": [
      "colname :  term\n",
      "[ 6 48 12 42 24 36 30 15  9 10  7 60 18 45 11 27  8 54 20 14 33 21 16  4\n",
      " 47 13 22 39 28  5 26 72 40]\n",
      "colname :  payment\n",
      "[4 2 3 1]\n",
      "colname :  guarantees\n",
      "['none' 'guarantor' 'co-applicant']\n",
      "colname :  reason\n",
      "['television or radio' 'education' 'furniture or equipment' 'new car'\n",
      " 'used car' 'business' 'household appliances' 'repairs' 'other'\n",
      " 'requalification']\n",
      "colname :  credits\n",
      "[2 1 3 4]\n",
      "colname :  other_credits\n",
      "['none' 'bank' 'stores']\n",
      "colname :  credit_report\n",
      "['critical account or other credits existing(not at this bank)'\n",
      " 'existing credits paid back duly till now'\n",
      " 'delay in paying off in the past' 'no credits or all paid'\n",
      " 'all credits at this bank paid back duly']\n",
      "colname :  marital_status\n",
      "['male single' 'female divorced or separated or married'\n",
      " 'male divorced or separated' 'male married or widowed']\n",
      "colname :  employment\n",
      "['7+ y.' '1 to 4 y.' '4 to 7 y.' 'unemployed' 'less-than 1 y.']\n",
      "colname :  qualification\n",
      "['skilled employee' 'unskilled resident'\n",
      " 'management or self-employed or highly qualified employee'\n",
      " 'unemployed or unskilled non-resident']\n",
      "colname :  immigrant\n",
      "['yes' 'no']\n",
      "colname :  residence_since\n",
      "[4 2 3 1]\n",
      "colname :  accommodation\n",
      "['own' 'for free' 'rent']\n",
      "colname :  estate\n",
      "['real estate' 'building society savings agreement or life insurance'\n",
      " 'unknown or no property' 'car or other']\n",
      "colname :  savings\n",
      "['unknown or no savings account' 'less-than 100 cu' '500 to 1000 cu'\n",
      " 'greater-than 1000 cu' '100 to 500 cu']\n",
      "colname :  dependents\n",
      "[1 2]\n",
      "colname :  phone\n",
      "['yes' 'none']\n",
      "colname :  status\n",
      "['less-than 0 cu' '0 to 200 cu' 'no checking account'\n",
      " 'greater-than 200 cu or salary assignments for at least 1 year']\n",
      "colname :  bankruptcy\n",
      "[0 1]\n"
     ]
    }
   ],
   "source": [
    "columns_print(train)"
   ]
  },
  {
   "cell_type": "code",
   "execution_count": 26,
   "metadata": {},
   "outputs": [
    {
     "data": {
      "text/plain": [
       "array([0, 1, 2], dtype=int64)"
      ]
     },
     "execution_count": 26,
     "metadata": {},
     "output_type": "execute_result"
    }
   ],
   "source": [
    "train['guarantees'] = train.guarantees.map( {'none':0, 'guarantor':1, 'co-applicant':2} )\n",
    "train.guarantees.unique()"
   ]
  },
  {
   "cell_type": "code",
   "execution_count": 27,
   "metadata": {},
   "outputs": [
    {
     "name": "stdout",
     "output_type": "stream",
     "text": [
      "['television or radio' 'education' 'furniture or equipment' 'new car'\n",
      " 'used car' 'business' 'household appliances' 'repairs' 'other'\n",
      " 'requalification']\n",
      "['television or radio' 'education' 'furniture or equipment' 'new car'\n",
      " 'used car' 'business' 'household appliances' 'repairs' 'other'\n",
      " 'requalification']\n",
      "{'television or radio': 0, 'education': 1, 'furniture or equipment': 2, 'new car': 3, 'used car': 4, 'business': 5, 'household appliances': 6, 'repairs': 7, 'other': 8, 'requalification': 9}\n"
     ]
    },
    {
     "data": {
      "text/plain": [
       "array([0, 1, 2, 3, 4, 5, 6, 7, 8, 9], dtype=int64)"
      ]
     },
     "execution_count": 27,
     "metadata": {},
     "output_type": "execute_result"
    }
   ],
   "source": [
    "print(train.reason.unique())\n",
    "reason_dict = map_con(train, \"reason\")\n",
    "print(reason_dict)\n",
    "train['reason'] = train.reason.map( {'television or radio': 0, 'education': 1, 'furniture or equipment': 2, \n",
    "                        'new car': 3, 'used car': 4, 'business': 5, 'household appliances': 6, \n",
    "                        'repairs': 7, 'other': 8, 'requalification': 9} )\n",
    "train.reason.unique()"
   ]
  },
  {
   "cell_type": "code",
   "execution_count": 28,
   "metadata": {},
   "outputs": [
    {
     "name": "stdout",
     "output_type": "stream",
     "text": [
      "['none' 'bank' 'stores']\n"
     ]
    },
    {
     "data": {
      "text/plain": [
       "array([0, 1, 2], dtype=int64)"
      ]
     },
     "execution_count": 28,
     "metadata": {},
     "output_type": "execute_result"
    }
   ],
   "source": [
    "#print(train['other_credits'].unique())\n",
    "dat_dict = map_con(train, \"other_credits\")\n",
    "#print(reason_dict)\n",
    "train['other_credits'] = train['other_credits'].map( dat_dict )\n",
    "train['other_credits'].unique()"
   ]
  },
  {
   "cell_type": "markdown",
   "metadata": {},
   "source": [
    "### test 데이터 셋 변환\n",
    " * guarantees, reason, other_credits"
   ]
  },
  {
   "cell_type": "code",
   "execution_count": 29,
   "metadata": {},
   "outputs": [
    {
     "name": "stdout",
     "output_type": "stream",
     "text": [
      "['education' 'television or radio' 'furniture or equipment' 'new car'\n",
      " 'used car' 'business' 'household appliances' 'other' 'repairs'\n",
      " 'requalification']\n",
      "{'education': 0, 'television or radio': 1, 'furniture or equipment': 2, 'new car': 3, 'used car': 4, 'business': 5, 'household appliances': 6, 'other': 7, 'repairs': 8, 'requalification': 9}\n"
     ]
    },
    {
     "data": {
      "text/plain": [
       "array([0, 1, 2, 3, 4, 5, 6, 7, 8, 9], dtype=int64)"
      ]
     },
     "execution_count": 29,
     "metadata": {},
     "output_type": "execute_result"
    }
   ],
   "source": [
    "test['guarantees'] = test.guarantees.map( {'none':0, 'guarantor':1, 'co-applicant':2} )\n",
    "test.guarantees.unique()\n",
    "\n",
    "reason_dict = map_con(test, \"reason\")\n",
    "print(reason_dict)\n",
    "test['reason'] = test.reason.map( reason_dict )\n",
    "test.reason.unique()"
   ]
  },
  {
   "cell_type": "code",
   "execution_count": 30,
   "metadata": {},
   "outputs": [
    {
     "name": "stdout",
     "output_type": "stream",
     "text": [
      "['none' 'bank' 'stores']\n"
     ]
    },
    {
     "data": {
      "text/plain": [
       "array([0, 1, 2], dtype=int64)"
      ]
     },
     "execution_count": 30,
     "metadata": {},
     "output_type": "execute_result"
    }
   ],
   "source": [
    "dat_dict = map_con(test, \"other_credits\")\n",
    "#print(reason_dict)\n",
    "test['other_credits'] = test['other_credits'].map( dat_dict )\n",
    "test['other_credits'].unique()"
   ]
  },
  {
   "cell_type": "code",
   "execution_count": 31,
   "metadata": {},
   "outputs": [],
   "source": [
    "#  employment, qualification, immigrant, accommodation, savings, phone"
   ]
  },
  {
   "cell_type": "code",
   "execution_count": 32,
   "metadata": {},
   "outputs": [
    {
     "name": "stdout",
     "output_type": "stream",
     "text": [
      "['critical account or other credits existing(not at this bank)'\n",
      " 'existing credits paid back duly till now'\n",
      " 'delay in paying off in the past' 'no credits or all paid'\n",
      " 'all credits at this bank paid back duly']\n",
      "['male single' 'female divorced or separated or married'\n",
      " 'male divorced or separated' 'male married or widowed']\n",
      "['7+ y.' '1 to 4 y.' '4 to 7 y.' 'unemployed' 'less-than 1 y.']\n",
      "['skilled employee' 'unskilled resident'\n",
      " 'management or self-employed or highly qualified employee'\n",
      " 'unemployed or unskilled non-resident']\n",
      "['yes' 'no']\n",
      "['own' 'for free' 'rent']\n",
      "['unknown or no savings account' 'less-than 100 cu' '500 to 1000 cu'\n",
      " 'greater-than 1000 cu' '100 to 500 cu']\n",
      "['yes' 'none']\n",
      "['real estate' 'building society savings agreement or life insurance'\n",
      " 'unknown or no property' 'car or other']\n",
      "[0 1 2 3 4]\n",
      "['less-than 0 cu' '0 to 200 cu' 'no checking account'\n",
      " 'greater-than 200 cu or salary assignments for at least 1 year']\n"
     ]
    },
    {
     "data": {
      "text/html": [
       "<div>\n",
       "<style scoped>\n",
       "    .dataframe tbody tr th:only-of-type {\n",
       "        vertical-align: middle;\n",
       "    }\n",
       "\n",
       "    .dataframe tbody tr th {\n",
       "        vertical-align: top;\n",
       "    }\n",
       "\n",
       "    .dataframe thead th {\n",
       "        text-align: right;\n",
       "    }\n",
       "</style>\n",
       "<table border=\"1\" class=\"dataframe\">\n",
       "  <thead>\n",
       "    <tr style=\"text-align: right;\">\n",
       "      <th></th>\n",
       "      <th>id</th>\n",
       "      <th>sum</th>\n",
       "      <th>term</th>\n",
       "      <th>payment</th>\n",
       "      <th>guarantees</th>\n",
       "      <th>reason</th>\n",
       "      <th>credits</th>\n",
       "      <th>other_credits</th>\n",
       "      <th>credit_report</th>\n",
       "      <th>marital_status</th>\n",
       "      <th>age</th>\n",
       "      <th>employment</th>\n",
       "      <th>qualification</th>\n",
       "      <th>immigrant</th>\n",
       "      <th>residence_since</th>\n",
       "      <th>accommodation</th>\n",
       "      <th>estate</th>\n",
       "      <th>savings</th>\n",
       "      <th>dependents</th>\n",
       "      <th>phone</th>\n",
       "      <th>status</th>\n",
       "      <th>bankruptcy</th>\n",
       "    </tr>\n",
       "  </thead>\n",
       "  <tbody>\n",
       "    <tr>\n",
       "      <th>0</th>\n",
       "      <td>0</td>\n",
       "      <td>1169</td>\n",
       "      <td>6</td>\n",
       "      <td>4</td>\n",
       "      <td>0</td>\n",
       "      <td>0</td>\n",
       "      <td>2</td>\n",
       "      <td>0</td>\n",
       "      <td>0</td>\n",
       "      <td>0</td>\n",
       "      <td>67</td>\n",
       "      <td>0</td>\n",
       "      <td>0</td>\n",
       "      <td>0</td>\n",
       "      <td>4</td>\n",
       "      <td>0</td>\n",
       "      <td>0</td>\n",
       "      <td>0</td>\n",
       "      <td>1</td>\n",
       "      <td>0</td>\n",
       "      <td>0</td>\n",
       "      <td>0</td>\n",
       "    </tr>\n",
       "    <tr>\n",
       "      <th>1</th>\n",
       "      <td>1</td>\n",
       "      <td>5951</td>\n",
       "      <td>48</td>\n",
       "      <td>2</td>\n",
       "      <td>0</td>\n",
       "      <td>0</td>\n",
       "      <td>1</td>\n",
       "      <td>0</td>\n",
       "      <td>1</td>\n",
       "      <td>1</td>\n",
       "      <td>22</td>\n",
       "      <td>1</td>\n",
       "      <td>0</td>\n",
       "      <td>0</td>\n",
       "      <td>2</td>\n",
       "      <td>0</td>\n",
       "      <td>0</td>\n",
       "      <td>1</td>\n",
       "      <td>1</td>\n",
       "      <td>1</td>\n",
       "      <td>1</td>\n",
       "      <td>1</td>\n",
       "    </tr>\n",
       "    <tr>\n",
       "      <th>2</th>\n",
       "      <td>2</td>\n",
       "      <td>2096</td>\n",
       "      <td>12</td>\n",
       "      <td>2</td>\n",
       "      <td>0</td>\n",
       "      <td>1</td>\n",
       "      <td>1</td>\n",
       "      <td>0</td>\n",
       "      <td>0</td>\n",
       "      <td>0</td>\n",
       "      <td>49</td>\n",
       "      <td>2</td>\n",
       "      <td>1</td>\n",
       "      <td>0</td>\n",
       "      <td>3</td>\n",
       "      <td>0</td>\n",
       "      <td>0</td>\n",
       "      <td>1</td>\n",
       "      <td>2</td>\n",
       "      <td>1</td>\n",
       "      <td>2</td>\n",
       "      <td>0</td>\n",
       "    </tr>\n",
       "    <tr>\n",
       "      <th>3</th>\n",
       "      <td>3</td>\n",
       "      <td>7882</td>\n",
       "      <td>42</td>\n",
       "      <td>2</td>\n",
       "      <td>1</td>\n",
       "      <td>2</td>\n",
       "      <td>1</td>\n",
       "      <td>0</td>\n",
       "      <td>1</td>\n",
       "      <td>0</td>\n",
       "      <td>45</td>\n",
       "      <td>2</td>\n",
       "      <td>0</td>\n",
       "      <td>0</td>\n",
       "      <td>4</td>\n",
       "      <td>1</td>\n",
       "      <td>1</td>\n",
       "      <td>1</td>\n",
       "      <td>2</td>\n",
       "      <td>1</td>\n",
       "      <td>0</td>\n",
       "      <td>0</td>\n",
       "    </tr>\n",
       "    <tr>\n",
       "      <th>4</th>\n",
       "      <td>4</td>\n",
       "      <td>4870</td>\n",
       "      <td>24</td>\n",
       "      <td>3</td>\n",
       "      <td>0</td>\n",
       "      <td>3</td>\n",
       "      <td>2</td>\n",
       "      <td>0</td>\n",
       "      <td>2</td>\n",
       "      <td>0</td>\n",
       "      <td>53</td>\n",
       "      <td>1</td>\n",
       "      <td>0</td>\n",
       "      <td>0</td>\n",
       "      <td>4</td>\n",
       "      <td>1</td>\n",
       "      <td>2</td>\n",
       "      <td>1</td>\n",
       "      <td>2</td>\n",
       "      <td>1</td>\n",
       "      <td>0</td>\n",
       "      <td>1</td>\n",
       "    </tr>\n",
       "  </tbody>\n",
       "</table>\n",
       "</div>"
      ],
      "text/plain": [
       "   id   sum  term  payment  guarantees  reason  credits  other_credits  \\\n",
       "0   0  1169     6        4           0       0        2              0   \n",
       "1   1  5951    48        2           0       0        1              0   \n",
       "2   2  2096    12        2           0       1        1              0   \n",
       "3   3  7882    42        2           1       2        1              0   \n",
       "4   4  4870    24        3           0       3        2              0   \n",
       "\n",
       "   credit_report  marital_status  age  employment  qualification  immigrant  \\\n",
       "0              0               0   67           0              0          0   \n",
       "1              1               1   22           1              0          0   \n",
       "2              0               0   49           2              1          0   \n",
       "3              1               0   45           2              0          0   \n",
       "4              2               0   53           1              0          0   \n",
       "\n",
       "   residence_since  accommodation  estate  savings  dependents  phone  status  \\\n",
       "0                4              0       0        0           1      0       0   \n",
       "1                2              0       0        1           1      1       1   \n",
       "2                3              0       0        1           2      1       2   \n",
       "3                4              1       1        1           2      1       0   \n",
       "4                4              1       2        1           2      1       0   \n",
       "\n",
       "   bankruptcy  \n",
       "0           0  \n",
       "1           1  \n",
       "2           0  \n",
       "3           0  \n",
       "4           1  "
      ]
     },
     "execution_count": 32,
     "metadata": {},
     "output_type": "execute_result"
    }
   ],
   "source": [
    "dat_dict = map_con(train, \"credit_report\")\n",
    "train['credit_report'] = train['credit_report'].map( dat_dict )\n",
    "train['credit_report'].unique()\n",
    "\n",
    "dat_dict = map_con(train, \"marital_status\")\n",
    "train['marital_status'] = train['marital_status'].map( dat_dict )\n",
    "train['marital_status'].unique()\n",
    "\n",
    "dat_dict = map_con(train, \"employment\")\n",
    "train['employment'] = train['employment'].map( dat_dict )\n",
    "\n",
    "dat_dict = map_con(train, \"qualification\")\n",
    "train['qualification'] = train['qualification'].map( dat_dict )\n",
    "\n",
    "dat_dict = map_con(train, \"immigrant\")\n",
    "train['immigrant'] = train['immigrant'].map( dat_dict )\n",
    "\n",
    "dat_dict = map_con(train, \"accommodation\")\n",
    "train['accommodation'] = train['accommodation'].map( dat_dict )\n",
    "\n",
    "dat_dict = map_con(train, \"savings\")\n",
    "train['savings'] = train['savings'].map( dat_dict )\n",
    "\n",
    "dat_dict = map_con(train, \"phone\")\n",
    "train['phone'] = train['phone'].map( dat_dict )\n",
    "\n",
    "dat_dict = map_con(train, \"estate\")\n",
    "train['estate'] = train['estate'].map( dat_dict )\n",
    "\n",
    "dat_dict = map_con(train, \"credit_report\")\n",
    "train['credit_report'] = train['credit_report'].map( dat_dict )\n",
    "\n",
    "dat_dict = map_con(train, \"status\")\n",
    "train['status'] = train['status'].map( dat_dict )\n",
    "\n",
    "train.head()"
   ]
  },
  {
   "cell_type": "code",
   "execution_count": 33,
   "metadata": {},
   "outputs": [
    {
     "name": "stdout",
     "output_type": "stream",
     "text": [
      "['critical account or other credits existing(not at this bank)'\n",
      " 'existing credits paid back duly till now'\n",
      " 'all credits at this bank paid back duly' 'no credits or all paid'\n",
      " 'delay in paying off in the past']\n",
      "['male single' 'female divorced or separated or married'\n",
      " 'male married or widowed' 'male divorced or separated']\n",
      "['7+ y.' 'unemployed' '4 to 7 y.' 'less-than 1 y.' '1 to 4 y.']\n",
      "['skilled employee' 'unskilled resident'\n",
      " 'unemployed or unskilled non-resident'\n",
      " 'management or self-employed or highly qualified employee']\n",
      "['yes' 'no']\n",
      "['for free' 'rent' 'own']\n",
      "['less-than 100 cu' 'unknown or no savings account' '500 to 1000 cu'\n",
      " '100 to 500 cu' 'greater-than 1000 cu']\n",
      "['none' 'yes']\n",
      "['unknown or no property' 'real estate'\n",
      " 'building society savings agreement or life insurance' 'car or other']\n",
      "[0 1 2 3 4]\n",
      "['no checking account' '0 to 200 cu' 'less-than 0 cu'\n",
      " 'greater-than 200 cu or salary assignments for at least 1 year']\n"
     ]
    },
    {
     "data": {
      "text/html": [
       "<div>\n",
       "<style scoped>\n",
       "    .dataframe tbody tr th:only-of-type {\n",
       "        vertical-align: middle;\n",
       "    }\n",
       "\n",
       "    .dataframe tbody tr th {\n",
       "        vertical-align: top;\n",
       "    }\n",
       "\n",
       "    .dataframe thead th {\n",
       "        text-align: right;\n",
       "    }\n",
       "</style>\n",
       "<table border=\"1\" class=\"dataframe\">\n",
       "  <thead>\n",
       "    <tr style=\"text-align: right;\">\n",
       "      <th></th>\n",
       "      <th>id</th>\n",
       "      <th>sum</th>\n",
       "      <th>term</th>\n",
       "      <th>payment</th>\n",
       "      <th>guarantees</th>\n",
       "      <th>reason</th>\n",
       "      <th>credits</th>\n",
       "      <th>other_credits</th>\n",
       "      <th>credit_report</th>\n",
       "      <th>marital_status</th>\n",
       "      <th>age</th>\n",
       "      <th>employment</th>\n",
       "      <th>qualification</th>\n",
       "      <th>immigrant</th>\n",
       "      <th>residence_since</th>\n",
       "      <th>accommodation</th>\n",
       "      <th>estate</th>\n",
       "      <th>savings</th>\n",
       "      <th>dependents</th>\n",
       "      <th>phone</th>\n",
       "      <th>status</th>\n",
       "    </tr>\n",
       "  </thead>\n",
       "  <tbody>\n",
       "    <tr>\n",
       "      <th>0</th>\n",
       "      <td>800</td>\n",
       "      <td>1597</td>\n",
       "      <td>24</td>\n",
       "      <td>4</td>\n",
       "      <td>0</td>\n",
       "      <td>0</td>\n",
       "      <td>2</td>\n",
       "      <td>0</td>\n",
       "      <td>0</td>\n",
       "      <td>0</td>\n",
       "      <td>54</td>\n",
       "      <td>0</td>\n",
       "      <td>0</td>\n",
       "      <td>0</td>\n",
       "      <td>4</td>\n",
       "      <td>0</td>\n",
       "      <td>0</td>\n",
       "      <td>0</td>\n",
       "      <td>2</td>\n",
       "      <td>0</td>\n",
       "      <td>0</td>\n",
       "    </tr>\n",
       "    <tr>\n",
       "      <th>1</th>\n",
       "      <td>801</td>\n",
       "      <td>1795</td>\n",
       "      <td>18</td>\n",
       "      <td>3</td>\n",
       "      <td>1</td>\n",
       "      <td>1</td>\n",
       "      <td>2</td>\n",
       "      <td>1</td>\n",
       "      <td>0</td>\n",
       "      <td>1</td>\n",
       "      <td>48</td>\n",
       "      <td>0</td>\n",
       "      <td>1</td>\n",
       "      <td>0</td>\n",
       "      <td>4</td>\n",
       "      <td>1</td>\n",
       "      <td>1</td>\n",
       "      <td>0</td>\n",
       "      <td>1</td>\n",
       "      <td>1</td>\n",
       "      <td>1</td>\n",
       "    </tr>\n",
       "    <tr>\n",
       "      <th>2</th>\n",
       "      <td>802</td>\n",
       "      <td>4272</td>\n",
       "      <td>20</td>\n",
       "      <td>1</td>\n",
       "      <td>0</td>\n",
       "      <td>2</td>\n",
       "      <td>2</td>\n",
       "      <td>0</td>\n",
       "      <td>0</td>\n",
       "      <td>1</td>\n",
       "      <td>24</td>\n",
       "      <td>0</td>\n",
       "      <td>0</td>\n",
       "      <td>0</td>\n",
       "      <td>4</td>\n",
       "      <td>2</td>\n",
       "      <td>2</td>\n",
       "      <td>0</td>\n",
       "      <td>1</td>\n",
       "      <td>0</td>\n",
       "      <td>2</td>\n",
       "    </tr>\n",
       "    <tr>\n",
       "      <th>3</th>\n",
       "      <td>803</td>\n",
       "      <td>976</td>\n",
       "      <td>12</td>\n",
       "      <td>4</td>\n",
       "      <td>0</td>\n",
       "      <td>1</td>\n",
       "      <td>2</td>\n",
       "      <td>0</td>\n",
       "      <td>0</td>\n",
       "      <td>0</td>\n",
       "      <td>35</td>\n",
       "      <td>0</td>\n",
       "      <td>0</td>\n",
       "      <td>0</td>\n",
       "      <td>4</td>\n",
       "      <td>2</td>\n",
       "      <td>3</td>\n",
       "      <td>1</td>\n",
       "      <td>1</td>\n",
       "      <td>0</td>\n",
       "      <td>0</td>\n",
       "    </tr>\n",
       "    <tr>\n",
       "      <th>4</th>\n",
       "      <td>804</td>\n",
       "      <td>7472</td>\n",
       "      <td>12</td>\n",
       "      <td>1</td>\n",
       "      <td>0</td>\n",
       "      <td>3</td>\n",
       "      <td>1</td>\n",
       "      <td>0</td>\n",
       "      <td>1</td>\n",
       "      <td>1</td>\n",
       "      <td>24</td>\n",
       "      <td>1</td>\n",
       "      <td>2</td>\n",
       "      <td>0</td>\n",
       "      <td>2</td>\n",
       "      <td>1</td>\n",
       "      <td>1</td>\n",
       "      <td>1</td>\n",
       "      <td>1</td>\n",
       "      <td>0</td>\n",
       "      <td>1</td>\n",
       "    </tr>\n",
       "  </tbody>\n",
       "</table>\n",
       "</div>"
      ],
      "text/plain": [
       "    id   sum  term  payment  guarantees  reason  credits  other_credits  \\\n",
       "0  800  1597    24        4           0       0        2              0   \n",
       "1  801  1795    18        3           1       1        2              1   \n",
       "2  802  4272    20        1           0       2        2              0   \n",
       "3  803   976    12        4           0       1        2              0   \n",
       "4  804  7472    12        1           0       3        1              0   \n",
       "\n",
       "   credit_report  marital_status  age  employment  qualification  immigrant  \\\n",
       "0              0               0   54           0              0          0   \n",
       "1              0               1   48           0              1          0   \n",
       "2              0               1   24           0              0          0   \n",
       "3              0               0   35           0              0          0   \n",
       "4              1               1   24           1              2          0   \n",
       "\n",
       "   residence_since  accommodation  estate  savings  dependents  phone  status  \n",
       "0                4              0       0        0           2      0       0  \n",
       "1                4              1       1        0           1      1       1  \n",
       "2                4              2       2        0           1      0       2  \n",
       "3                4              2       3        1           1      0       0  \n",
       "4                2              1       1        1           1      0       1  "
      ]
     },
     "execution_count": 33,
     "metadata": {},
     "output_type": "execute_result"
    }
   ],
   "source": [
    "dat_dict = map_con(test, \"credit_report\")\n",
    "test['credit_report'] = test['credit_report'].map( dat_dict )\n",
    "test['credit_report'].unique()\n",
    "\n",
    "dat_dict = map_con(test, \"marital_status\")\n",
    "test['marital_status'] = test['marital_status'].map( dat_dict )\n",
    "test['marital_status'].unique()\n",
    "\n",
    "dat_dict = map_con(test, \"employment\")\n",
    "test['employment'] = test['employment'].map( dat_dict )\n",
    "\n",
    "dat_dict = map_con(test, \"qualification\")\n",
    "test['qualification'] = test['qualification'].map( dat_dict )\n",
    "\n",
    "dat_dict = map_con(test, \"immigrant\")\n",
    "test['immigrant'] = test['immigrant'].map( dat_dict )\n",
    "\n",
    "dat_dict = map_con(test, \"accommodation\")\n",
    "test['accommodation'] = test['accommodation'].map( dat_dict )\n",
    "\n",
    "dat_dict = map_con(test, \"savings\")\n",
    "test['savings'] = test['savings'].map( dat_dict )\n",
    "\n",
    "dat_dict = map_con(test, \"phone\")\n",
    "test['phone'] = test['phone'].map( dat_dict )\n",
    "\n",
    "dat_dict = map_con(test, \"estate\")\n",
    "test['estate'] = test['estate'].map( dat_dict )\n",
    "\n",
    "dat_dict = map_con(test, \"credit_report\")\n",
    "test['credit_report'] = test['credit_report'].map( dat_dict )\n",
    "\n",
    "dat_dict = map_con(test, \"status\")\n",
    "test['status'] = test['status'].map( dat_dict )\n",
    "\n",
    "test.head()"
   ]
  },
  {
   "cell_type": "code",
   "execution_count": 34,
   "metadata": {},
   "outputs": [
    {
     "data": {
      "text/plain": [
       "Index(['id', 'sum', 'term', 'payment', 'guarantees', 'reason', 'credits',\n",
       "       'other_credits', 'credit_report', 'marital_status', 'age', 'employment',\n",
       "       'qualification', 'immigrant', 'residence_since', 'accommodation',\n",
       "       'estate', 'savings', 'dependents', 'phone', 'status', 'bankruptcy'],\n",
       "      dtype='object')"
      ]
     },
     "execution_count": 34,
     "metadata": {},
     "output_type": "execute_result"
    }
   ],
   "source": [
    "train.columns"
   ]
  },
  {
   "cell_type": "code",
   "execution_count": 35,
   "metadata": {},
   "outputs": [
    {
     "data": {
      "text/plain": [
       "<AxesSubplot:>"
      ]
     },
     "execution_count": 35,
     "metadata": {},
     "output_type": "execute_result"
    },
    {
     "data": {
      "image/png": "[encoded data removed]",
      "text/plain": [
       "<Figure size 1080x720 with 2 Axes>"
      ]
     },
     "metadata": {
      "needs_background": "light"
     },
     "output_type": "display_data"
    }
   ],
   "source": [
    "plt.figure(figsize=(15,10))\n",
    "sns.heatmap(train.corr(), annot=True, fmt=\".3f\")"
   ]
  },
  {
   "cell_type": "code",
   "execution_count": 36,
   "metadata": {},
   "outputs": [],
   "source": [
    "#  변경2 : 0.05 이하 제외 'guarantees', 'credits', 'qualification', 'residence_since', 'savings', 'dependents', 'phone',\n",
    "sel = ['sum', 'term', 'payment', 'reason', 'other_credits', 'credit_report', \n",
    "       'marital_status', 'age', 'employment', 'immigrant',  'accommodation',\n",
    "       'estate', 'status']\n",
    "\n",
    "X = train[sel]\n",
    "y = train['bankruptcy']\n",
    "\n",
    "last_test = test[sel]\n",
    "\n",
    "X_train, X_test, y_train, y_test = train_test_split(X, y, \n",
    "                                                   test_size=0.3,\n",
    "                                                   random_state = 0)"
   ]
  },
  {
   "cell_type": "code",
   "execution_count": 37,
   "metadata": {},
   "outputs": [],
   "source": [
    "from sklearn.neighbors import KNeighborsClassifier\n",
    "from sklearn.tree import DecisionTreeClassifier\n",
    "from sklearn.ensemble import RandomForestClassifier\n",
    "import xgboost as xgb"
   ]
  },
  {
   "cell_type": "markdown",
   "metadata": {},
   "source": [
    "### 모델 구축 및 학습, 평가"
   ]
  },
  {
   "cell_type": "code",
   "execution_count": 38,
   "metadata": {},
   "outputs": [
    {
     "name": "stdout",
     "output_type": "stream",
     "text": [
      "학습용 정확도 :  0.75\n",
      "테스트용 정확도 :  0.6666666666666666\n",
      "학습용 정확도 :  0.7732142857142857\n",
      "테스트용 정확도 :  0.7083333333333334\n",
      "학습용 정확도 :  0.8285714285714286\n",
      "테스트용 정확도 :  0.725\n",
      "학습용 정확도 :  0.9410714285714286\n",
      "테스트용 정확도 :  0.7333333333333333\n"
     ]
    }
   ],
   "source": [
    "model1 = KNeighborsClassifier()\n",
    "model1.fit(X_train, y_train)\n",
    "print(\"학습용 정확도 : \", model1.score(X_train,y_train) )\n",
    "print(\"테스트용 정확도 : \", model1.score(X_test,y_test) )\n",
    "\n",
    "model2 = DecisionTreeClassifier(max_depth=3, random_state=0)\n",
    "model2.fit(X_train, y_train)\n",
    "print(\"학습용 정확도 : \", model2.score(X_train,y_train) )\n",
    "print(\"테스트용 정확도 : \", model2.score(X_test,y_test) )\n",
    "\n",
    "model3 = RandomForestClassifier(max_depth=5, random_state=0)\n",
    "model3.fit(X_train, y_train)\n",
    "print(\"학습용 정확도 : \", model3.score(X_train,y_train) )\n",
    "print(\"테스트용 정확도 : \", model3.score(X_test,y_test) )\n",
    "\n",
    "model4 = xgb.XGBClassifier(colsample_bytree = 0.2, # 각나무마다 사용하는 feature 비율\n",
    "                           learning_rate = 0.05,\n",
    "                           max_depth = 3, \n",
    "                           alpha = 0.1, \n",
    "                           n_estimators = 1000)\n",
    "\n",
    "model4.fit(X_train, y_train)\n",
    "print(\"학습용 정확도 : \", model4.score(X_train,y_train) )\n",
    "print(\"테스트용 정확도 : \", model4.score(X_test,y_test) )"
   ]
  },
  {
   "cell_type": "code",
   "execution_count": 39,
   "metadata": {},
   "outputs": [
    {
     "data": {
      "text/plain": [
       "RandomForestClassifier(max_depth=5, random_state=0)"
      ]
     },
     "execution_count": 39,
     "metadata": {},
     "output_type": "execute_result"
    }
   ],
   "source": [
    "model3 = RandomForestClassifier(max_depth=5, random_state=0)\n",
    "model3.fit(X_train, y_train)"
   ]
  },
  {
   "cell_type": "code",
   "execution_count": 40,
   "metadata": {},
   "outputs": [
    {
     "data": {
      "text/plain": [
       "XGBClassifier(alpha=0.1, base_score=0.5, booster='gbtree', callbacks=None,\n",
       "              colsample_bylevel=1, colsample_bynode=1, colsample_bytree=0.2,\n",
       "              early_stopping_rounds=None, enable_categorical=False,\n",
       "              eval_metric=None, gamma=0, gpu_id=-1, grow_policy='depthwise',\n",
       "              importance_type=None, interaction_constraints='',\n",
       "              learning_rate=0.05, max_bin=256, max_cat_to_onehot=4,\n",
       "              max_delta_step=0, max_depth=3, max_leaves=0, min_child_weight=1,\n",
       "              missing=nan, monotone_constraints='()', n_estimators=1000,\n",
       "              n_jobs=0, num_parallel_tree=1, predictor='auto', random_state=0,\n",
       "              reg_alpha=0.100000001, ...)"
      ]
     },
     "execution_count": 40,
     "metadata": {},
     "output_type": "execute_result"
    }
   ],
   "source": [
    "model4 = xgb.XGBClassifier(colsample_bytree = 0.2, # 각나무마다 사용하는 feature 비율\n",
    "                           learning_rate = 0.05,\n",
    "                           max_depth = 3, \n",
    "                           alpha = 0.1, \n",
    "                           n_estimators = 1000)\n",
    "model4.fit(X_train, y_train)"
   ]
  },
  {
   "cell_type": "code",
   "execution_count": 41,
   "metadata": {},
   "outputs": [],
   "source": [
    "### 예측을 할때, 확률로 예측해야 한다면 predict_proba() 함수 이용"
   ]
  },
  {
   "cell_type": "code",
   "execution_count": 42,
   "metadata": {},
   "outputs": [
    {
     "data": {
      "text/plain": [
       "array([[0.7738147 , 0.22618529],\n",
       "       [0.5721255 , 0.4278745 ],\n",
       "       [0.8563116 , 0.14368838],\n",
       "       [0.43256742, 0.5674326 ],\n",
       "       [0.6292564 , 0.37074357],\n",
       "       [0.87356377, 0.12643625],\n",
       "       [0.8078273 , 0.19217269],\n",
       "       [0.58484614, 0.4151539 ],\n",
       "       [0.7797332 , 0.22026682],\n",
       "       [0.4490583 , 0.5509417 ],\n",
       "       [0.29322988, 0.7067701 ],\n",
       "       [0.6590963 , 0.3409037 ],\n",
       "       [0.98275757, 0.01724241],\n",
       "       [0.42084742, 0.5791526 ],\n",
       "       [0.9629803 , 0.03701972],\n",
       "       [0.06089091, 0.9391091 ],\n",
       "       [0.6516496 , 0.34835038],\n",
       "       [0.92705125, 0.07294874],\n",
       "       [0.23359054, 0.76640946],\n",
       "       [0.5877782 , 0.41222176],\n",
       "       [0.21029955, 0.78970045],\n",
       "       [0.67780125, 0.32219872],\n",
       "       [0.6415738 , 0.35842618],\n",
       "       [0.896498  , 0.10350196],\n",
       "       [0.5353322 , 0.46466777],\n",
       "       [0.44128025, 0.55871975],\n",
       "       [0.8569337 , 0.14306632],\n",
       "       [0.42759627, 0.5724037 ],\n",
       "       [0.98165923, 0.01834076],\n",
       "       [0.18938005, 0.81061995],\n",
       "       [0.12887979, 0.8711202 ],\n",
       "       [0.3416788 , 0.6583212 ],\n",
       "       [0.2932275 , 0.7067725 ],\n",
       "       [0.5715188 , 0.42848122],\n",
       "       [0.95718455, 0.04281546],\n",
       "       [0.3255927 , 0.6744073 ],\n",
       "       [0.03821093, 0.9617891 ],\n",
       "       [0.8868674 , 0.11313257],\n",
       "       [0.9974734 , 0.00252658],\n",
       "       [0.3076777 , 0.6923223 ],\n",
       "       [0.7604738 , 0.2395262 ],\n",
       "       [0.21904099, 0.780959  ],\n",
       "       [0.551381  , 0.44861898],\n",
       "       [0.3315574 , 0.6684426 ],\n",
       "       [0.3779229 , 0.6220771 ],\n",
       "       [0.89348686, 0.10651316],\n",
       "       [0.72575545, 0.27424452],\n",
       "       [0.01368004, 0.98631996],\n",
       "       [0.94316065, 0.05683935],\n",
       "       [0.81655085, 0.18344916],\n",
       "       [0.65756893, 0.34243107],\n",
       "       [0.9528243 , 0.04717571],\n",
       "       [0.7384218 , 0.2615782 ],\n",
       "       [0.8907524 , 0.10924764],\n",
       "       [0.05057216, 0.94942784],\n",
       "       [0.07051396, 0.92948604],\n",
       "       [0.4023294 , 0.5976706 ],\n",
       "       [0.6320281 , 0.36797187],\n",
       "       [0.8594203 , 0.14057973],\n",
       "       [0.96442205, 0.03557794],\n",
       "       [0.8863596 , 0.11364044],\n",
       "       [0.02968127, 0.97031873],\n",
       "       [0.9681753 , 0.03182472],\n",
       "       [0.41597182, 0.5840282 ],\n",
       "       [0.9786271 , 0.02137289],\n",
       "       [0.680128  , 0.31987202],\n",
       "       [0.90167   , 0.09833001],\n",
       "       [0.47067273, 0.5293273 ],\n",
       "       [0.20833886, 0.79166114],\n",
       "       [0.7936728 , 0.2063272 ],\n",
       "       [0.32435644, 0.67564356],\n",
       "       [0.9832776 , 0.0167224 ],\n",
       "       [0.94831085, 0.05168918],\n",
       "       [0.14608806, 0.85391194],\n",
       "       [0.92831814, 0.07168186],\n",
       "       [0.71781504, 0.28218496],\n",
       "       [0.9264659 , 0.07353409],\n",
       "       [0.22230375, 0.77769625],\n",
       "       [0.9421175 , 0.05788247],\n",
       "       [0.6677222 , 0.3322778 ],\n",
       "       [0.94635236, 0.05364764],\n",
       "       [0.76532876, 0.23467122],\n",
       "       [0.72031105, 0.27968898],\n",
       "       [0.69828653, 0.30171347],\n",
       "       [0.7778075 , 0.22219251],\n",
       "       [0.6428275 , 0.35717246],\n",
       "       [0.83260155, 0.16739845],\n",
       "       [0.07768214, 0.92231786],\n",
       "       [0.11854845, 0.88145155],\n",
       "       [0.79820734, 0.20179267],\n",
       "       [0.7039961 , 0.29600388],\n",
       "       [0.46142542, 0.5385746 ],\n",
       "       [0.8986271 , 0.10137288],\n",
       "       [0.8089549 , 0.1910451 ],\n",
       "       [0.19538361, 0.8046164 ],\n",
       "       [0.80825007, 0.19174992],\n",
       "       [0.68124485, 0.31875515],\n",
       "       [0.7466291 , 0.2533709 ],\n",
       "       [0.8814672 , 0.11853276],\n",
       "       [0.9236371 , 0.07636291],\n",
       "       [0.7911391 , 0.20886087],\n",
       "       [0.46037316, 0.53962684],\n",
       "       [0.9026667 , 0.09733333],\n",
       "       [0.45183253, 0.54816747],\n",
       "       [0.3666911 , 0.6333089 ],\n",
       "       [0.94606847, 0.05393152],\n",
       "       [0.9840599 , 0.01594012],\n",
       "       [0.26948643, 0.7305136 ],\n",
       "       [0.7245227 , 0.27547732],\n",
       "       [0.47962832, 0.5203717 ],\n",
       "       [0.01600504, 0.98399496],\n",
       "       [0.6436951 , 0.3563049 ],\n",
       "       [0.57792217, 0.42207783],\n",
       "       [0.8703884 , 0.1296116 ],\n",
       "       [0.84033346, 0.15966657],\n",
       "       [0.04787964, 0.95212036],\n",
       "       [0.98212355, 0.01787646],\n",
       "       [0.9346824 , 0.06531758],\n",
       "       [0.87724984, 0.12275014],\n",
       "       [0.9290921 , 0.07090788],\n",
       "       [0.13285089, 0.8671491 ],\n",
       "       [0.03885162, 0.9611484 ],\n",
       "       [0.48938805, 0.51061195],\n",
       "       [0.8020853 , 0.19791469],\n",
       "       [0.6877933 , 0.3122067 ],\n",
       "       [0.48933196, 0.51066804],\n",
       "       [0.71892834, 0.2810717 ],\n",
       "       [0.93606156, 0.06393843],\n",
       "       [0.19984144, 0.80015856],\n",
       "       [0.33159876, 0.66840124],\n",
       "       [0.9560736 , 0.04392643],\n",
       "       [0.2367962 , 0.7632038 ],\n",
       "       [0.12266153, 0.87733847],\n",
       "       [0.27947688, 0.7205231 ],\n",
       "       [0.6597903 , 0.34020975],\n",
       "       [0.13852835, 0.86147165],\n",
       "       [0.33410335, 0.66589665],\n",
       "       [0.81714636, 0.18285364],\n",
       "       [0.6078942 , 0.39210585],\n",
       "       [0.7972689 , 0.20273109],\n",
       "       [0.65711373, 0.34288627],\n",
       "       [0.8594006 , 0.14059944],\n",
       "       [0.2503718 , 0.7496282 ],\n",
       "       [0.94424385, 0.05575613],\n",
       "       [0.8912549 , 0.10874508],\n",
       "       [0.15442032, 0.8455797 ],\n",
       "       [0.8906882 , 0.1093118 ],\n",
       "       [0.6267021 , 0.37329793],\n",
       "       [0.09514469, 0.9048553 ],\n",
       "       [0.83928907, 0.16071096],\n",
       "       [0.48390412, 0.5160959 ],\n",
       "       [0.87055004, 0.12945   ],\n",
       "       [0.9479915 , 0.05200851],\n",
       "       [0.04232395, 0.95767605],\n",
       "       [0.6036514 , 0.3963486 ],\n",
       "       [0.67621684, 0.32378316],\n",
       "       [0.9030286 , 0.09697136],\n",
       "       [0.86945266, 0.13054733],\n",
       "       [0.90296817, 0.09703185],\n",
       "       [0.8878767 , 0.11212333],\n",
       "       [0.8640898 , 0.1359102 ],\n",
       "       [0.04896921, 0.9510308 ],\n",
       "       [0.3893699 , 0.6106301 ],\n",
       "       [0.5562899 , 0.44371012],\n",
       "       [0.6216172 , 0.37838277],\n",
       "       [0.26716506, 0.73283494],\n",
       "       [0.56182086, 0.43817914],\n",
       "       [0.5061075 , 0.4938925 ],\n",
       "       [0.28368413, 0.71631587],\n",
       "       [0.9832583 , 0.01674169],\n",
       "       [0.71451557, 0.28548443],\n",
       "       [0.34753287, 0.65246713],\n",
       "       [0.874122  , 0.12587798],\n",
       "       [0.9341799 , 0.06582008],\n",
       "       [0.09689415, 0.90310585],\n",
       "       [0.4140215 , 0.5859785 ],\n",
       "       [0.8367957 , 0.16320428],\n",
       "       [0.24237394, 0.75762606],\n",
       "       [0.32127088, 0.6787291 ],\n",
       "       [0.13963932, 0.8603607 ],\n",
       "       [0.79918975, 0.20081025],\n",
       "       [0.17729497, 0.82270503],\n",
       "       [0.3238997 , 0.6761003 ],\n",
       "       [0.95032394, 0.04967606],\n",
       "       [0.8342502 , 0.1657498 ],\n",
       "       [0.87667996, 0.12332006],\n",
       "       [0.2508018 , 0.7491982 ],\n",
       "       [0.83072114, 0.16927886],\n",
       "       [0.9842603 , 0.01573969],\n",
       "       [0.6139735 , 0.38602653],\n",
       "       [0.87342954, 0.12657048],\n",
       "       [0.24756104, 0.75243896],\n",
       "       [0.8058508 , 0.19414921],\n",
       "       [0.8666768 , 0.13332318],\n",
       "       [0.63214254, 0.36785746],\n",
       "       [0.6234402 , 0.3765598 ],\n",
       "       [0.9306306 , 0.06936938],\n",
       "       [0.13849801, 0.861502  ],\n",
       "       [0.6299032 , 0.37009683],\n",
       "       [0.77778614, 0.22221383]], dtype=float32)"
      ]
     },
     "execution_count": 42,
     "metadata": {},
     "output_type": "execute_result"
    }
   ],
   "source": [
    "y_pred=model4.predict_proba(last_test)\n",
    "y_pred"
   ]
  },
  {
   "cell_type": "code",
   "execution_count": 43,
   "metadata": {},
   "outputs": [
    {
     "data": {
      "text/plain": [
       "array([0.22618529, 0.4278745 , 0.14368838, 0.5674326 , 0.37074357,\n",
       "       0.12643625, 0.19217269, 0.4151539 , 0.22026682, 0.5509417 ,\n",
       "       0.7067701 , 0.3409037 , 0.01724241, 0.5791526 , 0.03701972,\n",
       "       0.9391091 , 0.34835038, 0.07294874, 0.76640946, 0.41222176,\n",
       "       0.78970045, 0.32219872, 0.35842618, 0.10350196, 0.46466777,\n",
       "       0.55871975, 0.14306632, 0.5724037 , 0.01834076, 0.81061995,\n",
       "       0.8711202 , 0.6583212 , 0.7067725 , 0.42848122, 0.04281546,\n",
       "       0.6744073 , 0.9617891 , 0.11313257, 0.00252658, 0.6923223 ,\n",
       "       0.2395262 , 0.780959  , 0.44861898, 0.6684426 , 0.6220771 ,\n",
       "       0.10651316, 0.27424452, 0.98631996, 0.05683935, 0.18344916,\n",
       "       0.34243107, 0.04717571, 0.2615782 , 0.10924764, 0.94942784,\n",
       "       0.92948604, 0.5976706 , 0.36797187, 0.14057973, 0.03557794,\n",
       "       0.11364044, 0.97031873, 0.03182472, 0.5840282 , 0.02137289,\n",
       "       0.31987202, 0.09833001, 0.5293273 , 0.79166114, 0.2063272 ,\n",
       "       0.67564356, 0.0167224 , 0.05168918, 0.85391194, 0.07168186,\n",
       "       0.28218496, 0.07353409, 0.77769625, 0.05788247, 0.3322778 ,\n",
       "       0.05364764, 0.23467122, 0.27968898, 0.30171347, 0.22219251,\n",
       "       0.35717246, 0.16739845, 0.92231786, 0.88145155, 0.20179267,\n",
       "       0.29600388, 0.5385746 , 0.10137288, 0.1910451 , 0.8046164 ,\n",
       "       0.19174992, 0.31875515, 0.2533709 , 0.11853276, 0.07636291,\n",
       "       0.20886087, 0.53962684, 0.09733333, 0.54816747, 0.6333089 ,\n",
       "       0.05393152, 0.01594012, 0.7305136 , 0.27547732, 0.5203717 ,\n",
       "       0.98399496, 0.3563049 , 0.42207783, 0.1296116 , 0.15966657,\n",
       "       0.95212036, 0.01787646, 0.06531758, 0.12275014, 0.07090788,\n",
       "       0.8671491 , 0.9611484 , 0.51061195, 0.19791469, 0.3122067 ,\n",
       "       0.51066804, 0.2810717 , 0.06393843, 0.80015856, 0.66840124,\n",
       "       0.04392643, 0.7632038 , 0.87733847, 0.7205231 , 0.34020975,\n",
       "       0.86147165, 0.66589665, 0.18285364, 0.39210585, 0.20273109,\n",
       "       0.34288627, 0.14059944, 0.7496282 , 0.05575613, 0.10874508,\n",
       "       0.8455797 , 0.1093118 , 0.37329793, 0.9048553 , 0.16071096,\n",
       "       0.5160959 , 0.12945   , 0.05200851, 0.95767605, 0.3963486 ,\n",
       "       0.32378316, 0.09697136, 0.13054733, 0.09703185, 0.11212333,\n",
       "       0.1359102 , 0.9510308 , 0.6106301 , 0.44371012, 0.37838277,\n",
       "       0.73283494, 0.43817914, 0.4938925 , 0.71631587, 0.01674169,\n",
       "       0.28548443, 0.65246713, 0.12587798, 0.06582008, 0.90310585,\n",
       "       0.5859785 , 0.16320428, 0.75762606, 0.6787291 , 0.8603607 ,\n",
       "       0.20081025, 0.82270503, 0.6761003 , 0.04967606, 0.1657498 ,\n",
       "       0.12332006, 0.7491982 , 0.16927886, 0.01573969, 0.38602653,\n",
       "       0.12657048, 0.75243896, 0.19414921, 0.13332318, 0.36785746,\n",
       "       0.3765598 , 0.06936938, 0.861502  , 0.37009683, 0.22221383],\n",
       "      dtype=float32)"
      ]
     },
     "execution_count": 43,
     "metadata": {},
     "output_type": "execute_result"
    }
   ],
   "source": [
    "y_pred[:, 1]  # 행별 (0일 확률, 1일 확률) 값이 나옴. 이중에 두번째 것을 가져와 제출"
   ]
  },
  {
   "cell_type": "code",
   "execution_count": 44,
   "metadata": {},
   "outputs": [
    {
     "data": {
      "text/plain": [
       "Index(['id', 'proba'], dtype='object')"
      ]
     },
     "execution_count": 44,
     "metadata": {},
     "output_type": "execute_result"
    }
   ],
   "source": [
    "sub.columns"
   ]
  },
  {
   "cell_type": "code",
   "execution_count": 45,
   "metadata": {},
   "outputs": [],
   "source": [
    "sub['proba'] = y_pred[:, 1]"
   ]
  },
  {
   "cell_type": "code",
   "execution_count": 46,
   "metadata": {},
   "outputs": [],
   "source": [
    "sub.to_csv(\"./data/Bankruptcy/fourth_rf_sub.csv\", index=False)"
   ]
  },
  {
   "cell_type": "markdown",
   "metadata": {},
   "source": [
    "### 0.35983 - 앙상블 -RandomForest\n",
    "```\n",
    "sel = ['sum', 'term', 'payment', 'guarantees', 'reason', 'credits',\n",
    "       'other_credits', 'credit_report', 'marital_status', 'age', 'employment',\n",
    "       'qualification', 'immigrant', 'residence_since', 'accommodation',\n",
    "       'estate', 'savings', 'dependents', 'phone', 'status']\n",
    "```\n",
    "\n",
    "### Score: 0.44097, xgb - fourth_rf_sub.csv\n",
    "```\n",
    "model4 = xgb.XGBClassifier(colsample_bytree = 0.2, # 각나무마다 사용하는 feature 비율\n",
    "                           learning_rate = 0.05,\n",
    "                           max_depth = 3, \n",
    "                           alpha = 0.1, \n",
    "                           n_estimators = 1000)\n",
    "\n",
    "#  변경2 : 0.05 이하 제외 'guarantees', 'credits', 'qualification', 'residence_since', 'savings', 'dependents', 'phone',\n",
    "sel = ['sum', 'term', 'payment', 'reason', 'other_credits', 'credit_report', \n",
    "       'marital_status', 'age', 'employment', 'immigrant',  'accommodation',\n",
    "       'estate', 'status']\n",
    "```"
   ]
  },
  {
   "cell_type": "code",
   "execution_count": null,
   "metadata": {},
   "outputs": [],
   "source": []
  }
 ],
 "metadata": {
  "kernelspec": {
   "display_name": "Python 3",
   "language": "python",
   "name": "python3"
  },
  "language_info": {
   "codemirror_mode": {
    "name": "ipython",
    "version": 3
   },
   "file_extension": ".py",
   "mimetype": "text/x-python",
   "name": "python",
   "nbconvert_exporter": "python",
   "pygments_lexer": "ipython3",
   "version": "3.8.5"
  }
 },
 "nbformat": 4,
 "nbformat_minor": 4
}
