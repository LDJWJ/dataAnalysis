{
 "cells": [
  {
   "cell_type": "markdown",
   "metadata": {},
   "source": [
    "## [태풍 데이터 셋 데이터 분석] \n",
    " * ---\n",
    " * 데이터 출처 : https://data.kma.go.kr/data/weatherIssue/typList.do?pgmNo=724\n",
    "   * ISSUE_TY_2021_14_찬투(CHANTHU)_20210907_2021.zip\n",
    "태풍지점, 기상청, 2021, 일 자료\n",
    "\n",
    " * 데이터 명 : ISSUE_TY_2021_14_CHANTHU_20210907_2021.xls\n",
    "        \n",
    " * 데이터 분석 코드\n",
    "   * [github 코드](https://github.com/LDJWJ/dataAnalysis/blob/main/----)\n",
    "   * [HTML코드](https://ldjwj.github.io/dataAnalysis/----)"
   ]
  },
  {
   "cell_type": "markdown",
   "metadata": {},
   "source": [
    "### 데이터 설명\n",
    " * 태풍과 관련된 일자별 정보"
   ]
  },
  {
   "cell_type": "markdown",
   "metadata": {},
   "source": [
    "### 라이브러리 불러오기"
   ]
  },
  {
   "cell_type": "code",
   "execution_count": 1,
   "metadata": {},
   "outputs": [],
   "source": [
    "import pandas as pd\n",
    "import seaborn as sns\n",
    "import numpy as np\n",
    "import matplotlib.pyplot as plt\n",
    "\n",
    "from sklearn.model_selection import train_test_split"
   ]
  },
  {
   "cell_type": "code",
   "execution_count": 4,
   "metadata": {},
   "outputs": [
    {
     "data": {
      "text/plain": [
       "(52, 11)"
      ]
     },
     "execution_count": 4,
     "metadata": {},
     "output_type": "execute_result"
    }
   ],
   "source": [
    "dat = pd.read_excel(\"./data/Typhoon/ISSUE_TY_2021_14_CHANTHU_20210907_2021.xls\")\n",
    "\n",
    "dat.shape"
   ]
  },
  {
   "cell_type": "code",
   "execution_count": 5,
   "metadata": {},
   "outputs": [
    {
     "data": {
      "text/html": [
       "<div>\n",
       "<style scoped>\n",
       "    .dataframe tbody tr th:only-of-type {\n",
       "        vertical-align: middle;\n",
       "    }\n",
       "\n",
       "    .dataframe tbody tr th {\n",
       "        vertical-align: top;\n",
       "    }\n",
       "\n",
       "    .dataframe thead th {\n",
       "        text-align: right;\n",
       "    }\n",
       "</style>\n",
       "<table border=\"1\" class=\"dataframe\">\n",
       "  <thead>\n",
       "    <tr style=\"text-align: right;\">\n",
       "      <th></th>\n",
       "      <th>구분</th>\n",
       "      <th>일시(KST)</th>\n",
       "      <th>중심위치</th>\n",
       "      <th>Unnamed: 3</th>\n",
       "      <th>중심기압(hPa)</th>\n",
       "      <th>최대풍속(m/s)</th>\n",
       "      <th>강풍반경(km)</th>\n",
       "      <th>폭풍반경(km)</th>\n",
       "      <th>강도</th>\n",
       "      <th>진행방향</th>\n",
       "      <th>이동속도(km/h)</th>\n",
       "    </tr>\n",
       "  </thead>\n",
       "  <tbody>\n",
       "    <tr>\n",
       "      <th>0</th>\n",
       "      <td>NaN</td>\n",
       "      <td>NaN</td>\n",
       "      <td>위도(˚N)</td>\n",
       "      <td>경도(˚E)</td>\n",
       "      <td>NaN</td>\n",
       "      <td>NaN</td>\n",
       "      <td>NaN</td>\n",
       "      <td>NaN</td>\n",
       "      <td>NaN</td>\n",
       "      <td>NaN</td>\n",
       "      <td>NaN</td>\n",
       "    </tr>\n",
       "    <tr>\n",
       "      <th>1</th>\n",
       "      <td>TS</td>\n",
       "      <td>2021년 09월 07일 09시</td>\n",
       "      <td>15.7</td>\n",
       "      <td>136.6</td>\n",
       "      <td>1000.0</td>\n",
       "      <td>18.0</td>\n",
       "      <td>150.0</td>\n",
       "      <td>0.0</td>\n",
       "      <td>-</td>\n",
       "      <td>서</td>\n",
       "      <td>25.0</td>\n",
       "    </tr>\n",
       "    <tr>\n",
       "      <th>2</th>\n",
       "      <td>TS</td>\n",
       "      <td>2021년 09월 07일 15시</td>\n",
       "      <td>16.1</td>\n",
       "      <td>135.7</td>\n",
       "      <td>994.0</td>\n",
       "      <td>21.0</td>\n",
       "      <td>160.0</td>\n",
       "      <td>0.0</td>\n",
       "      <td>-</td>\n",
       "      <td>서북서</td>\n",
       "      <td>19.0</td>\n",
       "    </tr>\n",
       "    <tr>\n",
       "      <th>3</th>\n",
       "      <td>TS</td>\n",
       "      <td>2021년 09월 07일 21시</td>\n",
       "      <td>16.3</td>\n",
       "      <td>134.6</td>\n",
       "      <td>990.0</td>\n",
       "      <td>24.0</td>\n",
       "      <td>180.0</td>\n",
       "      <td>0.0</td>\n",
       "      <td>-</td>\n",
       "      <td>서</td>\n",
       "      <td>21.0</td>\n",
       "    </tr>\n",
       "    <tr>\n",
       "      <th>4</th>\n",
       "      <td>STS</td>\n",
       "      <td>2021년 09월 08일 03시</td>\n",
       "      <td>16.3</td>\n",
       "      <td>133.5</td>\n",
       "      <td>985.0</td>\n",
       "      <td>27.0</td>\n",
       "      <td>190.0</td>\n",
       "      <td>70.0</td>\n",
       "      <td>중</td>\n",
       "      <td>서</td>\n",
       "      <td>21.0</td>\n",
       "    </tr>\n",
       "  </tbody>\n",
       "</table>\n",
       "</div>"
      ],
      "text/plain": [
       "    구분            일시(KST)    중심위치 Unnamed: 3  중심기압(hPa)  최대풍속(m/s)  강풍반경(km)  \\\n",
       "0  NaN                NaN  위도(˚N)     경도(˚E)        NaN        NaN       NaN   \n",
       "1   TS  2021년 09월 07일 09시    15.7      136.6     1000.0       18.0     150.0   \n",
       "2   TS  2021년 09월 07일 15시    16.1      135.7      994.0       21.0     160.0   \n",
       "3   TS  2021년 09월 07일 21시    16.3      134.6      990.0       24.0     180.0   \n",
       "4  STS  2021년 09월 08일 03시    16.3      133.5      985.0       27.0     190.0   \n",
       "\n",
       "   폭풍반경(km)   강도 진행방향  이동속도(km/h)  \n",
       "0       NaN  NaN  NaN         NaN  \n",
       "1       0.0    -    서        25.0  \n",
       "2       0.0    -  서북서        19.0  \n",
       "3       0.0    -    서        21.0  \n",
       "4      70.0    중    서        21.0  "
      ]
     },
     "execution_count": 5,
     "metadata": {},
     "output_type": "execute_result"
    }
   ],
   "source": [
    "dat.head()"
   ]
  },
  {
   "cell_type": "code",
   "execution_count": 6,
   "metadata": {},
   "outputs": [
    {
     "data": {
      "text/plain": [
       "Index(['구분', '일시(KST)', '중심위치', 'Unnamed: 3', '중심기압(hPa)', '최대풍속(m/s)',\n",
       "       '강풍반경(km)', '폭풍반경(km)', '강도', '진행방향', '이동속도(km/h)'],\n",
       "      dtype='object')"
      ]
     },
     "execution_count": 6,
     "metadata": {},
     "output_type": "execute_result"
    }
   ],
   "source": [
    "dat.columns "
   ]
  },
  {
   "cell_type": "markdown",
   "metadata": {},
   "source": [
    "* 첫번째행이 컬럼. 다시 1행을 컬럼으로 하고 다시 불러온다."
   ]
  },
  {
   "cell_type": "code",
   "execution_count": 8,
   "metadata": {},
   "outputs": [],
   "source": [
    "dat.columns = ['구분', '일시(KST)', '위도(˚N)', '경도(˚E)', '중심기압(hPa)', '최대풍속(m/s)',\n",
    "       '강풍반경(km)', '폭풍반경(km)', '강도', '진행방향', '이동속도(km/h)']"
   ]
  },
  {
   "cell_type": "code",
   "execution_count": 9,
   "metadata": {},
   "outputs": [
    {
     "data": {
      "text/plain": [
       "Index(['구분', '일시(KST)', '위도(˚N)', '경도(˚E)', '중심기압(hPa)', '최대풍속(m/s)',\n",
       "       '강풍반경(km)', '폭풍반경(km)', '강도', '진행방향', '이동속도(km/h)'],\n",
       "      dtype='object')"
      ]
     },
     "execution_count": 9,
     "metadata": {},
     "output_type": "execute_result"
    }
   ],
   "source": [
    "dat.columns"
   ]
  },
  {
   "cell_type": "code",
   "execution_count": 10,
   "metadata": {},
   "outputs": [
    {
     "data": {
      "text/html": [
       "<div>\n",
       "<style scoped>\n",
       "    .dataframe tbody tr th:only-of-type {\n",
       "        vertical-align: middle;\n",
       "    }\n",
       "\n",
       "    .dataframe tbody tr th {\n",
       "        vertical-align: top;\n",
       "    }\n",
       "\n",
       "    .dataframe thead th {\n",
       "        text-align: right;\n",
       "    }\n",
       "</style>\n",
       "<table border=\"1\" class=\"dataframe\">\n",
       "  <thead>\n",
       "    <tr style=\"text-align: right;\">\n",
       "      <th></th>\n",
       "      <th>구분</th>\n",
       "      <th>일시(KST)</th>\n",
       "      <th>위도(˚N)</th>\n",
       "      <th>경도(˚E)</th>\n",
       "      <th>중심기압(hPa)</th>\n",
       "      <th>최대풍속(m/s)</th>\n",
       "      <th>강풍반경(km)</th>\n",
       "      <th>폭풍반경(km)</th>\n",
       "      <th>강도</th>\n",
       "      <th>진행방향</th>\n",
       "      <th>이동속도(km/h)</th>\n",
       "    </tr>\n",
       "  </thead>\n",
       "  <tbody>\n",
       "    <tr>\n",
       "      <th>0</th>\n",
       "      <td>NaN</td>\n",
       "      <td>NaN</td>\n",
       "      <td>위도(˚N)</td>\n",
       "      <td>경도(˚E)</td>\n",
       "      <td>NaN</td>\n",
       "      <td>NaN</td>\n",
       "      <td>NaN</td>\n",
       "      <td>NaN</td>\n",
       "      <td>NaN</td>\n",
       "      <td>NaN</td>\n",
       "      <td>NaN</td>\n",
       "    </tr>\n",
       "    <tr>\n",
       "      <th>1</th>\n",
       "      <td>TS</td>\n",
       "      <td>2021년 09월 07일 09시</td>\n",
       "      <td>15.7</td>\n",
       "      <td>136.6</td>\n",
       "      <td>1000.0</td>\n",
       "      <td>18.0</td>\n",
       "      <td>150.0</td>\n",
       "      <td>0.0</td>\n",
       "      <td>-</td>\n",
       "      <td>서</td>\n",
       "      <td>25.0</td>\n",
       "    </tr>\n",
       "    <tr>\n",
       "      <th>2</th>\n",
       "      <td>TS</td>\n",
       "      <td>2021년 09월 07일 15시</td>\n",
       "      <td>16.1</td>\n",
       "      <td>135.7</td>\n",
       "      <td>994.0</td>\n",
       "      <td>21.0</td>\n",
       "      <td>160.0</td>\n",
       "      <td>0.0</td>\n",
       "      <td>-</td>\n",
       "      <td>서북서</td>\n",
       "      <td>19.0</td>\n",
       "    </tr>\n",
       "    <tr>\n",
       "      <th>3</th>\n",
       "      <td>TS</td>\n",
       "      <td>2021년 09월 07일 21시</td>\n",
       "      <td>16.3</td>\n",
       "      <td>134.6</td>\n",
       "      <td>990.0</td>\n",
       "      <td>24.0</td>\n",
       "      <td>180.0</td>\n",
       "      <td>0.0</td>\n",
       "      <td>-</td>\n",
       "      <td>서</td>\n",
       "      <td>21.0</td>\n",
       "    </tr>\n",
       "    <tr>\n",
       "      <th>4</th>\n",
       "      <td>STS</td>\n",
       "      <td>2021년 09월 08일 03시</td>\n",
       "      <td>16.3</td>\n",
       "      <td>133.5</td>\n",
       "      <td>985.0</td>\n",
       "      <td>27.0</td>\n",
       "      <td>190.0</td>\n",
       "      <td>70.0</td>\n",
       "      <td>중</td>\n",
       "      <td>서</td>\n",
       "      <td>21.0</td>\n",
       "    </tr>\n",
       "  </tbody>\n",
       "</table>\n",
       "</div>"
      ],
      "text/plain": [
       "    구분            일시(KST)  위도(˚N)  경도(˚E)  중심기압(hPa)  최대풍속(m/s)  강풍반경(km)  \\\n",
       "0  NaN                NaN  위도(˚N)  경도(˚E)        NaN        NaN       NaN   \n",
       "1   TS  2021년 09월 07일 09시    15.7   136.6     1000.0       18.0     150.0   \n",
       "2   TS  2021년 09월 07일 15시    16.1   135.7      994.0       21.0     160.0   \n",
       "3   TS  2021년 09월 07일 21시    16.3   134.6      990.0       24.0     180.0   \n",
       "4  STS  2021년 09월 08일 03시    16.3   133.5      985.0       27.0     190.0   \n",
       "\n",
       "   폭풍반경(km)   강도 진행방향  이동속도(km/h)  \n",
       "0       NaN  NaN  NaN         NaN  \n",
       "1       0.0    -    서        25.0  \n",
       "2       0.0    -  서북서        19.0  \n",
       "3       0.0    -    서        21.0  \n",
       "4      70.0    중    서        21.0  "
      ]
     },
     "execution_count": 10,
     "metadata": {},
     "output_type": "execute_result"
    }
   ],
   "source": [
    "dat.head()"
   ]
  },
  {
   "cell_type": "code",
   "execution_count": 11,
   "metadata": {},
   "outputs": [
    {
     "data": {
      "text/html": [
       "<div>\n",
       "<style scoped>\n",
       "    .dataframe tbody tr th:only-of-type {\n",
       "        vertical-align: middle;\n",
       "    }\n",
       "\n",
       "    .dataframe tbody tr th {\n",
       "        vertical-align: top;\n",
       "    }\n",
       "\n",
       "    .dataframe thead th {\n",
       "        text-align: right;\n",
       "    }\n",
       "</style>\n",
       "<table border=\"1\" class=\"dataframe\">\n",
       "  <thead>\n",
       "    <tr style=\"text-align: right;\">\n",
       "      <th></th>\n",
       "      <th>구분</th>\n",
       "      <th>일시(KST)</th>\n",
       "      <th>위도(˚N)</th>\n",
       "      <th>경도(˚E)</th>\n",
       "      <th>중심기압(hPa)</th>\n",
       "      <th>최대풍속(m/s)</th>\n",
       "      <th>강풍반경(km)</th>\n",
       "      <th>폭풍반경(km)</th>\n",
       "      <th>강도</th>\n",
       "      <th>진행방향</th>\n",
       "      <th>이동속도(km/h)</th>\n",
       "    </tr>\n",
       "  </thead>\n",
       "  <tbody>\n",
       "    <tr>\n",
       "      <th>1</th>\n",
       "      <td>TS</td>\n",
       "      <td>2021년 09월 07일 09시</td>\n",
       "      <td>15.7</td>\n",
       "      <td>136.6</td>\n",
       "      <td>1000.0</td>\n",
       "      <td>18.0</td>\n",
       "      <td>150.0</td>\n",
       "      <td>0.0</td>\n",
       "      <td>-</td>\n",
       "      <td>서</td>\n",
       "      <td>25.0</td>\n",
       "    </tr>\n",
       "    <tr>\n",
       "      <th>2</th>\n",
       "      <td>TS</td>\n",
       "      <td>2021년 09월 07일 15시</td>\n",
       "      <td>16.1</td>\n",
       "      <td>135.7</td>\n",
       "      <td>994.0</td>\n",
       "      <td>21.0</td>\n",
       "      <td>160.0</td>\n",
       "      <td>0.0</td>\n",
       "      <td>-</td>\n",
       "      <td>서북서</td>\n",
       "      <td>19.0</td>\n",
       "    </tr>\n",
       "    <tr>\n",
       "      <th>3</th>\n",
       "      <td>TS</td>\n",
       "      <td>2021년 09월 07일 21시</td>\n",
       "      <td>16.3</td>\n",
       "      <td>134.6</td>\n",
       "      <td>990.0</td>\n",
       "      <td>24.0</td>\n",
       "      <td>180.0</td>\n",
       "      <td>0.0</td>\n",
       "      <td>-</td>\n",
       "      <td>서</td>\n",
       "      <td>21.0</td>\n",
       "    </tr>\n",
       "    <tr>\n",
       "      <th>4</th>\n",
       "      <td>STS</td>\n",
       "      <td>2021년 09월 08일 03시</td>\n",
       "      <td>16.3</td>\n",
       "      <td>133.5</td>\n",
       "      <td>985.0</td>\n",
       "      <td>27.0</td>\n",
       "      <td>190.0</td>\n",
       "      <td>70.0</td>\n",
       "      <td>중</td>\n",
       "      <td>서</td>\n",
       "      <td>21.0</td>\n",
       "    </tr>\n",
       "    <tr>\n",
       "      <th>5</th>\n",
       "      <td>TY</td>\n",
       "      <td>2021년 09월 08일 09시</td>\n",
       "      <td>16</td>\n",
       "      <td>132.4</td>\n",
       "      <td>945.0</td>\n",
       "      <td>45.0</td>\n",
       "      <td>200.0</td>\n",
       "      <td>100.0</td>\n",
       "      <td>매우 강</td>\n",
       "      <td>서</td>\n",
       "      <td>21.0</td>\n",
       "    </tr>\n",
       "  </tbody>\n",
       "</table>\n",
       "</div>"
      ],
      "text/plain": [
       "    구분            일시(KST) 위도(˚N) 경도(˚E)  중심기압(hPa)  최대풍속(m/s)  강풍반경(km)  \\\n",
       "1   TS  2021년 09월 07일 09시   15.7  136.6     1000.0       18.0     150.0   \n",
       "2   TS  2021년 09월 07일 15시   16.1  135.7      994.0       21.0     160.0   \n",
       "3   TS  2021년 09월 07일 21시   16.3  134.6      990.0       24.0     180.0   \n",
       "4  STS  2021년 09월 08일 03시   16.3  133.5      985.0       27.0     190.0   \n",
       "5   TY  2021년 09월 08일 09시     16  132.4      945.0       45.0     200.0   \n",
       "\n",
       "   폭풍반경(km)    강도 진행방향  이동속도(km/h)  \n",
       "1       0.0     -    서        25.0  \n",
       "2       0.0     -  서북서        19.0  \n",
       "3       0.0     -    서        21.0  \n",
       "4      70.0     중    서        21.0  \n",
       "5     100.0  매우 강    서        21.0  "
      ]
     },
     "execution_count": 11,
     "metadata": {},
     "output_type": "execute_result"
    }
   ],
   "source": [
    "dat_01 = dat.iloc[1:]\n",
    "dat_01.head()"
   ]
  },
  {
   "cell_type": "code",
   "execution_count": 12,
   "metadata": {},
   "outputs": [
    {
     "name": "stdout",
     "output_type": "stream",
     "text": [
      "<class 'pandas.core.frame.DataFrame'>\n",
      "RangeIndex: 51 entries, 1 to 51\n",
      "Data columns (total 11 columns):\n",
      " #   Column      Non-Null Count  Dtype  \n",
      "---  ------      --------------  -----  \n",
      " 0   구분          51 non-null     object \n",
      " 1   일시(KST)     51 non-null     object \n",
      " 2   위도(˚N)      51 non-null     object \n",
      " 3   경도(˚E)      51 non-null     object \n",
      " 4   중심기압(hPa)   51 non-null     float64\n",
      " 5   최대풍속(m/s)   51 non-null     float64\n",
      " 6   강풍반경(km)    51 non-null     float64\n",
      " 7   폭풍반경(km)    51 non-null     float64\n",
      " 8   강도          51 non-null     object \n",
      " 9   진행방향        51 non-null     object \n",
      " 10  이동속도(km/h)  51 non-null     float64\n",
      "dtypes: float64(5), object(6)\n",
      "memory usage: 4.5+ KB\n"
     ]
    }
   ],
   "source": [
    "dat_01.info()"
   ]
  },
  {
   "cell_type": "markdown",
   "metadata": {},
   "source": [
    "* 데이터 결측치가 없다. 여기서 target를 이동속도로 잡아서 진행."
   ]
  },
  {
   "cell_type": "markdown",
   "metadata": {},
   "source": [
    "### 이동속도 예측 모델 만들기"
   ]
  },
  {
   "cell_type": "code",
   "execution_count": 19,
   "metadata": {},
   "outputs": [],
   "source": [
    "from sklearn.linear_model import LinearRegression\n",
    "from sklearn.neighbors import KNeighborsRegressor\n",
    "from sklearn.ensemble import RandomForestRegressor"
   ]
  },
  {
   "cell_type": "code",
   "execution_count": 22,
   "metadata": {},
   "outputs": [
    {
     "data": {
      "text/plain": [
       "((40, 4), (11, 4))"
      ]
     },
     "execution_count": 22,
     "metadata": {},
     "output_type": "execute_result"
    }
   ],
   "source": [
    "sel = ['중심기압(hPa)', '최대풍속(m/s)', '강풍반경(km)', '폭풍반경(km)']\n",
    "\n",
    "X = dat_01[sel]\n",
    "y = dat_01['이동속도(km/h)']\n",
    "\n",
    "X_train, X_test, y_train, y_test = train_test_split(X, y, \n",
    "                                                   test_size=0.2,\n",
    "                                                   random_state = 0)\n",
    "\n",
    "X_train.shape, X_test.shape"
   ]
  },
  {
   "cell_type": "code",
   "execution_count": 23,
   "metadata": {},
   "outputs": [
    {
     "name": "stdout",
     "output_type": "stream",
     "text": [
      "학습용 정확도 :  0.5545907720669228\n",
      "테스트용 정확도 :  -0.012968356513571422\n",
      "학습용 정확도 :  0.6224920712020343\n",
      "테스트용 정확도 :  0.16049416990560839\n",
      "학습용 정확도 :  0.761921906773228\n",
      "테스트용 정확도 :  -0.0308690950852899\n"
     ]
    }
   ],
   "source": [
    "model1 = LinearRegression()\n",
    "model1.fit(X_train, y_train)\n",
    "print(\"학습용 정확도 : \", model1.score(X_train,y_train) )\n",
    "print(\"테스트용 정확도 : \", model1.score(X_test,y_test) )\n",
    "\n",
    "model2 = KNeighborsRegressor()\n",
    "model2.fit(X_train, y_train)\n",
    "print(\"학습용 정확도 : \", model2.score(X_train,y_train) )\n",
    "print(\"테스트용 정확도 : \", model2.score(X_test,y_test) )\n",
    "\n",
    "model3 = RandomForestRegressor()\n",
    "model3.fit(X_train, y_train)\n",
    "print(\"학습용 정확도 : \", model3.score(X_train,y_train) )\n",
    "print(\"테스트용 정확도 : \", model3.score(X_test,y_test) )"
   ]
  },
  {
   "cell_type": "markdown",
   "metadata": {},
   "source": [
    "* 데이터의 수가 너무 작아, 이동속도를 예측하는 것이 힘들어 보임.\n",
    "* 해결 방안 제안 : 데이터를 추가적으로 수집하거나, 태풍 전체 데이터를 다운로드 받아, 전체 데이터를 하나로 묶어서 해보기\n",
    "* 추후 방향 : 데이터가 많은 데이터 셋 선택해보기."
   ]
  },
  {
   "cell_type": "code",
   "execution_count": null,
   "metadata": {},
   "outputs": [],
   "source": []
  }
 ],
 "metadata": {
  "kernelspec": {
   "display_name": "Python 3",
   "language": "python",
   "name": "python3"
  },
  "language_info": {
   "codemirror_mode": {
    "name": "ipython",
    "version": 3
   },
   "file_extension": ".py",
   "mimetype": "text/x-python",
   "name": "python",
   "nbconvert_exporter": "python",
   "pygments_lexer": "ipython3",
   "version": "3.8.5"
  }
 },
 "nbformat": 4,
 "nbformat_minor": 4
}
