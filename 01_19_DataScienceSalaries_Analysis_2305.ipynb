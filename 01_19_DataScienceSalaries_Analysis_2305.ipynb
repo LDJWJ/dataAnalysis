{
 "cells": [
  {
   "cell_type": "markdown",
   "id": "9e2ad4d4",
   "metadata": {
    "id": "9e2ad4d4"
   },
   "source": [
    "### ChatGPT를 활용한 데이터 과학 분야 직무 및 연봉 정보 데이터 분석"
   ]
  },
  {
   "cell_type": "markdown",
   "id": "8cc112ff",
   "metadata": {},
   "source": [
    "### 학습 내용\n",
    " * 데이터 과학 분야 직무 관련 데이터 셋 분석\n",
    " * ChatGPT를 활용한 데이터 분석해 보기"
   ]
  },
  {
   "cell_type": "markdown",
   "id": "a2ff020f",
   "metadata": {},
   "source": [
    "### 내용\n",
    " * 데이터 소개\n",
    " * 직무별 평균 연봉 알아보기\n",
    " * 직무별 상위 10%의 직무 경력 수준\n",
    " * 나라별 연봉 수준 알아보기"
   ]
  },
  {
   "cell_type": "markdown",
   "id": "3f3672db",
   "metadata": {},
   "source": [
    "###  데이터 소개"
   ]
  },
  {
   "cell_type": "markdown",
   "id": "e96eee2e",
   "metadata": {
    "id": "e96eee2e"
   },
   "source": [
    "* 데이터 소개\n",
    "\n",
    "데이터 셋 URL : https://www.kaggle.com/datasets/arnabchaki/data-science-salaries-2023\n",
    "  * 데이터 과학 분야에서 근무하는 사람들의 연봉 정보를 담고 있음.\n",
    "  * 2023년 정보를 포함.\n",
    "\n",
    "```\n",
    "데이터 과학 채용 연봉 데이터셋은 총 11개의 열(column)로 구성되어 있습니다. 각각의 열은 다음과 같습니다:\n",
    "\n",
    "work_year: 연봉이 지급된 해(연도)\n",
    "experience_level: 해당 연도에 해당하는 직무 경력 수준\n",
    "employment_type: 해당 직무의 고용 형태\n",
    "job_title: 해당 연도에 근무한 직무\n",
    "salary: 총 지급된 급여 총액\n",
    "salary_currency: 급여 통화 (ISO 4217 통화 코드)\n",
    "salaryinusd: 미국 달러로 환산된 급여\n",
    "employee_residence: 해당 연도에 근무한 직원의 주요 거주 국가 (ISO 3166 국가 코드)\n",
    "remote_ratio: 원격으로 수행된 업무 비율\n",
    "company_location: 고용주의 본사나 계약 지점이 위치한 국가\n",
    "company_size: 해당 연도에 근무한 회사의 중앙값 인원 수\n",
    "\n",
    "```"
   ]
  },
  {
   "cell_type": "markdown",
   "id": "dc40c6c9",
   "metadata": {
    "id": "dc40c6c9"
   },
   "source": [
    "### 필수 라이브러리 불러오기"
   ]
  },
  {
   "cell_type": "code",
   "execution_count": 86,
   "id": "4409edc5",
   "metadata": {
    "id": "4409edc5"
   },
   "outputs": [],
   "source": [
    "import pandas as pd\n",
    "import seaborn as sns\n",
    "import matplotlib.pyplot as plt\n",
    "import matplotlib\n",
    "import folium"
   ]
  },
  {
   "cell_type": "markdown",
   "id": "ac565c7a",
   "metadata": {
    "id": "ac565c7a"
   },
   "source": [
    "### 데이터 불러오기"
   ]
  },
  {
   "cell_type": "code",
   "execution_count": 87,
   "id": "f78adeef",
   "metadata": {
    "id": "f78adeef",
    "outputId": "aa851b9d-492c-4ff2-c6e9-96c74c081c5f"
   },
   "outputs": [
    {
     "data": {
      "text/plain": [
       "(3755, 11)"
      ]
     },
     "execution_count": 87,
     "metadata": {},
     "output_type": "execute_result"
    }
   ],
   "source": [
    "# CSV 파일 경로 지정\n",
    "# \\data\\dataScienceSalaries2023\n",
    "file_path = \"../../data/dataScienceSalaries2023/ds_salaries.csv\"\n",
    "\n",
    "# CSV 파일 불러오기\n",
    "df = pd.read_csv(file_path)\n",
    "df.shape"
   ]
  },
  {
   "cell_type": "markdown",
   "id": "a62b5759",
   "metadata": {
    "id": "a62b5759"
   },
   "source": [
    "### 데이터 탐색"
   ]
  },
  {
   "cell_type": "code",
   "execution_count": 88,
   "id": "3e893738",
   "metadata": {
    "id": "3e893738",
    "outputId": "1b6a6acf-5d8d-4ffe-aad8-9ec659ac6641"
   },
   "outputs": [
    {
     "data": {
      "text/html": [
       "<div>\n",
       "<style scoped>\n",
       "    .dataframe tbody tr th:only-of-type {\n",
       "        vertical-align: middle;\n",
       "    }\n",
       "\n",
       "    .dataframe tbody tr th {\n",
       "        vertical-align: top;\n",
       "    }\n",
       "\n",
       "    .dataframe thead th {\n",
       "        text-align: right;\n",
       "    }\n",
       "</style>\n",
       "<table border=\"1\" class=\"dataframe\">\n",
       "  <thead>\n",
       "    <tr style=\"text-align: right;\">\n",
       "      <th></th>\n",
       "      <th>work_year</th>\n",
       "      <th>experience_level</th>\n",
       "      <th>employment_type</th>\n",
       "      <th>job_title</th>\n",
       "      <th>salary</th>\n",
       "      <th>salary_currency</th>\n",
       "      <th>salary_in_usd</th>\n",
       "      <th>employee_residence</th>\n",
       "      <th>remote_ratio</th>\n",
       "      <th>company_location</th>\n",
       "      <th>company_size</th>\n",
       "    </tr>\n",
       "  </thead>\n",
       "  <tbody>\n",
       "    <tr>\n",
       "      <th>0</th>\n",
       "      <td>2023</td>\n",
       "      <td>SE</td>\n",
       "      <td>FT</td>\n",
       "      <td>Principal Data Scientist</td>\n",
       "      <td>80000</td>\n",
       "      <td>EUR</td>\n",
       "      <td>85847</td>\n",
       "      <td>ES</td>\n",
       "      <td>100</td>\n",
       "      <td>ES</td>\n",
       "      <td>L</td>\n",
       "    </tr>\n",
       "    <tr>\n",
       "      <th>1</th>\n",
       "      <td>2023</td>\n",
       "      <td>MI</td>\n",
       "      <td>CT</td>\n",
       "      <td>ML Engineer</td>\n",
       "      <td>30000</td>\n",
       "      <td>USD</td>\n",
       "      <td>30000</td>\n",
       "      <td>US</td>\n",
       "      <td>100</td>\n",
       "      <td>US</td>\n",
       "      <td>S</td>\n",
       "    </tr>\n",
       "    <tr>\n",
       "      <th>2</th>\n",
       "      <td>2023</td>\n",
       "      <td>MI</td>\n",
       "      <td>CT</td>\n",
       "      <td>ML Engineer</td>\n",
       "      <td>25500</td>\n",
       "      <td>USD</td>\n",
       "      <td>25500</td>\n",
       "      <td>US</td>\n",
       "      <td>100</td>\n",
       "      <td>US</td>\n",
       "      <td>S</td>\n",
       "    </tr>\n",
       "  </tbody>\n",
       "</table>\n",
       "</div>"
      ],
      "text/plain": [
       "   work_year experience_level employment_type                 job_title  \\\n",
       "0       2023               SE              FT  Principal Data Scientist   \n",
       "1       2023               MI              CT               ML Engineer   \n",
       "2       2023               MI              CT               ML Engineer   \n",
       "\n",
       "   salary salary_currency  salary_in_usd employee_residence  remote_ratio  \\\n",
       "0   80000             EUR          85847                 ES           100   \n",
       "1   30000             USD          30000                 US           100   \n",
       "2   25500             USD          25500                 US           100   \n",
       "\n",
       "  company_location company_size  \n",
       "0               ES            L  \n",
       "1               US            S  \n",
       "2               US            S  "
      ]
     },
     "execution_count": 88,
     "metadata": {},
     "output_type": "execute_result"
    }
   ],
   "source": [
    "df.head(3)"
   ]
  },
  {
   "cell_type": "code",
   "execution_count": 89,
   "id": "1617e590",
   "metadata": {
    "id": "1617e590",
    "outputId": "361412ce-db0a-495c-dc42-bfa2852f9463"
   },
   "outputs": [
    {
     "data": {
      "text/html": [
       "<div>\n",
       "<style scoped>\n",
       "    .dataframe tbody tr th:only-of-type {\n",
       "        vertical-align: middle;\n",
       "    }\n",
       "\n",
       "    .dataframe tbody tr th {\n",
       "        vertical-align: top;\n",
       "    }\n",
       "\n",
       "    .dataframe thead th {\n",
       "        text-align: right;\n",
       "    }\n",
       "</style>\n",
       "<table border=\"1\" class=\"dataframe\">\n",
       "  <thead>\n",
       "    <tr style=\"text-align: right;\">\n",
       "      <th></th>\n",
       "      <th>work_year</th>\n",
       "      <th>experience_level</th>\n",
       "      <th>employment_type</th>\n",
       "      <th>job_title</th>\n",
       "      <th>salary</th>\n",
       "      <th>salary_currency</th>\n",
       "      <th>salary_in_usd</th>\n",
       "      <th>employee_residence</th>\n",
       "      <th>remote_ratio</th>\n",
       "      <th>company_location</th>\n",
       "      <th>company_size</th>\n",
       "    </tr>\n",
       "  </thead>\n",
       "  <tbody>\n",
       "    <tr>\n",
       "      <th>3752</th>\n",
       "      <td>2020</td>\n",
       "      <td>EN</td>\n",
       "      <td>FT</td>\n",
       "      <td>Data Scientist</td>\n",
       "      <td>105000</td>\n",
       "      <td>USD</td>\n",
       "      <td>105000</td>\n",
       "      <td>US</td>\n",
       "      <td>100</td>\n",
       "      <td>US</td>\n",
       "      <td>S</td>\n",
       "    </tr>\n",
       "    <tr>\n",
       "      <th>3753</th>\n",
       "      <td>2020</td>\n",
       "      <td>EN</td>\n",
       "      <td>CT</td>\n",
       "      <td>Business Data Analyst</td>\n",
       "      <td>100000</td>\n",
       "      <td>USD</td>\n",
       "      <td>100000</td>\n",
       "      <td>US</td>\n",
       "      <td>100</td>\n",
       "      <td>US</td>\n",
       "      <td>L</td>\n",
       "    </tr>\n",
       "    <tr>\n",
       "      <th>3754</th>\n",
       "      <td>2021</td>\n",
       "      <td>SE</td>\n",
       "      <td>FT</td>\n",
       "      <td>Data Science Manager</td>\n",
       "      <td>7000000</td>\n",
       "      <td>INR</td>\n",
       "      <td>94665</td>\n",
       "      <td>IN</td>\n",
       "      <td>50</td>\n",
       "      <td>IN</td>\n",
       "      <td>L</td>\n",
       "    </tr>\n",
       "  </tbody>\n",
       "</table>\n",
       "</div>"
      ],
      "text/plain": [
       "      work_year experience_level employment_type              job_title  \\\n",
       "3752       2020               EN              FT         Data Scientist   \n",
       "3753       2020               EN              CT  Business Data Analyst   \n",
       "3754       2021               SE              FT   Data Science Manager   \n",
       "\n",
       "       salary salary_currency  salary_in_usd employee_residence  remote_ratio  \\\n",
       "3752   105000             USD         105000                 US           100   \n",
       "3753   100000             USD         100000                 US           100   \n",
       "3754  7000000             INR          94665                 IN            50   \n",
       "\n",
       "     company_location company_size  \n",
       "3752               US            S  \n",
       "3753               US            L  \n",
       "3754               IN            L  "
      ]
     },
     "execution_count": 89,
     "metadata": {},
     "output_type": "execute_result"
    }
   ],
   "source": [
    "df.tail(3)"
   ]
  },
  {
   "cell_type": "markdown",
   "id": "aa0a8042",
   "metadata": {
    "id": "aa0a8042"
   },
   "source": [
    "* 한줄 확인 : 2020년도, 2021년도 연봉의 정보도 있다."
   ]
  },
  {
   "cell_type": "code",
   "execution_count": 90,
   "id": "46b8eee8",
   "metadata": {
    "id": "46b8eee8",
    "outputId": "d7f378f1-5a76-42f1-fe8b-e8163d166630"
   },
   "outputs": [
    {
     "data": {
      "text/plain": [
       "work_year             0\n",
       "experience_level      0\n",
       "employment_type       0\n",
       "job_title             0\n",
       "salary                0\n",
       "salary_currency       0\n",
       "salary_in_usd         0\n",
       "employee_residence    0\n",
       "remote_ratio          0\n",
       "company_location      0\n",
       "company_size          0\n",
       "dtype: int64"
      ]
     },
     "execution_count": 90,
     "metadata": {},
     "output_type": "execute_result"
    }
   ],
   "source": [
    "# 결측치 확인\n",
    "df.isnull().sum()"
   ]
  },
  {
   "cell_type": "markdown",
   "id": "628d1892",
   "metadata": {
    "id": "628d1892"
   },
   "source": [
    "* 한줄 확인 : 비어있는 값(결측치)는 없음."
   ]
  },
  {
   "cell_type": "code",
   "execution_count": 91,
   "id": "23c316be",
   "metadata": {
    "id": "23c316be",
    "outputId": "d9f790fd-6fcc-460b-9d75-ffe1313bc5ce"
   },
   "outputs": [
    {
     "data": {
      "text/html": [
       "<div>\n",
       "<style scoped>\n",
       "    .dataframe tbody tr th:only-of-type {\n",
       "        vertical-align: middle;\n",
       "    }\n",
       "\n",
       "    .dataframe tbody tr th {\n",
       "        vertical-align: top;\n",
       "    }\n",
       "\n",
       "    .dataframe thead th {\n",
       "        text-align: right;\n",
       "    }\n",
       "</style>\n",
       "<table border=\"1\" class=\"dataframe\">\n",
       "  <thead>\n",
       "    <tr style=\"text-align: right;\">\n",
       "      <th></th>\n",
       "      <th>work_year</th>\n",
       "      <th>salary</th>\n",
       "      <th>salary_in_usd</th>\n",
       "      <th>remote_ratio</th>\n",
       "    </tr>\n",
       "  </thead>\n",
       "  <tbody>\n",
       "    <tr>\n",
       "      <th>count</th>\n",
       "      <td>3755.000000</td>\n",
       "      <td>3.755000e+03</td>\n",
       "      <td>3755.000000</td>\n",
       "      <td>3755.000000</td>\n",
       "    </tr>\n",
       "    <tr>\n",
       "      <th>mean</th>\n",
       "      <td>2022.373635</td>\n",
       "      <td>1.906956e+05</td>\n",
       "      <td>137570.389880</td>\n",
       "      <td>46.271638</td>\n",
       "    </tr>\n",
       "    <tr>\n",
       "      <th>std</th>\n",
       "      <td>0.691448</td>\n",
       "      <td>6.716765e+05</td>\n",
       "      <td>63055.625278</td>\n",
       "      <td>48.589050</td>\n",
       "    </tr>\n",
       "    <tr>\n",
       "      <th>min</th>\n",
       "      <td>2020.000000</td>\n",
       "      <td>6.000000e+03</td>\n",
       "      <td>5132.000000</td>\n",
       "      <td>0.000000</td>\n",
       "    </tr>\n",
       "    <tr>\n",
       "      <th>25%</th>\n",
       "      <td>2022.000000</td>\n",
       "      <td>1.000000e+05</td>\n",
       "      <td>95000.000000</td>\n",
       "      <td>0.000000</td>\n",
       "    </tr>\n",
       "    <tr>\n",
       "      <th>50%</th>\n",
       "      <td>2022.000000</td>\n",
       "      <td>1.380000e+05</td>\n",
       "      <td>135000.000000</td>\n",
       "      <td>0.000000</td>\n",
       "    </tr>\n",
       "    <tr>\n",
       "      <th>75%</th>\n",
       "      <td>2023.000000</td>\n",
       "      <td>1.800000e+05</td>\n",
       "      <td>175000.000000</td>\n",
       "      <td>100.000000</td>\n",
       "    </tr>\n",
       "    <tr>\n",
       "      <th>max</th>\n",
       "      <td>2023.000000</td>\n",
       "      <td>3.040000e+07</td>\n",
       "      <td>450000.000000</td>\n",
       "      <td>100.000000</td>\n",
       "    </tr>\n",
       "  </tbody>\n",
       "</table>\n",
       "</div>"
      ],
      "text/plain": [
       "         work_year        salary  salary_in_usd  remote_ratio\n",
       "count  3755.000000  3.755000e+03    3755.000000   3755.000000\n",
       "mean   2022.373635  1.906956e+05  137570.389880     46.271638\n",
       "std       0.691448  6.716765e+05   63055.625278     48.589050\n",
       "min    2020.000000  6.000000e+03    5132.000000      0.000000\n",
       "25%    2022.000000  1.000000e+05   95000.000000      0.000000\n",
       "50%    2022.000000  1.380000e+05  135000.000000      0.000000\n",
       "75%    2023.000000  1.800000e+05  175000.000000    100.000000\n",
       "max    2023.000000  3.040000e+07  450000.000000    100.000000"
      ]
     },
     "execution_count": 91,
     "metadata": {},
     "output_type": "execute_result"
    }
   ],
   "source": [
    "# 통계치 확인\n",
    "df.describe()"
   ]
  },
  {
   "cell_type": "code",
   "execution_count": 92,
   "id": "e2c9803a",
   "metadata": {},
   "outputs": [
    {
     "data": {
      "text/html": [
       "<div>\n",
       "<style scoped>\n",
       "    .dataframe tbody tr th:only-of-type {\n",
       "        vertical-align: middle;\n",
       "    }\n",
       "\n",
       "    .dataframe tbody tr th {\n",
       "        vertical-align: top;\n",
       "    }\n",
       "\n",
       "    .dataframe thead th {\n",
       "        text-align: right;\n",
       "    }\n",
       "</style>\n",
       "<table border=\"1\" class=\"dataframe\">\n",
       "  <thead>\n",
       "    <tr style=\"text-align: right;\">\n",
       "      <th></th>\n",
       "      <th>experience_level</th>\n",
       "      <th>employment_type</th>\n",
       "      <th>job_title</th>\n",
       "      <th>salary_currency</th>\n",
       "      <th>employee_residence</th>\n",
       "      <th>company_location</th>\n",
       "      <th>company_size</th>\n",
       "    </tr>\n",
       "  </thead>\n",
       "  <tbody>\n",
       "    <tr>\n",
       "      <th>count</th>\n",
       "      <td>3755</td>\n",
       "      <td>3755</td>\n",
       "      <td>3755</td>\n",
       "      <td>3755</td>\n",
       "      <td>3755</td>\n",
       "      <td>3755</td>\n",
       "      <td>3755</td>\n",
       "    </tr>\n",
       "    <tr>\n",
       "      <th>unique</th>\n",
       "      <td>4</td>\n",
       "      <td>4</td>\n",
       "      <td>93</td>\n",
       "      <td>20</td>\n",
       "      <td>78</td>\n",
       "      <td>72</td>\n",
       "      <td>3</td>\n",
       "    </tr>\n",
       "    <tr>\n",
       "      <th>top</th>\n",
       "      <td>SE</td>\n",
       "      <td>FT</td>\n",
       "      <td>Data Engineer</td>\n",
       "      <td>USD</td>\n",
       "      <td>US</td>\n",
       "      <td>US</td>\n",
       "      <td>M</td>\n",
       "    </tr>\n",
       "    <tr>\n",
       "      <th>freq</th>\n",
       "      <td>2516</td>\n",
       "      <td>3718</td>\n",
       "      <td>1040</td>\n",
       "      <td>3224</td>\n",
       "      <td>3004</td>\n",
       "      <td>3040</td>\n",
       "      <td>3153</td>\n",
       "    </tr>\n",
       "  </tbody>\n",
       "</table>\n",
       "</div>"
      ],
      "text/plain": [
       "       experience_level employment_type      job_title salary_currency  \\\n",
       "count              3755            3755           3755            3755   \n",
       "unique                4               4             93              20   \n",
       "top                  SE              FT  Data Engineer             USD   \n",
       "freq               2516            3718           1040            3224   \n",
       "\n",
       "       employee_residence company_location company_size  \n",
       "count                3755             3755         3755  \n",
       "unique                 78               72            3  \n",
       "top                    US               US            M  \n",
       "freq                 3004             3040         3153  "
      ]
     },
     "execution_count": 92,
     "metadata": {},
     "output_type": "execute_result"
    }
   ],
   "source": [
    "df.describe(include=\"O\")"
   ]
  },
  {
   "cell_type": "markdown",
   "id": "76ec899f",
   "metadata": {
    "id": "76ec899f"
   },
   "source": [
    "* 수치형 데이터에 대해서 통계값(개수, 평균, 표준편차, 최소, 최대값 등)"
   ]
  },
  {
   "cell_type": "markdown",
   "id": "1c5eaa80",
   "metadata": {
    "id": "1c5eaa80"
   },
   "source": [
    "* 2020년부터 2023년까지의 데이터\n",
    "* 여러국가의 연봉(USD, EUR 등) \n",
    "    * 몇개 국가의 연봉일까?\n",
    "* 미국 달러 환산 급여로 최소($5132 ~ $450000) - 약 600만원 ~ 약 5억 2천\n",
    "    * 600만원 받는 사람의 정보는?\n",
    "    * 5억 2천 받는 사람의 정보는?\n",
    "* remote_ratio : 원격 근무 비율\n",
    "    * 원격 근무가 전혀 없는 사람이 있다.\n",
    "    * 전부 재택 근무를 하는 사람도 있다.\n",
    "    * 데이터가 어떻게 되어 있을까?"
   ]
  },
  {
   "cell_type": "code",
   "execution_count": 93,
   "id": "810255e1",
   "metadata": {
    "id": "810255e1",
    "outputId": "74bf658a-7837-462b-b1b5-42fa405b8af2"
   },
   "outputs": [
    {
     "data": {
      "text/html": [
       "<div>\n",
       "<style scoped>\n",
       "    .dataframe tbody tr th:only-of-type {\n",
       "        vertical-align: middle;\n",
       "    }\n",
       "\n",
       "    .dataframe tbody tr th {\n",
       "        vertical-align: top;\n",
       "    }\n",
       "\n",
       "    .dataframe thead th {\n",
       "        text-align: right;\n",
       "    }\n",
       "</style>\n",
       "<table border=\"1\" class=\"dataframe\">\n",
       "  <thead>\n",
       "    <tr style=\"text-align: right;\">\n",
       "      <th></th>\n",
       "      <th>work_year</th>\n",
       "      <th>experience_level</th>\n",
       "      <th>employment_type</th>\n",
       "      <th>job_title</th>\n",
       "      <th>salary</th>\n",
       "      <th>salary_currency</th>\n",
       "      <th>salary_in_usd</th>\n",
       "      <th>employee_residence</th>\n",
       "      <th>remote_ratio</th>\n",
       "      <th>company_location</th>\n",
       "      <th>company_size</th>\n",
       "    </tr>\n",
       "  </thead>\n",
       "  <tbody>\n",
       "    <tr>\n",
       "      <th>0</th>\n",
       "      <td>2023</td>\n",
       "      <td>SE</td>\n",
       "      <td>FT</td>\n",
       "      <td>Principal Data Scientist</td>\n",
       "      <td>80000</td>\n",
       "      <td>EUR</td>\n",
       "      <td>85847</td>\n",
       "      <td>ES</td>\n",
       "      <td>100</td>\n",
       "      <td>ES</td>\n",
       "      <td>L</td>\n",
       "    </tr>\n",
       "    <tr>\n",
       "      <th>1</th>\n",
       "      <td>2023</td>\n",
       "      <td>MI</td>\n",
       "      <td>CT</td>\n",
       "      <td>ML Engineer</td>\n",
       "      <td>30000</td>\n",
       "      <td>USD</td>\n",
       "      <td>30000</td>\n",
       "      <td>US</td>\n",
       "      <td>100</td>\n",
       "      <td>US</td>\n",
       "      <td>S</td>\n",
       "    </tr>\n",
       "    <tr>\n",
       "      <th>2</th>\n",
       "      <td>2023</td>\n",
       "      <td>MI</td>\n",
       "      <td>CT</td>\n",
       "      <td>ML Engineer</td>\n",
       "      <td>25500</td>\n",
       "      <td>USD</td>\n",
       "      <td>25500</td>\n",
       "      <td>US</td>\n",
       "      <td>100</td>\n",
       "      <td>US</td>\n",
       "      <td>S</td>\n",
       "    </tr>\n",
       "    <tr>\n",
       "      <th>3</th>\n",
       "      <td>2023</td>\n",
       "      <td>SE</td>\n",
       "      <td>FT</td>\n",
       "      <td>Data Scientist</td>\n",
       "      <td>175000</td>\n",
       "      <td>USD</td>\n",
       "      <td>175000</td>\n",
       "      <td>CA</td>\n",
       "      <td>100</td>\n",
       "      <td>CA</td>\n",
       "      <td>M</td>\n",
       "    </tr>\n",
       "    <tr>\n",
       "      <th>4</th>\n",
       "      <td>2023</td>\n",
       "      <td>SE</td>\n",
       "      <td>FT</td>\n",
       "      <td>Data Scientist</td>\n",
       "      <td>120000</td>\n",
       "      <td>USD</td>\n",
       "      <td>120000</td>\n",
       "      <td>CA</td>\n",
       "      <td>100</td>\n",
       "      <td>CA</td>\n",
       "      <td>M</td>\n",
       "    </tr>\n",
       "  </tbody>\n",
       "</table>\n",
       "</div>"
      ],
      "text/plain": [
       "   work_year experience_level employment_type                 job_title  \\\n",
       "0       2023               SE              FT  Principal Data Scientist   \n",
       "1       2023               MI              CT               ML Engineer   \n",
       "2       2023               MI              CT               ML Engineer   \n",
       "3       2023               SE              FT            Data Scientist   \n",
       "4       2023               SE              FT            Data Scientist   \n",
       "\n",
       "   salary salary_currency  salary_in_usd employee_residence  remote_ratio  \\\n",
       "0   80000             EUR          85847                 ES           100   \n",
       "1   30000             USD          30000                 US           100   \n",
       "2   25500             USD          25500                 US           100   \n",
       "3  175000             USD         175000                 CA           100   \n",
       "4  120000             USD         120000                 CA           100   \n",
       "\n",
       "  company_location company_size  \n",
       "0               ES            L  \n",
       "1               US            S  \n",
       "2               US            S  \n",
       "3               CA            M  \n",
       "4               CA            M  "
      ]
     },
     "execution_count": 93,
     "metadata": {},
     "output_type": "execute_result"
    }
   ],
   "source": [
    "df.head()"
   ]
  },
  {
   "cell_type": "markdown",
   "id": "857bc5bc",
   "metadata": {
    "id": "857bc5bc"
   },
   "source": [
    "* 추가 궁금한 것\n",
    "  * 직무별 임금의 평균(job_title, salary_in_usd 관련 컬럼)\n",
    "    * 직무별 상위 10%의 직무 경력 수준(job_title, salary_in_usd, experience_level 관련 컬럼)\n",
    "  * 해당 근무 연도와 거주 국가를 활용한 미국 달러로 표시된 급여(work_year, company_location, salary_in_usd)\n",
    "  * 직무별, 연차별, 기업 규모별 연봉(job_title, experience_level, company_size 관련 컬럼)"
   ]
  },
  {
   "cell_type": "markdown",
   "id": "42cfb421",
   "metadata": {
    "id": "42cfb421"
   },
   "source": [
    "### 직무별 임금의 평균(job_title, salary_in_usd 관련 컬럼)"
   ]
  },
  {
   "cell_type": "code",
   "execution_count": 94,
   "id": "5cba546b",
   "metadata": {
    "id": "5cba546b",
    "outputId": "7aabd395-16b7-4db4-ece4-a6c07e33d970"
   },
   "outputs": [
    {
     "data": {
      "text/plain": [
       "(93,\n",
       " array(['Principal Data Scientist', 'ML Engineer', 'Data Scientist',\n",
       "        'Applied Scientist', 'Data Analyst', 'Data Modeler',\n",
       "        'Research Engineer', 'Analytics Engineer',\n",
       "        'Business Intelligence Engineer', 'Machine Learning Engineer',\n",
       "        'Data Strategist', 'Data Engineer', 'Computer Vision Engineer',\n",
       "        'Data Quality Analyst', 'Compliance Data Analyst',\n",
       "        'Data Architect', 'Applied Machine Learning Engineer',\n",
       "        'AI Developer', 'Research Scientist', 'Data Analytics Manager',\n",
       "        'Business Data Analyst', 'Applied Data Scientist',\n",
       "        'Staff Data Analyst', 'ETL Engineer', 'Data DevOps Engineer',\n",
       "        'Head of Data', 'Data Science Manager', 'Data Manager',\n",
       "        'Machine Learning Researcher', 'Big Data Engineer',\n",
       "        'Data Specialist', 'Lead Data Analyst', 'BI Data Engineer',\n",
       "        'Director of Data Science', 'Machine Learning Scientist',\n",
       "        'MLOps Engineer', 'AI Scientist', 'Autonomous Vehicle Technician',\n",
       "        'Applied Machine Learning Scientist', 'Lead Data Scientist',\n",
       "        'Cloud Database Engineer', 'Financial Data Analyst',\n",
       "        'Data Infrastructure Engineer', 'Software Data Engineer',\n",
       "        'AI Programmer', 'Data Operations Engineer', 'BI Developer',\n",
       "        'Data Science Lead', 'Deep Learning Researcher', 'BI Analyst',\n",
       "        'Data Science Consultant', 'Data Analytics Specialist',\n",
       "        'Machine Learning Infrastructure Engineer', 'BI Data Analyst',\n",
       "        'Head of Data Science', 'Insight Analyst',\n",
       "        'Deep Learning Engineer', 'Machine Learning Software Engineer',\n",
       "        'Big Data Architect', 'Product Data Analyst',\n",
       "        'Computer Vision Software Engineer', 'Azure Data Engineer',\n",
       "        'Marketing Data Engineer', 'Data Analytics Lead', 'Data Lead',\n",
       "        'Data Science Engineer', 'Machine Learning Research Engineer',\n",
       "        'NLP Engineer', 'Manager Data Management',\n",
       "        'Machine Learning Developer', '3D Computer Vision Researcher',\n",
       "        'Principal Machine Learning Engineer', 'Data Analytics Engineer',\n",
       "        'Data Analytics Consultant', 'Data Management Specialist',\n",
       "        'Data Science Tech Lead', 'Data Scientist Lead',\n",
       "        'Cloud Data Engineer', 'Data Operations Analyst',\n",
       "        'Marketing Data Analyst', 'Power BI Developer',\n",
       "        'Product Data Scientist', 'Principal Data Architect',\n",
       "        'Machine Learning Manager', 'Lead Machine Learning Engineer',\n",
       "        'ETL Developer', 'Cloud Data Architect', 'Lead Data Engineer',\n",
       "        'Head of Machine Learning', 'Principal Data Analyst',\n",
       "        'Principal Data Engineer', 'Staff Data Scientist',\n",
       "        'Finance Data Analyst'], dtype=object))"
      ]
     },
     "execution_count": 94,
     "metadata": {},
     "output_type": "execute_result"
    }
   ],
   "source": [
    "len(df['job_title'].unique()), df['job_title'].unique()"
   ]
  },
  {
   "cell_type": "markdown",
   "id": "19789c75",
   "metadata": {
    "id": "19789c75"
   },
   "source": [
    "* 93개 직무가 있다."
   ]
  },
  {
   "cell_type": "markdown",
   "id": "6968e4e9",
   "metadata": {},
   "source": [
    "### 직무를 그룹화 시킨 후에 해당 직무의 평균 연봉 알아보기"
   ]
  },
  {
   "cell_type": "code",
   "execution_count": 95,
   "id": "894d79b0",
   "metadata": {
    "id": "894d79b0",
    "outputId": "a176d277-2534-4c55-8cb6-42a69480dc38"
   },
   "outputs": [
    {
     "data": {
      "text/plain": [
       "job_title\n",
       "3D Computer Vision Researcher     21352.250000\n",
       "AI Developer                     136666.090909\n",
       "AI Programmer                     55000.000000\n",
       "AI Scientist                     110120.875000\n",
       "Analytics Engineer               152368.631068\n",
       "                                     ...      \n",
       "Research Engineer                163108.378378\n",
       "Research Scientist               161214.195122\n",
       "Software Data Engineer            62510.000000\n",
       "Staff Data Analyst                15000.000000\n",
       "Staff Data Scientist             105000.000000\n",
       "Name: salary_in_usd, Length: 93, dtype: float64"
      ]
     },
     "execution_count": 95,
     "metadata": {},
     "output_type": "execute_result"
    }
   ],
   "source": [
    "df.groupby('job_title')['salary_in_usd'].mean()"
   ]
  },
  {
   "cell_type": "code",
   "execution_count": 96,
   "id": "4f774612",
   "metadata": {
    "id": "4f774612",
    "outputId": "608a43c6-baa8-41e1-e602-aaa90ae18c4d"
   },
   "outputs": [
    {
     "data": {
      "text/plain": [
       "job_title\n",
       "3D Computer Vision Researcher     21352.250000\n",
       "AI Developer                     136666.090909\n",
       "AI Programmer                     55000.000000\n",
       "AI Scientist                     110120.875000\n",
       "Analytics Engineer               152368.631068\n",
       "                                     ...      \n",
       "Research Engineer                163108.378378\n",
       "Research Scientist               161214.195122\n",
       "Software Data Engineer            62510.000000\n",
       "Staff Data Analyst                15000.000000\n",
       "Staff Data Scientist             105000.000000\n",
       "Name: salary_in_usd, Length: 93, dtype: float64"
      ]
     },
     "execution_count": 96,
     "metadata": {},
     "output_type": "execute_result"
    }
   ],
   "source": [
    "# 직무별 임금 평균 구하기\n",
    "salary_mean_by_job = df.groupby('job_title')['salary_in_usd'].mean()\n",
    "salary_mean_by_job"
   ]
  },
  {
   "cell_type": "markdown",
   "id": "34d6fe73",
   "metadata": {
    "id": "34d6fe73"
   },
   "source": [
    "* 추가 질문 \n",
    "  * 어떤 직무가 가장 연봉이 높을까?\n",
    "  * ChatGPT 질문 : 직무별 임금 평균을 구하고 가장 높은 연봉이 어떤 직무인지 알고 싶어, 코드를 부탁해."
   ]
  },
  {
   "cell_type": "code",
   "execution_count": 97,
   "id": "b5a1511c",
   "metadata": {
    "id": "b5a1511c",
    "outputId": "0536c31b-e474-484b-92a9-e8ccf1d4f857"
   },
   "outputs": [
    {
     "name": "stdout",
     "output_type": "stream",
     "text": [
      "가장 높은 직무와 연봉 : Data Science Tech Lead 375000.0\n"
     ]
    }
   ],
   "source": [
    "# 가장 높은 평균 연봉 구하기\n",
    "max_salary = salary_mean_by_job.max()\n",
    "# print( max_salary )\n",
    "\n",
    "# 가장 높은 평균 연봉을 가진 직무 구하기\n",
    "max_salary_job = salary_mean_by_job.idxmax()\n",
    "#print( max_salary_job )\n",
    "\n",
    "print(f\"가장 높은 직무와 연봉 : {max_salary_job} {max_salary}\")"
   ]
  },
  {
   "cell_type": "markdown",
   "id": "5ccea340",
   "metadata": {
    "id": "5ccea340"
   },
   "source": [
    "### 직무별 상위 10%의 직무 경력 수준\n",
    " * 관련 컬럼 : job_title, salary_in_usd, experience_level"
   ]
  },
  {
   "cell_type": "code",
   "execution_count": 98,
   "id": "74607bc3",
   "metadata": {
    "id": "74607bc3",
    "outputId": "b5b106fb-7531-4bb2-fd8f-617c3eea07a1"
   },
   "outputs": [
    {
     "data": {
      "text/plain": [
       "job_title\n",
       "3D Computer Vision Researcher    EN\n",
       "AI Developer                     EN\n",
       "AI Programmer                    EN\n",
       "AI Scientist                     EN\n",
       "Analytics Engineer               EN\n",
       "                                 ..\n",
       "Research Engineer                EN\n",
       "Research Scientist               EN\n",
       "Software Data Engineer           MI\n",
       "Staff Data Analyst               EX\n",
       "Staff Data Scientist             SE\n",
       "Name: experience_level, Length: 93, dtype: object"
      ]
     },
     "execution_count": 98,
     "metadata": {},
     "output_type": "execute_result"
    }
   ],
   "source": [
    "grouped_df = df.groupby('job_title')\n",
    "grouped_df['experience_level'].min()"
   ]
  },
  {
   "cell_type": "code",
   "execution_count": 99,
   "id": "f99a2ce4",
   "metadata": {
    "id": "f99a2ce4",
    "outputId": "b4374297-1b63-4277-c339-bb31d20c6756"
   },
   "outputs": [
    {
     "name": "stdout",
     "output_type": "stream",
     "text": [
      "job_title\n",
      "3D Computer Vision Researcher          []\n",
      "AI Developer                         [EN]\n",
      "AI Programmer                          []\n",
      "AI Scientist                         [SE]\n",
      "Analytics Engineer                   [SE]\n",
      "                                   ...   \n",
      "Research Engineer                    [SE]\n",
      "Research Scientist               [MI, SE]\n",
      "Software Data Engineer                 []\n",
      "Staff Data Analyst                     []\n",
      "Staff Data Scientist                   []\n",
      "Length: 93, dtype: object\n"
     ]
    },
    {
     "data": {
      "text/plain": [
       "job_title\n",
       "3D Computer Vision Researcher           []\n",
       "AI Developer                          [EN]\n",
       "AI Programmer                           []\n",
       "AI Scientist                          [SE]\n",
       "Analytics Engineer                    [SE]\n",
       "Applied Data Scientist                [SE]\n",
       "Applied Machine Learning Engineer       []\n",
       "Applied Machine Learning Scientist    [MI]\n",
       "Applied Scientist                     [SE]\n",
       "Autonomous Vehicle Technician           []\n",
       "Azure Data Engineer                     []\n",
       "BI Analyst                              []\n",
       "BI Data Analyst                       [EX]\n",
       "BI Data Engineer                        []\n",
       "BI Developer                          [SE]\n",
       "Big Data Architect                      []\n",
       "Big Data Engineer                     [SE]\n",
       "Business Data Analyst                 [MI]\n",
       "Business Intelligence Engineer          []\n",
       "Cloud Data Architect                    []\n",
       "dtype: object"
      ]
     },
     "execution_count": 99,
     "metadata": {},
     "output_type": "execute_result"
    }
   ],
   "source": [
    "# 직무별 연봉 상위 10%의 경력 수준 구하기\n",
    "\n",
    "# 직무별로 데이터를 그룹화\n",
    "grouped_df = df.groupby('job_title')\n",
    "\n",
    "# 그룹별로 상위 10%의 데이터를 선택하여 경력 수준 추출\n",
    "get_exp_level = lambda x: x.loc[x['salary_in_usd'].nlargest(int(len(x)*0.1)).index]['experience_level'].unique()\n",
    "salary_top_10_by_job = grouped_df.apply(get_exp_level)\n",
    "\n",
    "# 결과 출력\n",
    "print(salary_top_10_by_job)\n",
    "salary_top_10_by_job.head(20)"
   ]
  },
  {
   "cell_type": "code",
   "execution_count": 100,
   "id": "4cd76d5e",
   "metadata": {
    "id": "4cd76d5e",
    "outputId": "0e89e222-3468-4758-8d69-3209f7e1c709"
   },
   "outputs": [
    {
     "data": {
      "text/plain": [
       "array(['SE', 'MI', 'EN', 'EX'], dtype=object)"
      ]
     },
     "execution_count": 100,
     "metadata": {},
     "output_type": "execute_result"
    }
   ],
   "source": [
    "df['experience_level'].unique()"
   ]
  },
  {
   "cell_type": "markdown",
   "id": "7eac3c69",
   "metadata": {
    "id": "7eac3c69"
   },
   "source": [
    "```\n",
    "SE: Software Engineer - 기술적 역량을 갖춘 전문가 \n",
    "  * 3년 이상의 경력 보유한 주니어 개발자~10년 이상의 경력 보유한 시니어 엔지니어\n",
    "  \n",
    "MI: Manager or Individual Contributor\n",
    "  * 해당 분야에서 프로젝트나 인적자원 등의 관리를 담당하는 매니저나 개별적인 업무 수행을 담당하는 전문가, 또는 이 두 역할을 모두 겸하고 있는 직무를 의미\n",
    "  \n",
    "EN: Entry Level (입문 수준 해당 분야 1~3년 경력)\n",
    "  * 해당 분야에서 경력이 거의 없는 인턴 또는 입문 수준의 직무를 의미\n",
    "  \n",
    "EX: Executive Level \n",
    "  * 해당 분야에서 최고위 관리자 또는 경영진 수준의 역할을 수행하는 직무\n",
    "  * 전문가나 경영진을 대상으로 하며, 대체로 15년 이상의 경력을 보유한 사람들이 많이 해당\n",
    "```"
   ]
  },
  {
   "cell_type": "markdown",
   "id": "c106882c",
   "metadata": {
    "id": "c106882c"
   },
   "source": [
    "```\n",
    "AI Developer                          [EN] - 도대체 어떤 나라와 어떤 기업인가?\n",
    "AI Scientist                          [SE]\n",
    "Analytics Engineer                    [SE]\n",
    "Applied Data Scientist                [SE]\n",
    "Applied Machine Learning Scientist    [MI]\n",
    "Applied Scientist                     [SE]\n",
    "BI Data Analyst                       [EX]\n",
    "BI Developer                          [SE]\n",
    "Big Data Engineer                     [SE]\n",
    "Business Data Analyst                 [MI]\n",
    "AI Programmer                           []\n",
    "Applied Machine Learning Engineer       []\n",
    "Autonomous Vehicle Technician           []\n",
    "Azure Data Engineer                     []\n",
    "BI Analyst                              []\n",
    "BI Data Engineer                        []\n",
    "Big Data Architect                      []\n",
    "```"
   ]
  },
  {
   "cell_type": "code",
   "execution_count": 101,
   "id": "4e4d1791",
   "metadata": {},
   "outputs": [
    {
     "data": {
      "text/plain": [
       "Index(['work_year', 'experience_level', 'employment_type', 'job_title',\n",
       "       'salary', 'salary_currency', 'salary_in_usd', 'employee_residence',\n",
       "       'remote_ratio', 'company_location', 'company_size'],\n",
       "      dtype='object')"
      ]
     },
     "execution_count": 101,
     "metadata": {},
     "output_type": "execute_result"
    }
   ],
   "source": [
    "df.columns"
   ]
  },
  {
   "cell_type": "code",
   "execution_count": 102,
   "id": "bc9a0ed9",
   "metadata": {},
   "outputs": [
    {
     "data": {
      "text/plain": [
       "array(['IN', 'SE', 'DE', 'BA', 'MK'], dtype=object)"
      ]
     },
     "execution_count": 102,
     "metadata": {},
     "output_type": "execute_result"
    }
   ],
   "source": [
    "tmp = df.loc[ (df['job_title']==\"AI Developer\"), : ]\n",
    "tmp[ tmp['experience_level']==\"EN\" ]['employee_residence'].unique()"
   ]
  },
  {
   "cell_type": "markdown",
   "id": "5501710d",
   "metadata": {},
   "source": [
    "*  'IN'은 인도, 'SE'는 스웨덴, 'DE'는 독일, 'BA'는 보스니아 헤르체고비나, 'MK'는 북마케도니아 공화국"
   ]
  },
  {
   "cell_type": "markdown",
   "id": "0dcc8f0e",
   "metadata": {
    "id": "0dcc8f0e"
   },
   "source": [
    "## ChatGPT 질문 \n",
    "```\n",
    "AI Developer                          [EN] - 도대체 어떤 나라와 어떤 기업인가?\n",
    "AI Scientist                          [SE]\n",
    "Analytics Engineer                    [SE]\n",
    "Applied Data Scientist                [SE]\n",
    "Applied Machine Learning Scientist    [MI]\n",
    "Applied Scientist                     [SE]\n",
    "BI Data Analyst                       [EX]\n",
    "BI Developer                          [SE]\n",
    "Big Data Engineer                     [SE]\n",
    "Business Data Analyst                 [MI]\n",
    "==============\n",
    "이 친구들의 직무에 필요한 기술은 뭐가 있니?\n",
    "```"
   ]
  },
  {
   "cell_type": "markdown",
   "id": "2292f41e",
   "metadata": {
    "id": "2292f41e"
   },
   "source": [
    "```\n",
    "AI Developer: 인공지능 알고리즘 및 딥러닝 기술에 대한 지식과 프로그래밍 언어(예: Python, Java) 및 프레임워크(예: TensorFlow, PyTorch)에 대한 숙련도가 필요합니다. (Python, Tensorflow, Pytorch 등)\n",
    "\n",
    "AI Scientist: 기계 학습 및 딥러닝 알고리즘, 통계학 및 선형대수학 등의 수학적 이론 지식, 프로그래밍 언어 및 프레임워크에 대한 숙련도가 필요합니다.\n",
    "(알고리즘, 통계학, 선형대수, 프레임 워크 등)\n",
    "\n",
    "Analytics Engineer: 데이터 파이프라인 및 ETL(Extract-Transform-Load) 프로세스 개발, 데이터 웨어하우스 구축, 데이터 시각화 등에 대한 기술적 이해와 프로그래밍 언어(예: Python, SQL) 및 클라우드 서비스(예: AWS, GCP)에 대한 경험이 필요합니다.\n",
    "(데이터 파이프라인, 데이터 시각화 - SQL, AWS, GCP 등)\n",
    "\n",
    "Applied Data Scientist: 데이터 마이닝 및 머신러닝 알고리즘, 통계학, 데이터 분석 기술 등의 지식과 Python, R 등의 프로그래밍 언어, 머신러닝 프레임워크 등의 기술적 지식이 필요합니다.\n",
    "(Python, R, ML/DL 알고리즘, 통계학 등)\n",
    "\n",
    "Applied Machine Learning Scientist: 머신러닝 및 딥러닝 알고리즘 개발, 데이터 분석, 통계학, Python, R 등의 프로그래밍 언어 및 머신러닝 프레임워크(예: TensorFlow, PyTorch) 등의 기술적 지식이 필요합니다.\n",
    "(Python, R, ML/DL 알고리즘, 통계학 등)\n",
    "\n",
    "Applied Scientist: 머신러닝 및 딥러닝 알고리즘 개발, 통계학, 수학 등의 지식과 Python, R 등의 프로그래밍 언어, 머신러닝 프레임워크 등의 기술적 지식이 필요합니다.\n",
    "BI Data Analyst: 데이터 시각화, 데이터 분석 및 데이터 마이닝 기술, BI 도구(예: Tableau, Power BI) 및 SQL 등의 기술적 지식이 필요합니다.\n",
    "(Python, R, ML/DL 알고리즘, 통계학, Tableau, SQL 등)\n",
    "\n",
    "\n",
    "BI Developer: 데이터 웨어하우스 설계 및 개발, ETL 프로세스 개발, BI 도구 등에 대한 지식과 프로그래밍 언어(예: SQL, Python) 및 클라우드 서비스(예: AWS, Azure) 등의 기술적\n",
    "(데이터 웨어하우스 설계 및 개발(DB), SQL, Python, AWS, Azure 등)\n",
    "\n",
    "\n",
    "Big Data Engineer: 대용량 데이터 처리를 위한 분산 컴퓨팅 시스템 및 클러스터링 시스템(예: Hadoop, Spark)에 대한 이해와 이를 활용한 대용량 데이터 처리 경험이 필요합니다.\n",
    "(분산 컴퓨팅, Hadoop, Spark 등)\n",
    "\n",
    "\n",
    "Business Data Analyst: 비즈니스 전략 및 경영 이해, 데이터 분석 기술, 통계학, SQL 등의 지식과 BI 도구(예: Tableau, Power BI) 등의 기술적 지식이 필요\n",
    "(Tableau, Power BI, SQL, 데이터 분석 기술, 통계학 등)\n",
    "```"
   ]
  },
  {
   "cell_type": "markdown",
   "id": "91c42a27",
   "metadata": {
    "id": "91c42a27"
   },
   "source": [
    "```\n",
    "AI Scientist의 구체적인 업무는 뭐니?\n",
    "```\n",
    "\n",
    "```\n",
    "AI Scientist는 인공지능 분야에서 고급 수준의 연구와 개발 업무를 수행하는 직무입니다. 이는 대부분 기업이나 조직에서 인공지능을 활용하는 데 있어서 매우 중요한 역할\n",
    "\n",
    "업무 : 인공지능 알고리즘 개발, 머신러닝 모델 구현, 딥러닝 모델 구현, 데이터 분석 및 모델 평가, 인공지능 기술 연구, 인공지능 분야의 논문 작성\n",
    "```"
   ]
  },
  {
   "cell_type": "markdown",
   "id": "58cf8f3c",
   "metadata": {
    "id": "58cf8f3c"
   },
   "source": [
    "```\n",
    "AI Developer의 업무는 무엇인가요?\n",
    "```\n",
    "\n",
    "```\n",
    "AI Developer는 인공지능(AI)을 개발하는 데에 전문적으로 참여하는 직무\n",
    "인공지능 알고리즘 개발, 딥러닝 모델 구현(Tensorflow, Pytorch 등), 데이터 전처리(pandas, numpy 등), 모델 평가, 모델 배포(AWS, Azure 등)\n",
    "```"
   ]
  },
  {
   "cell_type": "markdown",
   "id": "834658ce",
   "metadata": {},
   "source": [
    "### 엔지니어 직군은 어떤 것이 있을까?"
   ]
  },
  {
   "cell_type": "code",
   "execution_count": 105,
   "id": "7b5367d4",
   "metadata": {},
   "outputs": [
    {
     "name": "stdout",
     "output_type": "stream",
     "text": [
      "ML Engineer\n",
      "Research Engineer\n",
      "Analytics Engineer\n",
      "Business Intelligence Engineer\n",
      "Machine Learning Engineer\n",
      "Data Engineer\n",
      "Computer Vision Engineer\n",
      "Applied Machine Learning Engineer\n",
      "ETL Engineer\n",
      "Data DevOps Engineer\n",
      "Big Data Engineer\n",
      "BI Data Engineer\n",
      "MLOps Engineer\n",
      "Cloud Database Engineer\n",
      "Data Infrastructure Engineer\n",
      "Software Data Engineer\n",
      "Data Operations Engineer\n",
      "Machine Learning Infrastructure Engineer\n",
      "Deep Learning Engineer\n",
      "Machine Learning Software Engineer\n",
      "Computer Vision Software Engineer\n",
      "Azure Data Engineer\n",
      "Marketing Data Engineer\n",
      "Data Science Engineer\n",
      "Machine Learning Research Engineer\n",
      "NLP Engineer\n",
      "Principal Machine Learning Engineer\n",
      "Data Analytics Engineer\n",
      "Cloud Data Engineer\n",
      "Lead Machine Learning Engineer\n",
      "Lead Data Engineer\n",
      "Principal Data Engineer\n"
     ]
    }
   ],
   "source": [
    "for one in list(df['job_title'].unique()):\n",
    "    if 'Engineer' in one:\n",
    "        print(one)"
   ]
  },
  {
   "cell_type": "code",
   "execution_count": 104,
   "id": "817f7c4f",
   "metadata": {
    "id": "817f7c4f",
    "outputId": "34e02378-f3f8-43df-fe9d-31c84ee877c8"
   },
   "outputs": [
    {
     "name": "stdout",
     "output_type": "stream",
     "text": [
      "ML Engineer\n",
      "Research Engineer\n",
      "Analytics Engineer\n",
      "Business Intelligence Engineer\n",
      "Machine Learning Engineer\n",
      "Data Engineer\n",
      "Computer Vision Engineer\n",
      "Applied Machine Learning Engineer\n",
      "ETL Engineer\n",
      "Data DevOps Engineer\n",
      "Big Data Engineer\n",
      "BI Data Engineer\n",
      "MLOps Engineer\n",
      "Cloud Database Engineer\n",
      "Data Infrastructure Engineer\n",
      "Software Data Engineer\n",
      "Data Operations Engineer\n",
      "Machine Learning Infrastructure Engineer\n",
      "Deep Learning Engineer\n",
      "Machine Learning Software Engineer\n",
      "Computer Vision Software Engineer\n",
      "Azure Data Engineer\n",
      "Marketing Data Engineer\n",
      "Data Science Engineer\n",
      "Machine Learning Research Engineer\n",
      "NLP Engineer\n",
      "Principal Machine Learning Engineer\n",
      "Data Analytics Engineer\n",
      "Cloud Data Engineer\n",
      "Lead Machine Learning Engineer\n",
      "Lead Data Engineer\n",
      "Principal Data Engineer\n"
     ]
    }
   ],
   "source": [
    "for one in df['job_title'].unique():\n",
    "    if 'Engineer' in one:\n",
    "        print(one)"
   ]
  },
  {
   "cell_type": "markdown",
   "id": "da94cecf",
   "metadata": {
    "id": "da94cecf"
   },
   "source": [
    "```\n",
    "Software Data Engineer의 업무와 필요한 기술은 어떤 것이 있을까요?\n",
    "```\n",
    "\n",
    "```\n",
    "- 대규모 데이터를 처리하고 분석하는데 필요한 소프트웨어 시스템을 설계, 구현, 관리하는 업무를 수행\n",
    "- 대규모 데이터 처리 시스템 설계, 데이터 저장소 구축(DB), 데이터 처리 및 분석(Pandas 등), 데이터 파이프라인 구축: 데이터를 수집, 전처리, 분석, 저장 등의 단계로 구성된 데이터 파이프라인을 구축, 데이터 모델링(ML/DL 알고리즘)\n",
    "- Hadoop, Spark, NoSQL, DB(SQL), Python, Java, Scala (프로그래밍 능력), DB(SQL)\n",
    "- 기타 기술과 지식, 트렌드\n",
    "```"
   ]
  },
  {
   "cell_type": "code",
   "execution_count": 35,
   "id": "4ac94580",
   "metadata": {
    "id": "4ac94580",
    "outputId": "879cb358-b094-4170-992e-47d294584f1b"
   },
   "outputs": [
    {
     "data": {
      "text/plain": [
       "array(['Principal Data Scientist', 'ML Engineer', 'Data Scientist',\n",
       "       'Applied Scientist', 'Data Analyst', 'Data Modeler',\n",
       "       'Research Engineer', 'Analytics Engineer',\n",
       "       'Business Intelligence Engineer', 'Machine Learning Engineer',\n",
       "       'Data Strategist', 'Data Engineer', 'Computer Vision Engineer',\n",
       "       'Data Quality Analyst', 'Compliance Data Analyst',\n",
       "       'Data Architect', 'Applied Machine Learning Engineer',\n",
       "       'AI Developer', 'Research Scientist', 'Data Analytics Manager',\n",
       "       'Business Data Analyst', 'Applied Data Scientist',\n",
       "       'Staff Data Analyst', 'ETL Engineer', 'Data DevOps Engineer',\n",
       "       'Head of Data', 'Data Science Manager', 'Data Manager',\n",
       "       'Machine Learning Researcher', 'Big Data Engineer',\n",
       "       'Data Specialist', 'Lead Data Analyst', 'BI Data Engineer',\n",
       "       'Director of Data Science', 'Machine Learning Scientist',\n",
       "       'MLOps Engineer', 'AI Scientist', 'Autonomous Vehicle Technician',\n",
       "       'Applied Machine Learning Scientist', 'Lead Data Scientist',\n",
       "       'Cloud Database Engineer', 'Financial Data Analyst',\n",
       "       'Data Infrastructure Engineer', 'Software Data Engineer',\n",
       "       'AI Programmer', 'Data Operations Engineer', 'BI Developer',\n",
       "       'Data Science Lead', 'Deep Learning Researcher', 'BI Analyst',\n",
       "       'Data Science Consultant', 'Data Analytics Specialist',\n",
       "       'Machine Learning Infrastructure Engineer', 'BI Data Analyst',\n",
       "       'Head of Data Science', 'Insight Analyst',\n",
       "       'Deep Learning Engineer', 'Machine Learning Software Engineer',\n",
       "       'Big Data Architect', 'Product Data Analyst',\n",
       "       'Computer Vision Software Engineer', 'Azure Data Engineer',\n",
       "       'Marketing Data Engineer', 'Data Analytics Lead', 'Data Lead',\n",
       "       'Data Science Engineer', 'Machine Learning Research Engineer',\n",
       "       'NLP Engineer', 'Manager Data Management',\n",
       "       'Machine Learning Developer', '3D Computer Vision Researcher',\n",
       "       'Principal Machine Learning Engineer', 'Data Analytics Engineer',\n",
       "       'Data Analytics Consultant', 'Data Management Specialist',\n",
       "       'Data Science Tech Lead', 'Data Scientist Lead',\n",
       "       'Cloud Data Engineer', 'Data Operations Analyst',\n",
       "       'Marketing Data Analyst', 'Power BI Developer',\n",
       "       'Product Data Scientist', 'Principal Data Architect',\n",
       "       'Machine Learning Manager', 'Lead Machine Learning Engineer',\n",
       "       'ETL Developer', 'Cloud Data Architect', 'Lead Data Engineer',\n",
       "       'Head of Machine Learning', 'Principal Data Analyst',\n",
       "       'Principal Data Engineer', 'Staff Data Scientist',\n",
       "       'Finance Data Analyst'], dtype=object)"
      ]
     },
     "execution_count": 35,
     "metadata": {},
     "output_type": "execute_result"
    }
   ],
   "source": [
    "df['job_title'].unique()"
   ]
  },
  {
   "cell_type": "markdown",
   "id": "c97aef34",
   "metadata": {},
   "source": [
    "### 데이터, 마케팅, 애널리스트 관련 직군"
   ]
  },
  {
   "cell_type": "code",
   "execution_count": 37,
   "id": "1ed90152",
   "metadata": {
    "id": "1ed90152",
    "outputId": "e3bcde86-b534-4269-b981-b0922f9edc9f"
   },
   "outputs": [
    {
     "name": "stdout",
     "output_type": "stream",
     "text": [
      "Principal Data Scientist\n",
      "Data Scientist\n",
      "Data Analyst\n",
      "Data Modeler\n",
      "Data Strategist\n",
      "Data Engineer\n",
      "Data Quality Analyst\n",
      "Compliance Data Analyst\n",
      "Data Architect\n",
      "Data Analytics Manager\n",
      "Business Data Analyst\n",
      "Applied Data Scientist\n",
      "Staff Data Analyst\n",
      "Data DevOps Engineer\n",
      "Head of Data\n",
      "Data Science Manager\n",
      "Data Manager\n",
      "Big Data Engineer\n",
      "Data Specialist\n",
      "Lead Data Analyst\n",
      "BI Data Engineer\n",
      "Director of Data Science\n",
      "Lead Data Scientist\n",
      "Cloud Database Engineer\n",
      "Financial Data Analyst\n",
      "Data Infrastructure Engineer\n",
      "Software Data Engineer\n",
      "Data Operations Engineer\n",
      "Data Science Lead\n",
      "BI Analyst\n",
      "Data Science Consultant\n",
      "Data Analytics Specialist\n",
      "BI Data Analyst\n",
      "Head of Data Science\n",
      "Insight Analyst\n",
      "Big Data Architect\n",
      "Product Data Analyst\n",
      "Azure Data Engineer\n",
      "Marketing Data Engineer\n",
      "Data Analytics Lead\n",
      "Data Lead\n",
      "Data Science Engineer\n",
      "Manager Data Management\n",
      "Data Analytics Engineer\n",
      "Data Analytics Consultant\n",
      "Data Management Specialist\n",
      "Data Science Tech Lead\n",
      "Data Scientist Lead\n",
      "Cloud Data Engineer\n",
      "Data Operations Analyst\n",
      "Marketing Data Analyst\n",
      "Product Data Scientist\n",
      "Principal Data Architect\n",
      "Cloud Data Architect\n",
      "Lead Data Engineer\n",
      "Principal Data Analyst\n",
      "Principal Data Engineer\n",
      "Staff Data Scientist\n",
      "Finance Data Analyst\n"
     ]
    }
   ],
   "source": [
    "for one in list(df['job_title'].unique()):\n",
    "    if ('Data' in one) or ('Marketing' in one) or (\"Analyst\" in one):\n",
    "        print(one)"
   ]
  },
  {
   "cell_type": "markdown",
   "id": "e019c489",
   "metadata": {
    "id": "e019c489"
   },
   "source": [
    "```\n",
    "Product Data Analyst의 업무와 필요 기술 알려주렴.\n",
    "```\n",
    "\n",
    "```\n",
    "Product Data Analyst는 제품 또는 서비스의 성능 및 사용자 경험 개선을 위해 데이터를 수집, 분석하고, 보고서를 작성하여 의사 결정을 지원하는 업무를 수행하는 직무\n",
    "\n",
    "데이터 분석: 제품 또는 서비스 사용자의 행동 및 경험을 분석하여 문제를 파악하고 개선 방안을 모색합니다.\n",
    "보고서 작성: 데이터 분석 결과를 바탕으로 보고서를 작성하고, 의사 결정을 지원합니다.\n",
    "A/B 테스트\n",
    "데이터 시각화(예: Tableau, PowerBI 등)\n",
    "데이터 모델링\n",
    "\n",
    "필요 기술 (SQL, Python, 머신러닝, 데이터 시각화, 데이터 분석 기술)\n",
    "```"
   ]
  },
  {
   "cell_type": "markdown",
   "id": "97dd9d7e",
   "metadata": {
    "id": "97dd9d7e"
   },
   "source": [
    "```\n",
    "Business Data Analyst의 업무와 필요 기술\n",
    "```\n",
    "\n",
    "```\n",
    "Business Data Analyst는 기업의 비즈니스 성과를 분석하여 의사 결정에 활용하는 업무\n",
    "\n",
    "데이터 수집 및 전처리(Python, R, SQL 등)\n",
    "데이터 분석: 수집한 데이터를 분석하여 기업의 비즈니스 성과를 평가하고, 문제점을 파악합니다.\n",
    "보고서 작성: 데이터 분석 결과를 바탕으로 보고서를 작성하고, 의사 결정을 지원\n",
    "데이터 시각화: 데이터를 시각화하여 효과적으로 분석 및 보고서 작성에 활용(Tableau, PowerBI 등)\n",
    "데이터 모델링: 데이터 모델링 기술을 활용하여 데이터 분석\n",
    "    \n",
    "비즈니스 지식: 기업의 비즈니스 모델, 시장 트렌드, 경쟁사 분석 등에 대한 지식\n",
    "```"
   ]
  },
  {
   "cell_type": "markdown",
   "id": "ed1c6f28",
   "metadata": {
    "id": "ed1c6f28"
   },
   "source": [
    "### 해당 근무 연도와 거주 국가를 활용한 미국 달러로 표시된 급여(work_year, company_location, salary_in_usd)"
   ]
  },
  {
   "cell_type": "code",
   "execution_count": 38,
   "id": "bf8ff6a7",
   "metadata": {
    "id": "bf8ff6a7",
    "outputId": "9efb3a9a-ca5d-4bcd-bbdc-c98c3e20a119"
   },
   "outputs": [
    {
     "data": {
      "text/html": [
       "<div>\n",
       "<style scoped>\n",
       "    .dataframe tbody tr th:only-of-type {\n",
       "        vertical-align: middle;\n",
       "    }\n",
       "\n",
       "    .dataframe tbody tr th {\n",
       "        vertical-align: top;\n",
       "    }\n",
       "\n",
       "    .dataframe thead th {\n",
       "        text-align: right;\n",
       "    }\n",
       "</style>\n",
       "<table border=\"1\" class=\"dataframe\">\n",
       "  <thead>\n",
       "    <tr style=\"text-align: right;\">\n",
       "      <th></th>\n",
       "      <th>work_year</th>\n",
       "      <th>company_location</th>\n",
       "      <th>salary_in_usd</th>\n",
       "    </tr>\n",
       "  </thead>\n",
       "  <tbody>\n",
       "    <tr>\n",
       "      <th>0</th>\n",
       "      <td>2023</td>\n",
       "      <td>ES</td>\n",
       "      <td>85847</td>\n",
       "    </tr>\n",
       "    <tr>\n",
       "      <th>1</th>\n",
       "      <td>2023</td>\n",
       "      <td>US</td>\n",
       "      <td>30000</td>\n",
       "    </tr>\n",
       "    <tr>\n",
       "      <th>2</th>\n",
       "      <td>2023</td>\n",
       "      <td>US</td>\n",
       "      <td>25500</td>\n",
       "    </tr>\n",
       "    <tr>\n",
       "      <th>3</th>\n",
       "      <td>2023</td>\n",
       "      <td>CA</td>\n",
       "      <td>175000</td>\n",
       "    </tr>\n",
       "    <tr>\n",
       "      <th>4</th>\n",
       "      <td>2023</td>\n",
       "      <td>CA</td>\n",
       "      <td>120000</td>\n",
       "    </tr>\n",
       "    <tr>\n",
       "      <th>...</th>\n",
       "      <td>...</td>\n",
       "      <td>...</td>\n",
       "      <td>...</td>\n",
       "    </tr>\n",
       "    <tr>\n",
       "      <th>3750</th>\n",
       "      <td>2020</td>\n",
       "      <td>US</td>\n",
       "      <td>412000</td>\n",
       "    </tr>\n",
       "    <tr>\n",
       "      <th>3751</th>\n",
       "      <td>2021</td>\n",
       "      <td>US</td>\n",
       "      <td>151000</td>\n",
       "    </tr>\n",
       "    <tr>\n",
       "      <th>3752</th>\n",
       "      <td>2020</td>\n",
       "      <td>US</td>\n",
       "      <td>105000</td>\n",
       "    </tr>\n",
       "    <tr>\n",
       "      <th>3753</th>\n",
       "      <td>2020</td>\n",
       "      <td>US</td>\n",
       "      <td>100000</td>\n",
       "    </tr>\n",
       "    <tr>\n",
       "      <th>3754</th>\n",
       "      <td>2021</td>\n",
       "      <td>IN</td>\n",
       "      <td>94665</td>\n",
       "    </tr>\n",
       "  </tbody>\n",
       "</table>\n",
       "<p>3755 rows × 3 columns</p>\n",
       "</div>"
      ],
      "text/plain": [
       "      work_year company_location  salary_in_usd\n",
       "0          2023               ES          85847\n",
       "1          2023               US          30000\n",
       "2          2023               US          25500\n",
       "3          2023               CA         175000\n",
       "4          2023               CA         120000\n",
       "...         ...              ...            ...\n",
       "3750       2020               US         412000\n",
       "3751       2021               US         151000\n",
       "3752       2020               US         105000\n",
       "3753       2020               US         100000\n",
       "3754       2021               IN          94665\n",
       "\n",
       "[3755 rows x 3 columns]"
      ]
     },
     "execution_count": 38,
     "metadata": {},
     "output_type": "execute_result"
    }
   ],
   "source": [
    "new_df = df[['work_year', 'company_location', 'salary_in_usd']].copy()\n",
    "new_df"
   ]
  },
  {
   "cell_type": "markdown",
   "id": "778edcd8",
   "metadata": {
    "id": "778edcd8"
   },
   "source": [
    "### 지역별 연간 평균 급여 계산, 가장 높은 지역순으로 정렬"
   ]
  },
  {
   "cell_type": "code",
   "execution_count": 39,
   "id": "22ac8755",
   "metadata": {
    "id": "22ac8755",
    "outputId": "eb6a28ed-6c51-4512-b21e-a1289d125ccd"
   },
   "outputs": [
    {
     "data": {
      "text/html": [
       "<div>\n",
       "<style scoped>\n",
       "    .dataframe tbody tr th:only-of-type {\n",
       "        vertical-align: middle;\n",
       "    }\n",
       "\n",
       "    .dataframe tbody tr th {\n",
       "        vertical-align: top;\n",
       "    }\n",
       "\n",
       "    .dataframe thead th {\n",
       "        text-align: right;\n",
       "    }\n",
       "</style>\n",
       "<table border=\"1\" class=\"dataframe\">\n",
       "  <thead>\n",
       "    <tr style=\"text-align: right;\">\n",
       "      <th></th>\n",
       "      <th>company_location</th>\n",
       "      <th>salary_in_usd</th>\n",
       "    </tr>\n",
       "  </thead>\n",
       "  <tbody>\n",
       "    <tr>\n",
       "      <th>37</th>\n",
       "      <td>IL</td>\n",
       "      <td>271446.500000</td>\n",
       "    </tr>\n",
       "    <tr>\n",
       "      <th>59</th>\n",
       "      <td>PR</td>\n",
       "      <td>167500.000000</td>\n",
       "    </tr>\n",
       "    <tr>\n",
       "      <th>70</th>\n",
       "      <td>US</td>\n",
       "      <td>151822.009539</td>\n",
       "    </tr>\n",
       "    <tr>\n",
       "      <th>62</th>\n",
       "      <td>RU</td>\n",
       "      <td>140333.333333</td>\n",
       "    </tr>\n",
       "    <tr>\n",
       "      <th>12</th>\n",
       "      <td>CA</td>\n",
       "      <td>131917.689655</td>\n",
       "    </tr>\n",
       "    <tr>\n",
       "      <th>...</th>\n",
       "      <td>...</td>\n",
       "      <td>...</td>\n",
       "    </tr>\n",
       "    <tr>\n",
       "      <th>71</th>\n",
       "      <td>VN</td>\n",
       "      <td>12000.000000</td>\n",
       "    </tr>\n",
       "    <tr>\n",
       "      <th>1</th>\n",
       "      <td>AL</td>\n",
       "      <td>10000.000000</td>\n",
       "    </tr>\n",
       "    <tr>\n",
       "      <th>47</th>\n",
       "      <td>MA</td>\n",
       "      <td>10000.000000</td>\n",
       "    </tr>\n",
       "    <tr>\n",
       "      <th>9</th>\n",
       "      <td>BO</td>\n",
       "      <td>7500.000000</td>\n",
       "    </tr>\n",
       "    <tr>\n",
       "      <th>49</th>\n",
       "      <td>MK</td>\n",
       "      <td>6304.000000</td>\n",
       "    </tr>\n",
       "  </tbody>\n",
       "</table>\n",
       "<p>72 rows × 2 columns</p>\n",
       "</div>"
      ],
      "text/plain": [
       "   company_location  salary_in_usd\n",
       "37               IL  271446.500000\n",
       "59               PR  167500.000000\n",
       "70               US  151822.009539\n",
       "62               RU  140333.333333\n",
       "12               CA  131917.689655\n",
       "..              ...            ...\n",
       "71               VN   12000.000000\n",
       "1                AL   10000.000000\n",
       "47               MA   10000.000000\n",
       "9                BO    7500.000000\n",
       "49               MK    6304.000000\n",
       "\n",
       "[72 rows x 2 columns]"
      ]
     },
     "execution_count": 39,
     "metadata": {},
     "output_type": "execute_result"
    }
   ],
   "source": [
    "avg_salary_by_location = new_df.groupby('company_location')['salary_in_usd'].mean().reset_index()\n",
    "avg_salary_by_location.sort_values(by=\"salary_in_usd\", ascending=False)"
   ]
  },
  {
   "cell_type": "code",
   "execution_count": 48,
   "id": "c777a178",
   "metadata": {},
   "outputs": [
    {
     "data": {
      "text/plain": [
       "array(['AE', 'AL', 'AM', 'AR', 'AS', 'AT', 'AU', 'BA', 'BE', 'BO', 'BR',\n",
       "       'BS', 'CA', 'CF', 'CH', 'CL', 'CN', 'CO', 'CR', 'CZ', 'DE', 'DK',\n",
       "       'DZ', 'EE', 'EG', 'ES', 'FI', 'FR', 'GB', 'GH', 'GR', 'HK', 'HN',\n",
       "       'HR', 'HU', 'ID', 'IE', 'IL', 'IN', 'IQ', 'IR', 'IT', 'JP', 'KE',\n",
       "       'LT', 'LU', 'LV', 'MA', 'MD', 'MK', 'MT', 'MX', 'MY', 'NG', 'NL',\n",
       "       'NZ', 'PH', 'PK', 'PL', 'PR', 'PT', 'RO', 'RU', 'SE', 'SG', 'SI',\n",
       "       'SK', 'TH', 'TR', 'UA', 'US', 'VN'], dtype=object)"
      ]
     },
     "execution_count": 48,
     "metadata": {},
     "output_type": "execute_result"
    }
   ],
   "source": [
    "### 회사 위치는 어디에 있지?\n",
    "avg_salary_by_location['company_location'].unique()"
   ]
  },
  {
   "cell_type": "code",
   "execution_count": 49,
   "id": "ab77042b",
   "metadata": {
    "id": "ab77042b",
    "outputId": "27580337-cbae-440d-fe64-7fed78034879"
   },
   "outputs": [
    {
     "name": "stdout",
     "output_type": "stream",
     "text": [
      "72\n"
     ]
    }
   ],
   "source": [
    "print( len(avg_salary_by_location['company_location'].unique()) )"
   ]
  },
  {
   "cell_type": "markdown",
   "id": "67871ad2",
   "metadata": {
    "id": "67871ad2"
   },
   "source": [
    "```\n",
    "AE: United Arab Emirates (아랍에미리트 연합)\n",
    "AL: Albania (알바니아)\n",
    "AM: Armenia (아르메니아)\n",
    "AR: Argentina (아르헨티나)\n",
    "AS: American Samoa (아메리칸 사모아)\n",
    "AT: Austria (오스트리아)\n",
    "AU: Australia (호주)\n",
    "BA: Bosnia and Herzegovina (보스니아 헤르체고비나)\n",
    "BE: Belgium (벨기에)\n",
    "BO: Bolivia (볼리비아)\n",
    "BR: Brazil (브라질)\n",
    "BS: Bahamas (바하마)\n",
    "CA: Canada (캐나다)\n",
    "CF: Central African Republic (중앙 아프리카 공화국)\n",
    "CH: Switzerland (스위스)\n",
    "CL: Chile (칠레)\n",
    "CN: China (중국)\n",
    "CO: Colombia (콜롬비아)\n",
    "CR: Costa Rica (코스타리카)\n",
    "CZ: Czech Republic (체코)\n",
    "DE: Germany (독일)\n",
    "DK: Denmark (덴마크)\n",
    "DZ: Algeria (알제리)\n",
    "EE: Estonia (에스토니아)\n",
    "EG: Egypt (이집트)\n",
    "ES: Spain (스페인)\n",
    "FI: Finland (핀란드)\n",
    "FR: France (프랑스)\n",
    "GB: United Kingdom (영국)\n",
    "GH: Ghana (가나)\n",
    "GR: Greece (그리스)\n",
    "HK: Hong Kong (홍콩)\n",
    "HN: Honduras (온두라스)\n",
    "HR: Croatia (크로아티아)\n",
    "HU: Hungary (헝가리)\n",
    "ID: Indonesia (인도네시아)\n",
    "IE: Ireland (아일랜드)\n",
    "IL: Israel (이스라엘)\n",
    "IN: India (인도)\n",
    "IQ: Iraq (이라크)\n",
    "IR: Iran (이란)\n",
    "IT: Italy (이탈리아)\n",
    "JP: Japan (일본)\n",
    "KE: Kenya (케냐)\n",
    "LT: Lithuania (리투아니아)\n",
    "LU: Luxembourg (룩셈부르크)\n",
    "LV: Latvia (라트비아)\n",
    "MA: Morocco (모로코)\n",
    "MD: Moldova (몰도바)\n",
    "MK: North Macedonia (북마케도니아)\n",
    "MT: Malta (몰타)\n",
    "MX: Mexico (멕시코)\n",
    "MY: Malaysia (말레이시아)\n",
    "NG: Nigeria (나이지리아)\n",
    "NL: Netherlands (네덜란드)\n",
    "NZ: New Zealand (뉴질랜드)\n",
    "PH: Philippines (필리핀)\n",
    "PK: Pakistan (파키스탄)\n",
    "PL: Poland (폴란드)\n",
    "PR: Puerto Rico (푸에르토리코)\n",
    "PT: Portugal (포르투갈)\n",
    "RO: Romania(루마니아)\n",
    "RU: Russia (러시아)\n",
    "SE: Sweden (스웨덴)\n",
    "SG: Singapore (싱가포르)\n",
    "SI: Slovenia (슬로베니아)\n",
    "SK: Slovakia (슬로바키아)\n",
    "TH: Thailand (태국)\n",
    "TR: Turkey (터키)\n",
    "UA: Ukraine (우크라이나)\n",
    "US: United States (미국)\n",
    "VN: Vietnam (베트남)\n",
    "```"
   ]
  },
  {
   "cell_type": "markdown",
   "id": "2b9f89c5",
   "metadata": {
    "id": "2b9f89c5"
   },
   "source": [
    "* 72개국에 분포된 데이터 관련 직업군."
   ]
  },
  {
   "cell_type": "markdown",
   "id": "6e63d381",
   "metadata": {
    "id": "6e63d381"
   },
   "source": [
    "### work_year별로 salary_in_usd 분포 시각화"
   ]
  },
  {
   "cell_type": "code",
   "execution_count": 50,
   "id": "24dedf23",
   "metadata": {
    "id": "24dedf23",
    "outputId": "44401a29-b5e0-47b2-f81b-50823bbf2d43"
   },
   "outputs": [
    {
     "data": {
      "image/png": "[encoded data removed]",
      "text/plain": [
       "<Figure size 640x480 with 1 Axes>"
      ]
     },
     "metadata": {},
     "output_type": "display_data"
    }
   ],
   "source": [
    "sns.histplot(data=new_df, \n",
    "             x='salary_in_usd', \n",
    "             hue='work_year', \n",
    "             multiple='stack', bins=20)\n",
    "\n",
    "plt.show()"
   ]
  },
  {
   "cell_type": "markdown",
   "id": "67359ada",
   "metadata": {
    "id": "67359ada"
   },
   "source": [
    "* 연봉이 10만 달러~ 20만 달러가 많다."
   ]
  },
  {
   "cell_type": "markdown",
   "id": "c2c126fa",
   "metadata": {
    "id": "c2c126fa"
   },
   "source": [
    "### company_location별로 급여(salary_in_usd)분포 시각화"
   ]
  },
  {
   "cell_type": "code",
   "execution_count": 63,
   "id": "24125d41",
   "metadata": {
    "id": "24125d41",
    "outputId": "c4600b3d-aefc-4a3f-d24e-36b2c769e267"
   },
   "outputs": [
    {
     "data": {
      "image/png": "[encoded data removed]",
      "text/plain": [
       "<Figure size 2000x1000 with 1 Axes>"
      ]
     },
     "metadata": {},
     "output_type": "display_data"
    }
   ],
   "source": [
    "plt.figure(figsize=(20,10))\n",
    "sns.boxplot(data=new_df, x='company_location', y='salary_in_usd')\n",
    "plt.xticks(rotation=45, ha='right')\n",
    "plt.show()"
   ]
  },
  {
   "cell_type": "markdown",
   "id": "b9f4734d",
   "metadata": {
    "id": "b9f4734d"
   },
   "source": [
    "* IL : Israel (이스라엘)이 연봉 평균이 높다.\n",
    "* US : 미국은 고액 연봉자도 많이 존재.\n",
    "* FR : 프랑스는 편차가 크지 않지만, 상위 연봉에 속한다."
   ]
  },
  {
   "cell_type": "code",
   "execution_count": 64,
   "id": "d899550b",
   "metadata": {
    "id": "d899550b",
    "outputId": "55b36c49-26f1-42d6-b61c-8a4f559dccbc"
   },
   "outputs": [
    {
     "data": {
      "image/png": "[encoded data removed]",
      "text/plain": [
       "<Figure size 2000x1000 with 1 Axes>"
      ]
     },
     "metadata": {},
     "output_type": "display_data"
    }
   ],
   "source": [
    "plt.figure(figsize=(20,10))\n",
    "sns.boxplot(data=new_df, x='company_location', \n",
    "            hue=\"work_year\", y='salary_in_usd')\n",
    "plt.xticks(rotation=45, ha='right')\n",
    "plt.show()"
   ]
  },
  {
   "cell_type": "code",
   "execution_count": 65,
   "id": "f2e71018",
   "metadata": {
    "id": "f2e71018",
    "outputId": "597d06e4-396a-40c2-dfa8-ce9497f68261"
   },
   "outputs": [
    {
     "data": {
      "text/html": [
       "<div>\n",
       "<style scoped>\n",
       "    .dataframe tbody tr th:only-of-type {\n",
       "        vertical-align: middle;\n",
       "    }\n",
       "\n",
       "    .dataframe tbody tr th {\n",
       "        vertical-align: top;\n",
       "    }\n",
       "\n",
       "    .dataframe thead th {\n",
       "        text-align: right;\n",
       "    }\n",
       "</style>\n",
       "<table border=\"1\" class=\"dataframe\">\n",
       "  <thead>\n",
       "    <tr style=\"text-align: right;\">\n",
       "      <th></th>\n",
       "      <th>company_location</th>\n",
       "      <th>salary_in_usd</th>\n",
       "    </tr>\n",
       "  </thead>\n",
       "  <tbody>\n",
       "    <tr>\n",
       "      <th>37</th>\n",
       "      <td>IL</td>\n",
       "      <td>271446.500000</td>\n",
       "    </tr>\n",
       "    <tr>\n",
       "      <th>59</th>\n",
       "      <td>PR</td>\n",
       "      <td>167500.000000</td>\n",
       "    </tr>\n",
       "    <tr>\n",
       "      <th>70</th>\n",
       "      <td>US</td>\n",
       "      <td>151822.009539</td>\n",
       "    </tr>\n",
       "    <tr>\n",
       "      <th>62</th>\n",
       "      <td>RU</td>\n",
       "      <td>140333.333333</td>\n",
       "    </tr>\n",
       "    <tr>\n",
       "      <th>12</th>\n",
       "      <td>CA</td>\n",
       "      <td>131917.689655</td>\n",
       "    </tr>\n",
       "    <tr>\n",
       "      <th>...</th>\n",
       "      <td>...</td>\n",
       "      <td>...</td>\n",
       "    </tr>\n",
       "    <tr>\n",
       "      <th>71</th>\n",
       "      <td>VN</td>\n",
       "      <td>12000.000000</td>\n",
       "    </tr>\n",
       "    <tr>\n",
       "      <th>1</th>\n",
       "      <td>AL</td>\n",
       "      <td>10000.000000</td>\n",
       "    </tr>\n",
       "    <tr>\n",
       "      <th>47</th>\n",
       "      <td>MA</td>\n",
       "      <td>10000.000000</td>\n",
       "    </tr>\n",
       "    <tr>\n",
       "      <th>9</th>\n",
       "      <td>BO</td>\n",
       "      <td>7500.000000</td>\n",
       "    </tr>\n",
       "    <tr>\n",
       "      <th>49</th>\n",
       "      <td>MK</td>\n",
       "      <td>6304.000000</td>\n",
       "    </tr>\n",
       "  </tbody>\n",
       "</table>\n",
       "<p>72 rows × 2 columns</p>\n",
       "</div>"
      ],
      "text/plain": [
       "   company_location  salary_in_usd\n",
       "37               IL  271446.500000\n",
       "59               PR  167500.000000\n",
       "70               US  151822.009539\n",
       "62               RU  140333.333333\n",
       "12               CA  131917.689655\n",
       "..              ...            ...\n",
       "71               VN   12000.000000\n",
       "1                AL   10000.000000\n",
       "47               MA   10000.000000\n",
       "9                BO    7500.000000\n",
       "49               MK    6304.000000\n",
       "\n",
       "[72 rows x 2 columns]"
      ]
     },
     "execution_count": 65,
     "metadata": {},
     "output_type": "execute_result"
    }
   ],
   "source": [
    "avg_salary_by_location"
   ]
  },
  {
   "cell_type": "code",
   "execution_count": 66,
   "id": "3ab1a032",
   "metadata": {},
   "outputs": [],
   "source": [
    "# new_df"
   ]
  },
  {
   "cell_type": "code",
   "execution_count": 67,
   "id": "f795965d",
   "metadata": {},
   "outputs": [],
   "source": [
    "# sort_values()를 이용한 데이터 정렬\n",
    "avg_salary_by_location.sort_values('salary_in_usd', \n",
    "                                   ascending=False, \n",
    "                                   inplace=True)"
   ]
  },
  {
   "cell_type": "code",
   "execution_count": 68,
   "id": "c1c69efc",
   "metadata": {
    "id": "c1c69efc"
   },
   "outputs": [
    {
     "data": {
      "text/html": [
       "<div>\n",
       "<style scoped>\n",
       "    .dataframe tbody tr th:only-of-type {\n",
       "        vertical-align: middle;\n",
       "    }\n",
       "\n",
       "    .dataframe tbody tr th {\n",
       "        vertical-align: top;\n",
       "    }\n",
       "\n",
       "    .dataframe thead th {\n",
       "        text-align: right;\n",
       "    }\n",
       "</style>\n",
       "<table border=\"1\" class=\"dataframe\">\n",
       "  <thead>\n",
       "    <tr style=\"text-align: right;\">\n",
       "      <th></th>\n",
       "      <th>company_location</th>\n",
       "      <th>salary_in_usd</th>\n",
       "    </tr>\n",
       "  </thead>\n",
       "  <tbody>\n",
       "    <tr>\n",
       "      <th>37</th>\n",
       "      <td>IL</td>\n",
       "      <td>271446.500000</td>\n",
       "    </tr>\n",
       "    <tr>\n",
       "      <th>59</th>\n",
       "      <td>PR</td>\n",
       "      <td>167500.000000</td>\n",
       "    </tr>\n",
       "    <tr>\n",
       "      <th>70</th>\n",
       "      <td>US</td>\n",
       "      <td>151822.009539</td>\n",
       "    </tr>\n",
       "    <tr>\n",
       "      <th>62</th>\n",
       "      <td>RU</td>\n",
       "      <td>140333.333333</td>\n",
       "    </tr>\n",
       "    <tr>\n",
       "      <th>12</th>\n",
       "      <td>CA</td>\n",
       "      <td>131917.689655</td>\n",
       "    </tr>\n",
       "    <tr>\n",
       "      <th>55</th>\n",
       "      <td>NZ</td>\n",
       "      <td>125000.000000</td>\n",
       "    </tr>\n",
       "    <tr>\n",
       "      <th>7</th>\n",
       "      <td>BA</td>\n",
       "      <td>120000.000000</td>\n",
       "    </tr>\n",
       "    <tr>\n",
       "      <th>36</th>\n",
       "      <td>IE</td>\n",
       "      <td>114943.428571</td>\n",
       "    </tr>\n",
       "    <tr>\n",
       "      <th>42</th>\n",
       "      <td>JP</td>\n",
       "      <td>114127.333333</td>\n",
       "    </tr>\n",
       "    <tr>\n",
       "      <th>63</th>\n",
       "      <td>SE</td>\n",
       "      <td>105000.000000</td>\n",
       "    </tr>\n",
       "    <tr>\n",
       "      <th>16</th>\n",
       "      <td>CN</td>\n",
       "      <td>100000.000000</td>\n",
       "    </tr>\n",
       "    <tr>\n",
       "      <th>40</th>\n",
       "      <td>IR</td>\n",
       "      <td>100000.000000</td>\n",
       "    </tr>\n",
       "    <tr>\n",
       "      <th>39</th>\n",
       "      <td>IQ</td>\n",
       "      <td>100000.000000</td>\n",
       "    </tr>\n",
       "    <tr>\n",
       "      <th>22</th>\n",
       "      <td>DZ</td>\n",
       "      <td>100000.000000</td>\n",
       "    </tr>\n",
       "    <tr>\n",
       "      <th>0</th>\n",
       "      <td>AE</td>\n",
       "      <td>100000.000000</td>\n",
       "    </tr>\n",
       "    <tr>\n",
       "      <th>51</th>\n",
       "      <td>MX</td>\n",
       "      <td>97151.100000</td>\n",
       "    </tr>\n",
       "    <tr>\n",
       "      <th>44</th>\n",
       "      <td>LT</td>\n",
       "      <td>94812.000000</td>\n",
       "    </tr>\n",
       "    <tr>\n",
       "      <th>20</th>\n",
       "      <td>DE</td>\n",
       "      <td>88288.803571</td>\n",
       "    </tr>\n",
       "    <tr>\n",
       "      <th>28</th>\n",
       "      <td>GB</td>\n",
       "      <td>86890.052326</td>\n",
       "    </tr>\n",
       "    <tr>\n",
       "      <th>14</th>\n",
       "      <td>CH</td>\n",
       "      <td>81722.000000</td>\n",
       "    </tr>\n",
       "  </tbody>\n",
       "</table>\n",
       "</div>"
      ],
      "text/plain": [
       "   company_location  salary_in_usd\n",
       "37               IL  271446.500000\n",
       "59               PR  167500.000000\n",
       "70               US  151822.009539\n",
       "62               RU  140333.333333\n",
       "12               CA  131917.689655\n",
       "55               NZ  125000.000000\n",
       "7                BA  120000.000000\n",
       "36               IE  114943.428571\n",
       "42               JP  114127.333333\n",
       "63               SE  105000.000000\n",
       "16               CN  100000.000000\n",
       "40               IR  100000.000000\n",
       "39               IQ  100000.000000\n",
       "22               DZ  100000.000000\n",
       "0                AE  100000.000000\n",
       "51               MX   97151.100000\n",
       "44               LT   94812.000000\n",
       "20               DE   88288.803571\n",
       "28               GB   86890.052326\n",
       "14               CH   81722.000000"
      ]
     },
     "execution_count": 68,
     "metadata": {},
     "output_type": "execute_result"
    }
   ],
   "source": [
    "avg_salary_by_location.head(20)"
   ]
  },
  {
   "cell_type": "code",
   "execution_count": 69,
   "id": "2f142f19",
   "metadata": {},
   "outputs": [
    {
     "data": {
      "text/plain": [
       "['IL',\n",
       " 'PR',\n",
       " 'US',\n",
       " 'RU',\n",
       " 'CA',\n",
       " 'NZ',\n",
       " 'BA',\n",
       " 'IE',\n",
       " 'JP',\n",
       " 'SE',\n",
       " 'CN',\n",
       " 'IR',\n",
       " 'IQ',\n",
       " 'DZ',\n",
       " 'AE',\n",
       " 'MX',\n",
       " 'LT',\n",
       " 'DE',\n",
       " 'GB',\n",
       " 'CH']"
      ]
     },
     "execution_count": 69,
     "metadata": {},
     "output_type": "execute_result"
    }
   ],
   "source": [
    "### 상위 20개국 리스트\n",
    "country20 = avg_salary_by_location.head(20)['company_location'].to_list()\n",
    "country20"
   ]
  },
  {
   "cell_type": "code",
   "execution_count": 75,
   "id": "0178a0ba",
   "metadata": {},
   "outputs": [
    {
     "data": {
      "text/html": [
       "<div>\n",
       "<style scoped>\n",
       "    .dataframe tbody tr th:only-of-type {\n",
       "        vertical-align: middle;\n",
       "    }\n",
       "\n",
       "    .dataframe tbody tr th {\n",
       "        vertical-align: top;\n",
       "    }\n",
       "\n",
       "    .dataframe thead th {\n",
       "        text-align: right;\n",
       "    }\n",
       "</style>\n",
       "<table border=\"1\" class=\"dataframe\">\n",
       "  <thead>\n",
       "    <tr style=\"text-align: right;\">\n",
       "      <th></th>\n",
       "      <th>work_year</th>\n",
       "      <th>company_location</th>\n",
       "      <th>salary_in_usd</th>\n",
       "    </tr>\n",
       "  </thead>\n",
       "  <tbody>\n",
       "    <tr>\n",
       "      <th>0</th>\n",
       "      <td>2023</td>\n",
       "      <td>ES</td>\n",
       "      <td>85847</td>\n",
       "    </tr>\n",
       "    <tr>\n",
       "      <th>1</th>\n",
       "      <td>2023</td>\n",
       "      <td>US</td>\n",
       "      <td>30000</td>\n",
       "    </tr>\n",
       "    <tr>\n",
       "      <th>2</th>\n",
       "      <td>2023</td>\n",
       "      <td>US</td>\n",
       "      <td>25500</td>\n",
       "    </tr>\n",
       "    <tr>\n",
       "      <th>3</th>\n",
       "      <td>2023</td>\n",
       "      <td>CA</td>\n",
       "      <td>175000</td>\n",
       "    </tr>\n",
       "    <tr>\n",
       "      <th>4</th>\n",
       "      <td>2023</td>\n",
       "      <td>CA</td>\n",
       "      <td>120000</td>\n",
       "    </tr>\n",
       "    <tr>\n",
       "      <th>...</th>\n",
       "      <td>...</td>\n",
       "      <td>...</td>\n",
       "      <td>...</td>\n",
       "    </tr>\n",
       "    <tr>\n",
       "      <th>3750</th>\n",
       "      <td>2020</td>\n",
       "      <td>US</td>\n",
       "      <td>412000</td>\n",
       "    </tr>\n",
       "    <tr>\n",
       "      <th>3751</th>\n",
       "      <td>2021</td>\n",
       "      <td>US</td>\n",
       "      <td>151000</td>\n",
       "    </tr>\n",
       "    <tr>\n",
       "      <th>3752</th>\n",
       "      <td>2020</td>\n",
       "      <td>US</td>\n",
       "      <td>105000</td>\n",
       "    </tr>\n",
       "    <tr>\n",
       "      <th>3753</th>\n",
       "      <td>2020</td>\n",
       "      <td>US</td>\n",
       "      <td>100000</td>\n",
       "    </tr>\n",
       "    <tr>\n",
       "      <th>3754</th>\n",
       "      <td>2021</td>\n",
       "      <td>IN</td>\n",
       "      <td>94665</td>\n",
       "    </tr>\n",
       "  </tbody>\n",
       "</table>\n",
       "<p>3755 rows × 3 columns</p>\n",
       "</div>"
      ],
      "text/plain": [
       "      work_year company_location  salary_in_usd\n",
       "0          2023               ES          85847\n",
       "1          2023               US          30000\n",
       "2          2023               US          25500\n",
       "3          2023               CA         175000\n",
       "4          2023               CA         120000\n",
       "...         ...              ...            ...\n",
       "3750       2020               US         412000\n",
       "3751       2021               US         151000\n",
       "3752       2020               US         105000\n",
       "3753       2020               US         100000\n",
       "3754       2021               IN          94665\n",
       "\n",
       "[3755 rows x 3 columns]"
      ]
     },
     "execution_count": 75,
     "metadata": {},
     "output_type": "execute_result"
    }
   ],
   "source": [
    "new_df"
   ]
  },
  {
   "cell_type": "code",
   "execution_count": 76,
   "id": "fce2e891",
   "metadata": {
    "id": "fce2e891",
    "outputId": "ddb3e2dd-f5c0-454b-c088-559e778432ab"
   },
   "outputs": [
    {
     "data": {
      "text/html": [
       "<div>\n",
       "<style scoped>\n",
       "    .dataframe tbody tr th:only-of-type {\n",
       "        vertical-align: middle;\n",
       "    }\n",
       "\n",
       "    .dataframe tbody tr th {\n",
       "        vertical-align: top;\n",
       "    }\n",
       "\n",
       "    .dataframe thead th {\n",
       "        text-align: right;\n",
       "    }\n",
       "</style>\n",
       "<table border=\"1\" class=\"dataframe\">\n",
       "  <thead>\n",
       "    <tr style=\"text-align: right;\">\n",
       "      <th></th>\n",
       "      <th>work_year</th>\n",
       "      <th>company_location</th>\n",
       "      <th>salary_in_usd</th>\n",
       "    </tr>\n",
       "  </thead>\n",
       "  <tbody>\n",
       "    <tr>\n",
       "      <th>1</th>\n",
       "      <td>2023</td>\n",
       "      <td>US</td>\n",
       "      <td>30000</td>\n",
       "    </tr>\n",
       "    <tr>\n",
       "      <th>2</th>\n",
       "      <td>2023</td>\n",
       "      <td>US</td>\n",
       "      <td>25500</td>\n",
       "    </tr>\n",
       "    <tr>\n",
       "      <th>3</th>\n",
       "      <td>2023</td>\n",
       "      <td>CA</td>\n",
       "      <td>175000</td>\n",
       "    </tr>\n",
       "    <tr>\n",
       "      <th>4</th>\n",
       "      <td>2023</td>\n",
       "      <td>CA</td>\n",
       "      <td>120000</td>\n",
       "    </tr>\n",
       "    <tr>\n",
       "      <th>5</th>\n",
       "      <td>2023</td>\n",
       "      <td>US</td>\n",
       "      <td>222200</td>\n",
       "    </tr>\n",
       "    <tr>\n",
       "      <th>...</th>\n",
       "      <td>...</td>\n",
       "      <td>...</td>\n",
       "      <td>...</td>\n",
       "    </tr>\n",
       "    <tr>\n",
       "      <th>3749</th>\n",
       "      <td>2021</td>\n",
       "      <td>US</td>\n",
       "      <td>165000</td>\n",
       "    </tr>\n",
       "    <tr>\n",
       "      <th>3750</th>\n",
       "      <td>2020</td>\n",
       "      <td>US</td>\n",
       "      <td>412000</td>\n",
       "    </tr>\n",
       "    <tr>\n",
       "      <th>3751</th>\n",
       "      <td>2021</td>\n",
       "      <td>US</td>\n",
       "      <td>151000</td>\n",
       "    </tr>\n",
       "    <tr>\n",
       "      <th>3752</th>\n",
       "      <td>2020</td>\n",
       "      <td>US</td>\n",
       "      <td>105000</td>\n",
       "    </tr>\n",
       "    <tr>\n",
       "      <th>3753</th>\n",
       "      <td>2020</td>\n",
       "      <td>US</td>\n",
       "      <td>100000</td>\n",
       "    </tr>\n",
       "  </tbody>\n",
       "</table>\n",
       "<p>3405 rows × 3 columns</p>\n",
       "</div>"
      ],
      "text/plain": [
       "      work_year company_location  salary_in_usd\n",
       "1          2023               US          30000\n",
       "2          2023               US          25500\n",
       "3          2023               CA         175000\n",
       "4          2023               CA         120000\n",
       "5          2023               US         222200\n",
       "...         ...              ...            ...\n",
       "3749       2021               US         165000\n",
       "3750       2020               US         412000\n",
       "3751       2021               US         151000\n",
       "3752       2020               US         105000\n",
       "3753       2020               US         100000\n",
       "\n",
       "[3405 rows x 3 columns]"
      ]
     },
     "execution_count": 76,
     "metadata": {},
     "output_type": "execute_result"
    }
   ],
   "source": [
    "new_df1 = new_df.loc[ new_df['company_location'].isin(country20), :]\n",
    "new_df1"
   ]
  },
  {
   "cell_type": "code",
   "execution_count": 77,
   "id": "55f4bee8",
   "metadata": {},
   "outputs": [
    {
     "data": {
      "image/png": "[encoded data removed]",
      "text/plain": [
       "<Figure size 2000x1000 with 1 Axes>"
      ]
     },
     "metadata": {},
     "output_type": "display_data"
    }
   ],
   "source": [
    "plt.figure(figsize=(20,10))\n",
    "sns.boxplot(data=new_df1, x='company_location', y='salary_in_usd')\n",
    "plt.xticks(rotation=45, ha='right')\n",
    "plt.show()"
   ]
  },
  {
   "cell_type": "code",
   "execution_count": null,
   "id": "ebc37f9e",
   "metadata": {},
   "outputs": [],
   "source": [
    "### 약자 이름을 한글로 변경"
   ]
  },
  {
   "cell_type": "code",
   "execution_count": 83,
   "id": "ae7b3b0d",
   "metadata": {},
   "outputs": [],
   "source": [
    "import matplotlib.pyplot as plt\n",
    "import matplotlib.font_manager as fm\n",
    "\n",
    "# 한글 글꼴 경로 설정\n",
    "font_path = 'C:/Windows/Fonts/malgun.ttf'\n",
    "\n",
    "# 폰트 이름 얻어오기\n",
    "font_name = fm.FontProperties(fname=font_path).get_name()\n",
    "\n",
    "# 한글 글꼴 지정\n",
    "plt.rcParams['font.family'] = font_name"
   ]
  },
  {
   "cell_type": "code",
   "execution_count": 84,
   "id": "1b629150",
   "metadata": {},
   "outputs": [],
   "source": [
    "country_names = [\n",
    "    '이스라엘',\n",
    "    '푸에르토리코',\n",
    "    '미국',\n",
    "    '러시아',\n",
    "    '캐나다',\n",
    "    '뉴질랜드',\n",
    "    '보스니아 헤르체고비나',\n",
    "    '아일랜드',\n",
    "    '일본',\n",
    "    '스웨덴',\n",
    "    '중국',\n",
    "    '이란',\n",
    "    '이라크',\n",
    "    '알제리',\n",
    "    '아랍에미리트 연합',\n",
    "    '멕시코',\n",
    "    '리투아니아',\n",
    "    '독일',\n",
    "    '영국',\n",
    "    '스위스'\n",
    "]"
   ]
  },
  {
   "cell_type": "code",
   "execution_count": 85,
   "id": "bae4cf33",
   "metadata": {},
   "outputs": [
    {
     "data": {
      "image/png": "[encoded data removed]",
      "text/plain": [
       "<Figure size 2000x1000 with 1 Axes>"
      ]
     },
     "metadata": {},
     "output_type": "display_data"
    }
   ],
   "source": [
    "# 한글 라벨을 적용한 그래프 그리기\n",
    "plt.figure(figsize=(20,10))\n",
    "sns.boxplot(data=new_df1, x='company_location', y='salary_in_usd')\n",
    "plt.xticks(\n",
    "    ticks=range(len(country_names)),\n",
    "    labels=country_names,\n",
    "    rotation=45,\n",
    "    ha='right'\n",
    ")\n",
    "plt.show()"
   ]
  }
 ],
 "metadata": {
  "colab": {
   "provenance": []
  },
  "kernelspec": {
   "display_name": "Python 3 (ipykernel)",
   "language": "python",
   "name": "python3"
  },
  "language_info": {
   "codemirror_mode": {
    "name": "ipython",
    "version": 3
   },
   "file_extension": ".py",
   "mimetype": "text/x-python",
   "name": "python",
   "nbconvert_exporter": "python",
   "pygments_lexer": "ipython3",
   "version": "3.9.13"
  }
 },
 "nbformat": 4,
 "nbformat_minor": 5
}
