{
 "cells": [
  {
   "cell_type": "markdown",
   "metadata": {},
   "source": [
    "## [MCU Worldwide Box Office Collection 데이터 분석 02] \n",
    " * [생활-영화] Marvel Cinematic Universe 전세계 박스 오피스 컬렉션 데이터 세트\n",
    " * 지역별 모든 박스 오피스 컬렉션 정보\n",
    " * 데이터 출처 : https://www.kaggle.com/datasets/mayureshkoli/mcu-worldwide-box-office-collection\n",
    " \n",
    " * 데이터 분석 코드\n",
    "   * [github 코드](https://github.com/LDJWJ/dataAnalysis/blob/main/01_11_MCU_MOVIE_INFO.ipynb)\n",
    "   * [HTML코드 - 시작](https://ldjwj.github.io/dataAnalysis/01_11_MCU_MOVIE_INFO.html)\n",
    "   * [HTML코드 - 전처리및탐색](https://ldjwj.github.io/dataAnalysis/01_11_MCU_MOVIE_INFO_02.html)"
   ]
  },
  {
   "cell_type": "markdown",
   "metadata": {},
   "source": [
    "### 학습 내용\n",
    " * 관객수 시각화 - boxplot, histgram\n",
    " * 시각화를 위한 기본 데이터 처리 - sum(), sort_values()"
   ]
  },
  {
   "cell_type": "markdown",
   "metadata": {},
   "source": [
    "### 데이터 셋 개요\n",
    " * 6개의 데이터 셋이 존재\n",
    " * 데이터 파일\n",
    "   * movie_info.csv : 영화 정보\n",
    "   * asia_pacific_box_office.csv : 아시아 지역\n",
    "   * europe_box_office.csv : 유럽 지역\n",
    "   * middle_east_and_africa_box_office.csv : 중동, 아프리카 지역\n",
    "   * north_america_box_office.csv : 북미 지역\n",
    "   * south_america_box_office.csv : 남미 지역"
   ]
  },
  {
   "cell_type": "markdown",
   "metadata": {},
   "source": [
    "### 데이터 설명"
   ]
  },
  {
   "cell_type": "markdown",
   "metadata": {},
   "source": [
    "* Input/output variables "
   ]
  },
  {
   "cell_type": "markdown",
   "metadata": {},
   "source": [
    "### 라이브러리 불러오기"
   ]
  },
  {
   "cell_type": "code",
   "execution_count": 1,
   "metadata": {},
   "outputs": [],
   "source": [
    "import pandas as pd\n",
    "import seaborn as sns\n",
    "import numpy as np\n",
    "import matplotlib.pyplot as plt\n",
    "\n",
    "from sklearn.model_selection import train_test_split"
   ]
  },
  {
   "cell_type": "markdown",
   "metadata": {},
   "source": [
    "### 데이터 불러오기"
   ]
  },
  {
   "cell_type": "code",
   "execution_count": 2,
   "metadata": {},
   "outputs": [
    {
     "data": {
      "text/plain": [
       "((27, 11), (27, 17), (27, 31), (27, 13), (27, 5), (27, 12))"
      ]
     },
     "execution_count": 2,
     "metadata": {},
     "output_type": "execute_result"
    }
   ],
   "source": [
    "mov_info = pd.read_csv(\"./data/Marvel/movie_info.csv\")\n",
    "asia_info = pd.read_csv(\"./data/Marvel/asia_pacific_box_office.csv\")\n",
    "europe_info = pd.read_csv(\"./data/Marvel/europe_box_office.csv\")\n",
    "middle_east_info = pd.read_csv(\"./data/Marvel/middle_east_and_africa_box_office.csv\")\n",
    "north_america_info = pd.read_csv(\"./data/Marvel/north_america_box_office.csv\")\n",
    "south_america_info = pd.read_csv(\"./data/Marvel/south_america_box_office.csv\")\n",
    "\n",
    "mov_info.shape, asia_info.shape, europe_info.shape, middle_east_info.shape, north_america_info.shape, south_america_info.shape"
   ]
  },
  {
   "cell_type": "code",
   "execution_count": 3,
   "metadata": {},
   "outputs": [
    {
     "data": {
      "text/html": [
       "<div>\n",
       "<style scoped>\n",
       "    .dataframe tbody tr th:only-of-type {\n",
       "        vertical-align: middle;\n",
       "    }\n",
       "\n",
       "    .dataframe tbody tr th {\n",
       "        vertical-align: top;\n",
       "    }\n",
       "\n",
       "    .dataframe thead th {\n",
       "        text-align: right;\n",
       "    }\n",
       "</style>\n",
       "<table border=\"1\" class=\"dataframe\">\n",
       "  <thead>\n",
       "    <tr style=\"text-align: right;\">\n",
       "      <th></th>\n",
       "      <th>movie_title</th>\n",
       "      <th>release_date</th>\n",
       "      <th>season</th>\n",
       "      <th>phase</th>\n",
       "      <th>production_budget_in_million_(USD)</th>\n",
       "      <th>worldwide_collection_in_million_(USD)</th>\n",
       "      <th>tomatometer</th>\n",
       "      <th>tomato_audience_score</th>\n",
       "      <th>imdb</th>\n",
       "      <th>metascore</th>\n",
       "      <th>meta_user_score</th>\n",
       "    </tr>\n",
       "  </thead>\n",
       "  <tbody>\n",
       "    <tr>\n",
       "      <th>0</th>\n",
       "      <td>Iron Man</td>\n",
       "      <td>May 2, 2008</td>\n",
       "      <td>Spring</td>\n",
       "      <td>1</td>\n",
       "      <td>140</td>\n",
       "      <td>585.37</td>\n",
       "      <td>9.4</td>\n",
       "      <td>9.1</td>\n",
       "      <td>7.9</td>\n",
       "      <td>7.9</td>\n",
       "      <td>8.6</td>\n",
       "    </tr>\n",
       "    <tr>\n",
       "      <th>1</th>\n",
       "      <td>The Incredible Hulk</td>\n",
       "      <td>June 13, 2008</td>\n",
       "      <td>Spring</td>\n",
       "      <td>1</td>\n",
       "      <td>150</td>\n",
       "      <td>264.77</td>\n",
       "      <td>6.7</td>\n",
       "      <td>7.0</td>\n",
       "      <td>6.6</td>\n",
       "      <td>6.1</td>\n",
       "      <td>7.0</td>\n",
       "    </tr>\n",
       "    <tr>\n",
       "      <th>2</th>\n",
       "      <td>Iron Man 2</td>\n",
       "      <td>May 7, 2010</td>\n",
       "      <td>Spring</td>\n",
       "      <td>1</td>\n",
       "      <td>200</td>\n",
       "      <td>623.93</td>\n",
       "      <td>7.2</td>\n",
       "      <td>7.1</td>\n",
       "      <td>6.9</td>\n",
       "      <td>5.7</td>\n",
       "      <td>6.4</td>\n",
       "    </tr>\n",
       "    <tr>\n",
       "      <th>3</th>\n",
       "      <td>Thor</td>\n",
       "      <td>May 6, 2011</td>\n",
       "      <td>Spring</td>\n",
       "      <td>1</td>\n",
       "      <td>150</td>\n",
       "      <td>449.33</td>\n",
       "      <td>7.7</td>\n",
       "      <td>7.6</td>\n",
       "      <td>7.0</td>\n",
       "      <td>5.7</td>\n",
       "      <td>7.1</td>\n",
       "    </tr>\n",
       "    <tr>\n",
       "      <th>4</th>\n",
       "      <td>Captain America: The First Avenger</td>\n",
       "      <td>July 22, 2011</td>\n",
       "      <td>Summer</td>\n",
       "      <td>1</td>\n",
       "      <td>140</td>\n",
       "      <td>370.57</td>\n",
       "      <td>7.9</td>\n",
       "      <td>7.5</td>\n",
       "      <td>6.9</td>\n",
       "      <td>6.6</td>\n",
       "      <td>6.8</td>\n",
       "    </tr>\n",
       "  </tbody>\n",
       "</table>\n",
       "</div>"
      ],
      "text/plain": [
       "                          movie_title   release_date  season  phase  \\\n",
       "0                            Iron Man    May 2, 2008  Spring      1   \n",
       "1                 The Incredible Hulk  June 13, 2008  Spring      1   \n",
       "2                          Iron Man 2    May 7, 2010  Spring      1   \n",
       "3                                Thor    May 6, 2011  Spring      1   \n",
       "4  Captain America: The First Avenger  July 22, 2011  Summer      1   \n",
       "\n",
       "   production_budget_in_million_(USD)  worldwide_collection_in_million_(USD)  \\\n",
       "0                                 140                                 585.37   \n",
       "1                                 150                                 264.77   \n",
       "2                                 200                                 623.93   \n",
       "3                                 150                                 449.33   \n",
       "4                                 140                                 370.57   \n",
       "\n",
       "   tomatometer  tomato_audience_score  imdb  metascore  meta_user_score  \n",
       "0          9.4                    9.1   7.9        7.9              8.6  \n",
       "1          6.7                    7.0   6.6        6.1              7.0  \n",
       "2          7.2                    7.1   6.9        5.7              6.4  \n",
       "3          7.7                    7.6   7.0        5.7              7.1  \n",
       "4          7.9                    7.5   6.9        6.6              6.8  "
      ]
     },
     "execution_count": 3,
     "metadata": {},
     "output_type": "execute_result"
    }
   ],
   "source": [
    "mov_info.head()"
   ]
  },
  {
   "cell_type": "code",
   "execution_count": 4,
   "metadata": {},
   "outputs": [
    {
     "name": "stdout",
     "output_type": "stream",
     "text": [
      "           movie_title  South Korea  Russia/CIS  Japan  Thailand  Indonesia  \\\n",
      "0             Iron Man        25.17        9.49   8.66      2.45       2.15   \n",
      "1  The Incredible Hulk         6.38        6.41   1.69      1.18       1.50   \n",
      "2           Iron Man 2        27.10       14.76  12.83      4.62       4.49   \n",
      "\n",
      "   India  Taiwan  Philippines  Singapore  Vietnam  Malaysia  Hong Kong  \\\n",
      "0   1.99    5.37         3.99       3.82      NaN      3.47       2.84   \n",
      "1   3.14    1.94         2.07       1.84     0.16      2.28       1.60   \n",
      "2   1.23    4.04         6.25       4.19      NaN      4.64       3.76   \n",
      "\n",
      "   New Zealand  Australia  China  Other_Asia_Pacific_Countries  \n",
      "0         2.73      19.09  15.27                          1.37  \n",
      "1         0.88       4.55   9.34                          0.70  \n",
      "2         2.70      22.42   7.92                          6.57  \n",
      "\n",
      "           movie_title  United Kingdom  Spain  Italy  Germany  Denmark  \\\n",
      "0             Iron Man           34.28  12.03  10.81     8.56     2.22   \n",
      "1  The Incredible Hulk           15.16   7.69   6.46     2.46     1.10   \n",
      "2           Iron Man 2           30.46   7.60   9.98     9.25     2.29   \n",
      "\n",
      "   Hungary  Finland  Netherlands  Iceland  ...  Poland  Serbia and Montenegro  \\\n",
      "0     0.68     0.67         2.10     0.28  ...    1.00                   0.03   \n",
      "1     0.31     0.22         1.34     0.15  ...    0.48                   0.05   \n",
      "2     0.70     0.80         2.14     0.20  ...    1.14                   0.04   \n",
      "\n",
      "   Estonia  Slovenia  Sweden  Belgium  Norway  Greece  France  \\\n",
      "0     0.08      0.09    2.06     1.97    1.86    1.80   19.20   \n",
      "1     0.03      0.06    1.08     1.08    1.53    0.83    9.73   \n",
      "2     0.08      0.12    1.97     1.89    2.46    1.57   19.79   \n",
      "\n",
      "   Other_European_Countries  \n",
      "0                      1.37  \n",
      "1                      0.70  \n",
      "2                      6.57  \n",
      "\n",
      "[3 rows x 31 columns]\n",
      "\n",
      "           movie_title  United Arab Emirates  Israel  South Africa  Nigeria  \\\n",
      "0             Iron Man                  1.84    0.61          1.46     0.05   \n",
      "1  The Incredible Hulk                  1.81    0.49          0.93     0.03   \n",
      "2           Iron Man 2                  2.25    0.68          2.59     0.06   \n",
      "\n",
      "   Ghana  Kenya  East Africa  Lebanon  Egypt  Kuwait  Turkey  \\\n",
      "0    NaN    NaN         0.09     0.10   0.27    0.84    1.66   \n",
      "1    NaN    NaN         0.08     0.10   0.28    0.66    1.02   \n",
      "2   0.01    NaN         0.12     0.17   0.30     NaN    1.84   \n",
      "\n",
      "   Other_Middle_East_and_African_Countries  \n",
      "0                                     1.37  \n",
      "1                                     0.70  \n",
      "2                                     6.57  \n",
      "\n",
      "           movie_title  USA_and_Canada  Mexico  Central America  Caribbean\n",
      "0             Iron Man          319.03   15.95             1.37       1.37\n",
      "1  The Incredible Hulk          134.81   12.65             0.70       0.70\n",
      "2           Iron Man 2          312.43   18.40             6.57       6.57\n",
      "\n",
      "           movie_title  Venezuela  Colombia  Bolivia  Uruguay  Peru  Paraguay  \\\n",
      "0             Iron Man       1.89      1.73     0.15     0.07  1.52       NaN   \n",
      "1  The Incredible Hulk       1.31      0.75     0.07     0.02  1.19       NaN   \n",
      "2           Iron Man 2       1.90      1.28     0.31     0.10  1.86       NaN   \n",
      "\n",
      "   Chile  Ecuador  Argentina  Brazil  Other_South_American_Countries  \n",
      "0   1.38     0.93       1.61   13.50                            1.37  \n",
      "1   0.34     0.38       0.94    4.89                            0.70  \n",
      "2   1.45     1.24       2.57   15.84                            6.57  \n",
      "\n"
     ]
    }
   ],
   "source": [
    "print( asia_info.head(3), end=\"\\n\\n\" )\n",
    "print( europe_info.head(3), end=\"\\n\\n\" )\n",
    "print( middle_east_info.head(3), end=\"\\n\\n\" )\n",
    "print( north_america_info.head(3), end=\"\\n\\n\" )\n",
    "print( south_america_info.head(3), end=\"\\n\\n\" )"
   ]
  },
  {
   "cell_type": "code",
   "execution_count": 5,
   "metadata": {},
   "outputs": [
    {
     "data": {
      "text/html": [
       "<div>\n",
       "<style scoped>\n",
       "    .dataframe tbody tr th:only-of-type {\n",
       "        vertical-align: middle;\n",
       "    }\n",
       "\n",
       "    .dataframe tbody tr th {\n",
       "        vertical-align: top;\n",
       "    }\n",
       "\n",
       "    .dataframe thead th {\n",
       "        text-align: right;\n",
       "    }\n",
       "</style>\n",
       "<table border=\"1\" class=\"dataframe\">\n",
       "  <thead>\n",
       "    <tr style=\"text-align: right;\">\n",
       "      <th></th>\n",
       "      <th>movie_title</th>\n",
       "      <th>South Korea</th>\n",
       "      <th>Russia/CIS</th>\n",
       "      <th>Japan</th>\n",
       "      <th>Thailand</th>\n",
       "      <th>Indonesia</th>\n",
       "      <th>India</th>\n",
       "      <th>Taiwan</th>\n",
       "      <th>Philippines</th>\n",
       "      <th>Singapore</th>\n",
       "      <th>Vietnam</th>\n",
       "      <th>Malaysia</th>\n",
       "      <th>Hong Kong</th>\n",
       "      <th>New Zealand</th>\n",
       "      <th>Australia</th>\n",
       "      <th>China</th>\n",
       "      <th>Other_Asia_Pacific_Countries</th>\n",
       "    </tr>\n",
       "  </thead>\n",
       "  <tbody>\n",
       "    <tr>\n",
       "      <th>0</th>\n",
       "      <td>Iron Man</td>\n",
       "      <td>25.17</td>\n",
       "      <td>9.49</td>\n",
       "      <td>8.66</td>\n",
       "      <td>2.45</td>\n",
       "      <td>2.15</td>\n",
       "      <td>1.99</td>\n",
       "      <td>5.37</td>\n",
       "      <td>3.99</td>\n",
       "      <td>3.82</td>\n",
       "      <td>NaN</td>\n",
       "      <td>3.47</td>\n",
       "      <td>2.84</td>\n",
       "      <td>2.73</td>\n",
       "      <td>19.09</td>\n",
       "      <td>15.27</td>\n",
       "      <td>1.37</td>\n",
       "    </tr>\n",
       "    <tr>\n",
       "      <th>1</th>\n",
       "      <td>The Incredible Hulk</td>\n",
       "      <td>6.38</td>\n",
       "      <td>6.41</td>\n",
       "      <td>1.69</td>\n",
       "      <td>1.18</td>\n",
       "      <td>1.50</td>\n",
       "      <td>3.14</td>\n",
       "      <td>1.94</td>\n",
       "      <td>2.07</td>\n",
       "      <td>1.84</td>\n",
       "      <td>0.16</td>\n",
       "      <td>2.28</td>\n",
       "      <td>1.60</td>\n",
       "      <td>0.88</td>\n",
       "      <td>4.55</td>\n",
       "      <td>9.34</td>\n",
       "      <td>0.70</td>\n",
       "    </tr>\n",
       "    <tr>\n",
       "      <th>2</th>\n",
       "      <td>Iron Man 2</td>\n",
       "      <td>27.10</td>\n",
       "      <td>14.76</td>\n",
       "      <td>12.83</td>\n",
       "      <td>4.62</td>\n",
       "      <td>4.49</td>\n",
       "      <td>1.23</td>\n",
       "      <td>4.04</td>\n",
       "      <td>6.25</td>\n",
       "      <td>4.19</td>\n",
       "      <td>NaN</td>\n",
       "      <td>4.64</td>\n",
       "      <td>3.76</td>\n",
       "      <td>2.70</td>\n",
       "      <td>22.42</td>\n",
       "      <td>7.92</td>\n",
       "      <td>6.57</td>\n",
       "    </tr>\n",
       "    <tr>\n",
       "      <th>3</th>\n",
       "      <td>Thor</td>\n",
       "      <td>14.79</td>\n",
       "      <td>16.54</td>\n",
       "      <td>5.74</td>\n",
       "      <td>2.32</td>\n",
       "      <td>0.27</td>\n",
       "      <td>1.00</td>\n",
       "      <td>5.83</td>\n",
       "      <td>4.03</td>\n",
       "      <td>4.25</td>\n",
       "      <td>NaN</td>\n",
       "      <td>3.73</td>\n",
       "      <td>2.49</td>\n",
       "      <td>1.90</td>\n",
       "      <td>20.14</td>\n",
       "      <td>NaN</td>\n",
       "      <td>5.29</td>\n",
       "    </tr>\n",
       "    <tr>\n",
       "      <th>4</th>\n",
       "      <td>Captain America: The First Avenger</td>\n",
       "      <td>3.81</td>\n",
       "      <td>8.64</td>\n",
       "      <td>3.43</td>\n",
       "      <td>2.48</td>\n",
       "      <td>2.05</td>\n",
       "      <td>0.12</td>\n",
       "      <td>6.32</td>\n",
       "      <td>3.58</td>\n",
       "      <td>3.56</td>\n",
       "      <td>0.60</td>\n",
       "      <td>3.00</td>\n",
       "      <td>2.50</td>\n",
       "      <td>1.47</td>\n",
       "      <td>11.11</td>\n",
       "      <td>NaN</td>\n",
       "      <td>3.84</td>\n",
       "    </tr>\n",
       "  </tbody>\n",
       "</table>\n",
       "</div>"
      ],
      "text/plain": [
       "                          movie_title  South Korea  Russia/CIS  Japan  \\\n",
       "0                            Iron Man        25.17        9.49   8.66   \n",
       "1                 The Incredible Hulk         6.38        6.41   1.69   \n",
       "2                          Iron Man 2        27.10       14.76  12.83   \n",
       "3                                Thor        14.79       16.54   5.74   \n",
       "4  Captain America: The First Avenger         3.81        8.64   3.43   \n",
       "\n",
       "   Thailand  Indonesia  India  Taiwan  Philippines  Singapore  Vietnam  \\\n",
       "0      2.45       2.15   1.99    5.37         3.99       3.82      NaN   \n",
       "1      1.18       1.50   3.14    1.94         2.07       1.84     0.16   \n",
       "2      4.62       4.49   1.23    4.04         6.25       4.19      NaN   \n",
       "3      2.32       0.27   1.00    5.83         4.03       4.25      NaN   \n",
       "4      2.48       2.05   0.12    6.32         3.58       3.56     0.60   \n",
       "\n",
       "   Malaysia  Hong Kong  New Zealand  Australia  China  \\\n",
       "0      3.47       2.84         2.73      19.09  15.27   \n",
       "1      2.28       1.60         0.88       4.55   9.34   \n",
       "2      4.64       3.76         2.70      22.42   7.92   \n",
       "3      3.73       2.49         1.90      20.14    NaN   \n",
       "4      3.00       2.50         1.47      11.11    NaN   \n",
       "\n",
       "   Other_Asia_Pacific_Countries  \n",
       "0                          1.37  \n",
       "1                          0.70  \n",
       "2                          6.57  \n",
       "3                          5.29  \n",
       "4                          3.84  "
      ]
     },
     "execution_count": 5,
     "metadata": {},
     "output_type": "execute_result"
    }
   ],
   "source": [
    "asia_info.head()"
   ]
  },
  {
   "cell_type": "markdown",
   "metadata": {},
   "source": [
    "### 시각화"
   ]
  },
  {
   "cell_type": "code",
   "execution_count": 7,
   "metadata": {},
   "outputs": [
    {
     "data": {
      "text/plain": [
       "(array([3., 5., 5., 5., 2., 4., 1., 1., 0., 1.]),\n",
       " array([  3.81 ,  13.977,  24.144,  34.311,  44.478,  54.645,  64.812,\n",
       "         74.979,  85.146,  95.313, 105.48 ]),\n",
       " <BarContainer object of 10 artists>)"
      ]
     },
     "execution_count": 7,
     "metadata": {},
     "output_type": "execute_result"
    },
    {
     "data": {
      "image/png": "[encoded data removed]",
      "text/plain": [
       "<Figure size 432x288 with 1 Axes>"
      ]
     },
     "metadata": {
      "needs_background": "light"
     },
     "output_type": "display_data"
    }
   ],
   "source": [
    "# 한국의 수치 히스토그램\n",
    "plt.hist(asia_info['South Korea'])"
   ]
  },
  {
   "cell_type": "code",
   "execution_count": 9,
   "metadata": {},
   "outputs": [
    {
     "name": "stdout",
     "output_type": "stream",
     "text": [
      "<class 'pandas.core.frame.DataFrame'>\n",
      "RangeIndex: 27 entries, 0 to 26\n",
      "Data columns (total 17 columns):\n",
      " #   Column                        Non-Null Count  Dtype  \n",
      "---  ------                        --------------  -----  \n",
      " 0   movie_title                   27 non-null     object \n",
      " 1   South Korea                   27 non-null     float64\n",
      " 2   Russia/CIS                    27 non-null     float64\n",
      " 3   Japan                         27 non-null     float64\n",
      " 4   Thailand                      27 non-null     float64\n",
      " 5   Indonesia                     20 non-null     float64\n",
      " 6   India                         26 non-null     float64\n",
      " 7   Taiwan                        23 non-null     float64\n",
      " 8   Philippines                   25 non-null     float64\n",
      " 9   Singapore                     26 non-null     float64\n",
      " 10  Vietnam                       13 non-null     float64\n",
      " 11  Malaysia                      27 non-null     float64\n",
      " 12  Hong Kong                     27 non-null     float64\n",
      " 13  New Zealand                   27 non-null     float64\n",
      " 14  Australia                     27 non-null     float64\n",
      " 15  China                         21 non-null     float64\n",
      " 16  Other_Asia_Pacific_Countries  27 non-null     float64\n",
      "dtypes: float64(16), object(1)\n",
      "memory usage: 3.7+ KB\n"
     ]
    }
   ],
   "source": [
    "asia_info.info()"
   ]
  },
  {
   "cell_type": "markdown",
   "metadata": {},
   "source": [
    "### 아시아 국가의 관객수를 시각화 해보자."
   ]
  },
  {
   "cell_type": "markdown",
   "metadata": {},
   "source": [
    "### 관객수를 전부 더해서 마지막 행 더하기"
   ]
  },
  {
   "cell_type": "code",
   "execution_count": 35,
   "metadata": {},
   "outputs": [
    {
     "data": {
      "text/plain": [
       "movie_title                     Iron ManThe Incredible HulkIron Man 2ThorCapta...\n",
       "South Korea                                                               1058.58\n",
       "Russia/CIS                                                                 601.31\n",
       "Japan                                                                      459.46\n",
       "Thailand                                                                   183.87\n",
       "Indonesia                                                                   225.3\n",
       "India                                                                      303.99\n",
       "Taiwan                                                                      256.8\n",
       "Philippines                                                                227.72\n",
       "Singapore                                                                  163.31\n",
       "Vietnam                                                                     37.21\n",
       "Malaysia                                                                   210.73\n",
       "Hong Kong                                                                   248.6\n",
       "New Zealand                                                                 90.75\n",
       "Australia                                                                  683.18\n",
       "China                                                                     3029.94\n",
       "Other_Asia_Pacific_Countries                                               199.44\n",
       "dtype: object"
      ]
     },
     "execution_count": 35,
     "metadata": {},
     "output_type": "execute_result"
    }
   ],
   "source": [
    "dat = asia_info.sum()\n",
    "dat"
   ]
  },
  {
   "cell_type": "code",
   "execution_count": 36,
   "metadata": {},
   "outputs": [
    {
     "data": {
      "text/plain": [
       "Index(['movie_title', 'South Korea', 'Russia/CIS', 'Japan', 'Thailand',\n",
       "       'Indonesia', 'India', 'Taiwan', 'Philippines', 'Singapore', 'Vietnam',\n",
       "       'Malaysia', 'Hong Kong', 'New Zealand', 'Australia', 'China',\n",
       "       'Other_Asia_Pacific_Countries'],\n",
       "      dtype='object')"
      ]
     },
     "execution_count": 36,
     "metadata": {},
     "output_type": "execute_result"
    }
   ],
   "source": [
    "dat.index"
   ]
  },
  {
   "cell_type": "code",
   "execution_count": 37,
   "metadata": {},
   "outputs": [
    {
     "data": {
      "text/plain": [
       "South Korea                     1058.58\n",
       "Russia/CIS                       601.31\n",
       "Japan                            459.46\n",
       "Thailand                         183.87\n",
       "Indonesia                         225.3\n",
       "India                            303.99\n",
       "Taiwan                            256.8\n",
       "Philippines                      227.72\n",
       "Singapore                        163.31\n",
       "Vietnam                           37.21\n",
       "Malaysia                         210.73\n",
       "Hong Kong                         248.6\n",
       "New Zealand                       90.75\n",
       "Australia                        683.18\n",
       "China                           3029.94\n",
       "Other_Asia_Pacific_Countries     199.44\n",
       "dtype: object"
      ]
     },
     "execution_count": 37,
     "metadata": {},
     "output_type": "execute_result"
    }
   ],
   "source": [
    "### 1행부터 끝까지\n",
    "dat = dat.iloc[1:]\n",
    "dat"
   ]
  },
  {
   "cell_type": "code",
   "execution_count": 38,
   "metadata": {},
   "outputs": [
    {
     "data": {
      "text/plain": [
       "China                           3029.94\n",
       "South Korea                     1058.58\n",
       "Australia                        683.18\n",
       "Russia/CIS                       601.31\n",
       "Japan                            459.46\n",
       "India                            303.99\n",
       "Taiwan                            256.8\n",
       "Hong Kong                         248.6\n",
       "Philippines                      227.72\n",
       "Indonesia                         225.3\n",
       "Malaysia                         210.73\n",
       "Other_Asia_Pacific_Countries     199.44\n",
       "Thailand                         183.87\n",
       "Singapore                        163.31\n",
       "New Zealand                       90.75\n",
       "Vietnam                           37.21\n",
       "dtype: object"
      ]
     },
     "execution_count": 38,
     "metadata": {},
     "output_type": "execute_result"
    }
   ],
   "source": [
    "dat.sort_values(ascending=False)"
   ]
  },
  {
   "cell_type": "markdown",
   "metadata": {},
   "source": [
    "### 관객수 많은 5개국을 boxplot 확인"
   ]
  },
  {
   "cell_type": "code",
   "execution_count": 39,
   "metadata": {},
   "outputs": [
    {
     "data": {
      "text/plain": [
       "{'whiskers': [<matplotlib.lines.Line2D at 0x209dcc5dd90>,\n",
       "  <matplotlib.lines.Line2D at 0x209dcc78130>,\n",
       "  <matplotlib.lines.Line2D at 0x209dcc835b0>,\n",
       "  <matplotlib.lines.Line2D at 0x209dcc83910>,\n",
       "  <matplotlib.lines.Line2D at 0x209dcf9bdc0>,\n",
       "  <matplotlib.lines.Line2D at 0x209dcfb6160>,\n",
       "  <matplotlib.lines.Line2D at 0x209dcfcc5e0>,\n",
       "  <matplotlib.lines.Line2D at 0x209dcfcc940>,\n",
       "  <matplotlib.lines.Line2D at 0x209dd017df0>,\n",
       "  <matplotlib.lines.Line2D at 0x209dd034190>],\n",
       " 'caps': [<matplotlib.lines.Line2D at 0x209dcc78490>,\n",
       "  <matplotlib.lines.Line2D at 0x209dcc787f0>,\n",
       "  <matplotlib.lines.Line2D at 0x209dcc83c70>,\n",
       "  <matplotlib.lines.Line2D at 0x209dcc83fd0>,\n",
       "  <matplotlib.lines.Line2D at 0x209dcfb64c0>,\n",
       "  <matplotlib.lines.Line2D at 0x209dcfb6820>,\n",
       "  <matplotlib.lines.Line2D at 0x209dcfcccd0>,\n",
       "  <matplotlib.lines.Line2D at 0x209dd017070>,\n",
       "  <matplotlib.lines.Line2D at 0x209dd0344f0>,\n",
       "  <matplotlib.lines.Line2D at 0x209dd034850>],\n",
       " 'boxes': [<matplotlib.lines.Line2D at 0x209dcc5db50>,\n",
       "  <matplotlib.lines.Line2D at 0x209dcc83250>,\n",
       "  <matplotlib.lines.Line2D at 0x209dcf9ba30>,\n",
       "  <matplotlib.lines.Line2D at 0x209dcfcc280>,\n",
       "  <matplotlib.lines.Line2D at 0x209dd017a90>],\n",
       " 'medians': [<matplotlib.lines.Line2D at 0x209dcc78b50>,\n",
       "  <matplotlib.lines.Line2D at 0x209dcf9b370>,\n",
       "  <matplotlib.lines.Line2D at 0x209dcfb6b80>,\n",
       "  <matplotlib.lines.Line2D at 0x209dd0173d0>,\n",
       "  <matplotlib.lines.Line2D at 0x209dd034bb0>],\n",
       " 'fliers': [<matplotlib.lines.Line2D at 0x209dcc78eb0>,\n",
       "  <matplotlib.lines.Line2D at 0x209dcf9b6d0>,\n",
       "  <matplotlib.lines.Line2D at 0x209dcfb6ee0>,\n",
       "  <matplotlib.lines.Line2D at 0x209dd017730>,\n",
       "  <matplotlib.lines.Line2D at 0x209dd034f10>],\n",
       " 'means': []}"
      ]
     },
     "execution_count": 39,
     "metadata": {},
     "output_type": "execute_result"
    },
    {
     "data": {
      "image/png": "[encoded data removed]",
      "text/plain": [
       "<Figure size 432x288 with 1 Axes>"
      ]
     },
     "metadata": {
      "needs_background": "light"
     },
     "output_type": "display_data"
    }
   ],
   "source": [
    "plt.boxplot( [asia_info['China'], asia_info['South Korea'], \n",
    "              asia_info['Australia'], asia_info['Russia/CIS'], \n",
    "              asia_info['Japan'] ],\n",
    "             labels=['China', 'South Korea', 'Australia', 'Russia/CIS', 'Japan'])"
   ]
  },
  {
   "cell_type": "markdown",
   "metadata": {},
   "source": [
    "* china는 결측치가 있어 표시가 되지 않음."
   ]
  },
  {
   "cell_type": "markdown",
   "metadata": {},
   "source": [
    "### movie info를 이용한 선형회귀 모델 구축"
   ]
  },
  {
   "cell_type": "code",
   "execution_count": 7,
   "metadata": {},
   "outputs": [
    {
     "name": "stdout",
     "output_type": "stream",
     "text": [
      "<class 'pandas.core.frame.DataFrame'>\n",
      "RangeIndex: 27 entries, 0 to 26\n",
      "Data columns (total 11 columns):\n",
      " #   Column                                 Non-Null Count  Dtype  \n",
      "---  ------                                 --------------  -----  \n",
      " 0   movie_title                            27 non-null     object \n",
      " 1   release_date                           27 non-null     object \n",
      " 2   season                                 27 non-null     object \n",
      " 3   phase                                  27 non-null     int64  \n",
      " 4   production_budget_in_million_(USD)     27 non-null     int64  \n",
      " 5   worldwide_collection_in_million_(USD)  27 non-null     float64\n",
      " 6   tomatometer                            27 non-null     float64\n",
      " 7   tomato_audience_score                  27 non-null     float64\n",
      " 8   imdb                                   27 non-null     float64\n",
      " 9   metascore                              27 non-null     float64\n",
      " 10  meta_user_score                        27 non-null     float64\n",
      "dtypes: float64(6), int64(2), object(3)\n",
      "memory usage: 2.4+ KB\n"
     ]
    }
   ],
   "source": [
    "mov_info.info()"
   ]
  },
  {
   "cell_type": "code",
   "execution_count": 8,
   "metadata": {},
   "outputs": [],
   "source": [
    "from sklearn.model_selection import train_test_split\n",
    "from sklearn.linear_model import LinearRegression"
   ]
  },
  {
   "cell_type": "code",
   "execution_count": 9,
   "metadata": {},
   "outputs": [
    {
     "data": {
      "text/html": [
       "<div>\n",
       "<style scoped>\n",
       "    .dataframe tbody tr th:only-of-type {\n",
       "        vertical-align: middle;\n",
       "    }\n",
       "\n",
       "    .dataframe tbody tr th {\n",
       "        vertical-align: top;\n",
       "    }\n",
       "\n",
       "    .dataframe thead th {\n",
       "        text-align: right;\n",
       "    }\n",
       "</style>\n",
       "<table border=\"1\" class=\"dataframe\">\n",
       "  <thead>\n",
       "    <tr style=\"text-align: right;\">\n",
       "      <th></th>\n",
       "      <th>movie_title</th>\n",
       "      <th>release_date</th>\n",
       "      <th>season</th>\n",
       "      <th>phase</th>\n",
       "      <th>production_budget_in_million_(USD)</th>\n",
       "      <th>worldwide_collection_in_million_(USD)</th>\n",
       "      <th>tomatometer</th>\n",
       "      <th>tomato_audience_score</th>\n",
       "      <th>imdb</th>\n",
       "      <th>metascore</th>\n",
       "      <th>meta_user_score</th>\n",
       "    </tr>\n",
       "  </thead>\n",
       "  <tbody>\n",
       "    <tr>\n",
       "      <th>0</th>\n",
       "      <td>Iron Man</td>\n",
       "      <td>May 2, 2008</td>\n",
       "      <td>Spring</td>\n",
       "      <td>1</td>\n",
       "      <td>140</td>\n",
       "      <td>585.37</td>\n",
       "      <td>9.4</td>\n",
       "      <td>9.1</td>\n",
       "      <td>7.9</td>\n",
       "      <td>7.9</td>\n",
       "      <td>8.6</td>\n",
       "    </tr>\n",
       "    <tr>\n",
       "      <th>1</th>\n",
       "      <td>The Incredible Hulk</td>\n",
       "      <td>June 13, 2008</td>\n",
       "      <td>Spring</td>\n",
       "      <td>1</td>\n",
       "      <td>150</td>\n",
       "      <td>264.77</td>\n",
       "      <td>6.7</td>\n",
       "      <td>7.0</td>\n",
       "      <td>6.6</td>\n",
       "      <td>6.1</td>\n",
       "      <td>7.0</td>\n",
       "    </tr>\n",
       "    <tr>\n",
       "      <th>2</th>\n",
       "      <td>Iron Man 2</td>\n",
       "      <td>May 7, 2010</td>\n",
       "      <td>Spring</td>\n",
       "      <td>1</td>\n",
       "      <td>200</td>\n",
       "      <td>623.93</td>\n",
       "      <td>7.2</td>\n",
       "      <td>7.1</td>\n",
       "      <td>6.9</td>\n",
       "      <td>5.7</td>\n",
       "      <td>6.4</td>\n",
       "    </tr>\n",
       "    <tr>\n",
       "      <th>3</th>\n",
       "      <td>Thor</td>\n",
       "      <td>May 6, 2011</td>\n",
       "      <td>Spring</td>\n",
       "      <td>1</td>\n",
       "      <td>150</td>\n",
       "      <td>449.33</td>\n",
       "      <td>7.7</td>\n",
       "      <td>7.6</td>\n",
       "      <td>7.0</td>\n",
       "      <td>5.7</td>\n",
       "      <td>7.1</td>\n",
       "    </tr>\n",
       "    <tr>\n",
       "      <th>4</th>\n",
       "      <td>Captain America: The First Avenger</td>\n",
       "      <td>July 22, 2011</td>\n",
       "      <td>Summer</td>\n",
       "      <td>1</td>\n",
       "      <td>140</td>\n",
       "      <td>370.57</td>\n",
       "      <td>7.9</td>\n",
       "      <td>7.5</td>\n",
       "      <td>6.9</td>\n",
       "      <td>6.6</td>\n",
       "      <td>6.8</td>\n",
       "    </tr>\n",
       "  </tbody>\n",
       "</table>\n",
       "</div>"
      ],
      "text/plain": [
       "                          movie_title   release_date  season  phase  \\\n",
       "0                            Iron Man    May 2, 2008  Spring      1   \n",
       "1                 The Incredible Hulk  June 13, 2008  Spring      1   \n",
       "2                          Iron Man 2    May 7, 2010  Spring      1   \n",
       "3                                Thor    May 6, 2011  Spring      1   \n",
       "4  Captain America: The First Avenger  July 22, 2011  Summer      1   \n",
       "\n",
       "   production_budget_in_million_(USD)  worldwide_collection_in_million_(USD)  \\\n",
       "0                                 140                                 585.37   \n",
       "1                                 150                                 264.77   \n",
       "2                                 200                                 623.93   \n",
       "3                                 150                                 449.33   \n",
       "4                                 140                                 370.57   \n",
       "\n",
       "   tomatometer  tomato_audience_score  imdb  metascore  meta_user_score  \n",
       "0          9.4                    9.1   7.9        7.9              8.6  \n",
       "1          6.7                    7.0   6.6        6.1              7.0  \n",
       "2          7.2                    7.1   6.9        5.7              6.4  \n",
       "3          7.7                    7.6   7.0        5.7              7.1  \n",
       "4          7.9                    7.5   6.9        6.6              6.8  "
      ]
     },
     "execution_count": 9,
     "metadata": {},
     "output_type": "execute_result"
    }
   ],
   "source": [
    "mov_info.head()"
   ]
  },
  {
   "cell_type": "markdown",
   "metadata": {},
   "source": [
    "* meta_user_score 사용자 예측 모델"
   ]
  },
  {
   "cell_type": "code",
   "execution_count": 10,
   "metadata": {},
   "outputs": [
    {
     "data": {
      "text/plain": [
       "Index(['movie_title', 'release_date', 'season', 'phase',\n",
       "       'production_budget_in_million_(USD)',\n",
       "       'worldwide_collection_in_million_(USD)', 'tomatometer',\n",
       "       'tomato_audience_score', 'imdb', 'metascore', 'meta_user_score'],\n",
       "      dtype='object')"
      ]
     },
     "execution_count": 10,
     "metadata": {},
     "output_type": "execute_result"
    }
   ],
   "source": [
    "mov_info.columns"
   ]
  },
  {
   "cell_type": "code",
   "execution_count": 11,
   "metadata": {},
   "outputs": [
    {
     "data": {
      "text/plain": [
       "((24, 6), (3, 6))"
      ]
     },
     "execution_count": 11,
     "metadata": {},
     "output_type": "execute_result"
    }
   ],
   "source": [
    "sel = [ 'production_budget_in_million_(USD)',\n",
    "       'worldwide_collection_in_million_(USD)', 'tomatometer',\n",
    "       'tomato_audience_score', 'imdb', 'metascore'  ]\n",
    "\n",
    "X = mov_info[sel]\n",
    "y = mov_info['meta_user_score']\n",
    "\n",
    "X_train, X_test, y_train, y_test = train_test_split(X, y, test_size=0.1, random_state=0)\n",
    "\n",
    "X_train.shape, X_test.shape"
   ]
  },
  {
   "cell_type": "code",
   "execution_count": 16,
   "metadata": {},
   "outputs": [
    {
     "name": "stdout",
     "output_type": "stream",
     "text": [
      "-0.7185104879973476\n"
     ]
    }
   ],
   "source": [
    "model = LinearRegression()\n",
    "model.fit(X_train, y_train)\n",
    "pred = model.predict(X_test)\n",
    "\n",
    "print( model.score(X_test, y_test) )"
   ]
  },
  {
   "cell_type": "code",
   "execution_count": 13,
   "metadata": {},
   "outputs": [
    {
     "data": {
      "text/plain": [
       "0.5613800927457998"
      ]
     },
     "execution_count": 13,
     "metadata": {},
     "output_type": "execute_result"
    }
   ],
   "source": [
    "### MSE 구하기\n",
    "np.mean(  (pred - y_test)**2 )"
   ]
  },
  {
   "cell_type": "code",
   "execution_count": 14,
   "metadata": {},
   "outputs": [
    {
     "data": {
      "text/plain": [
       "0.47688356031118584"
      ]
     },
     "execution_count": 14,
     "metadata": {},
     "output_type": "execute_result"
    }
   ],
   "source": [
    "### MAE 구하기\n",
    "np.mean(  np.abs(pred - y_test) )"
   ]
  }
 ],
 "metadata": {
  "interpreter": {
   "hash": "3789b709586ab3c84dbe4cd6b2b217a75236b173611b20c9c6e52b91ec402512"
  },
  "kernelspec": {
   "display_name": "Python 3",
   "language": "python",
   "name": "python3"
  },
  "language_info": {
   "codemirror_mode": {
    "name": "ipython",
    "version": 3
   },
   "file_extension": ".py",
   "mimetype": "text/x-python",
   "name": "python",
   "nbconvert_exporter": "python",
   "pygments_lexer": "ipython3",
   "version": "3.8.5"
  }
 },
 "nbformat": 4,
 "nbformat_minor": 4
}
